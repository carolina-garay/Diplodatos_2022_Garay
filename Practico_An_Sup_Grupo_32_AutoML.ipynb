{
  "cells": [
    {
      "cell_type": "markdown",
      "metadata": {
        "id": "view-in-github",
        "colab_type": "text"
      },
      "source": [
        "<a href=\"https://colab.research.google.com/github/carolina-garay/Diplodatos_2022_Garay/blob/AutoML/Practico_An_Sup_Grupo_32_AutoML.ipynb\" target=\"_parent\"><img src=\"https://colab.research.google.com/assets/colab-badge.svg\" alt=\"Open In Colab\"/></a>"
      ]
    },
    {
      "cell_type": "markdown",
      "metadata": {
        "id": "8vMat4qYuXSG"
      },
      "source": [
        "# DiploDatos Kaggle Competition"
      ]
    },
    {
      "cell_type": "markdown",
      "metadata": {
        "id": "cAyjxsiWuXSJ"
      },
      "source": [
        "Presentamos un código creado como ejemplo de base para la competición.\n",
        "\n",
        "Deben:\n",
        "\n",
        "- Explorar los datos y aprender de ellos.\n",
        "- Probar diferentes modelos y ver cuáles ajustan mejor dado los datos.\n",
        "- **Obtener una accuracy mejor que la que se presenta en este ejemplo.**\n",
        "- Tratar de obtener la accuracy más alta posible!\n",
        "- Discutir la elección de modelo.\n",
        "\n",
        "El análisis exploratorio y el preprocesamiento de los datos queda a libertad de cada grupo y no deben quedarse con este simple ejemplo."
      ]
    },
    {
      "cell_type": "markdown",
      "source": [
        "\n",
        "##<font color='blue'>**Grupo 32**</font>\n",
        "\n",
        "\n",
        "<font color='blue'>Integrantes:\n",
        "\n",
        "- Garay, Carolina del Valle\n",
        "- Ormaechea, Sebastián Gabriel\n",
        "- Ramos, Pablo Nicolás \n",
        "</font>\n",
        "\n",
        "En esta competencia, el objetivo es predecir si los pasajeros del conjunto de datos \"test.csv\" fueron transportados a una dimensión alternativa durante la colisión de la nave espacial Titanic con una anomalía del espacio-tiempo. Para ayudarlos a hacer estas predicciones, se les proporciona el conjunto de datos de los registros personales recuperados de la computadora dañada de la nave\n",
        "\n",
        "train.csv Datos sobre gran parte de los pasajeros, a ser usados para entrenamiento.\n",
        "\n",
        "-PassengerId - Un identificador para cada pasajero.\n",
        "\n",
        "-HomePlanet - El planeta del cual partió el pasajero. Típicamente su planeta de residencia permanente.\n",
        "\n",
        "-CryoSleep - Indica si el pasajero fue electo a ser puesto en suspensión animada durante la duración del viaje. Los pasajeros en CryoSleep están confinados a sus cabinas.\n",
        "\n",
        "-Cabin - El número de cabina en donde el pasajero se está quedando. Toma la forma piso/número/lado, donde el lado puede ser P por Port oS por Starboard.\n",
        "\n",
        "-Destination - El destino en donde va a desembarcar el pasajero.\n",
        "\n",
        "-Age - La edad del pasajero.\n",
        "\n",
        "-VIP - Si el pasajero pagó por servicios VIP durante el viaje.\n",
        "\n",
        "-RoomService, FoodCourt, ShoppingMall, Spa, VRDeck - Cantidad que el pasajero ha gastado en cada una de las comodidades de lujo del Spaceship Titanic.\n",
        "\n",
        "-Name - El nombre y apellido de cada pasajero.\n",
        "\n",
        "-Transported - Si el pasajero fue transportado a otra dimensión o no. Esta es la columna target, la columna a predecir.\n",
        "\n",
        "test.csv Records personales de los restantes pasajeros, a ser utilizados como datos nuevos desconocidos. Tu objetivo es predecir si cada pasajero de este conjunto fue transportado a otra dimensión o no (variable \"Transported\").\n",
        "\n",
        "Deben subir el siguiente archivo: sample_submission.csv El archivo que deben entregar con las predicciones del conjunto test.csv . Debe tener dos columnas, una con el \"PassengerId\" y otra con el valor de la predicción en la columna \"Transported\" (0 si no fue transportado y 1 si fue transportado).\n",
        "\n",
        "En el github de la materia hay un ejemplo de baseline para esta competencia.\n",
        "\n",
        "Presentamos un código creado como ejemplo de base para la competición.\n",
        "\n",
        "Deben:\n",
        "\n",
        "Explorar los datos y aprender de ellos. Probar diferentes modelos y ver cuáles ajustan mejor dado los datos. Obtener una accuracy mejor que la que se presenta en este ejemplo. Tratar de obtener la accuracy más alta posible! Discutir la elección de modelo. El análisis exploratorio y el preprocesamiento de los datos queda a libertad de cada grupo y no deben quedarse con este simple ejemplo."
      ],
      "metadata": {
        "id": "0AitFtI4mbTD"
      }
    },
    {
      "cell_type": "markdown",
      "source": [
        "##<font color='blue'>**Análisis Exploratorio y Curación de datos**\n",
        "\n",
        "En esta etapa se realizó una exploración de la base de datos a fin de determinar las mejores opciones de curación y conocer el comportamiento de las variables frente a la variable objetivo. La ejecución de los métodos de curación, permitió acondicionar los datos previo a la etapa de modelado.\n",
        "\n",
        "<font color='blue'>**Actividades de exploración:**\n",
        "\n",
        "*   Corroboración de registros duplicados\n",
        "*   Inspección de outliers y datos anómalos mediante gráficas boxplot\n",
        "*   Inspección de datos faltantes y analisis de correspondencia, mediante métodos gráficos de librería missingno\n",
        "*   Evaluación gráfica de la relación de las variables cuantitativas y cualitativas frente al target, mediante gráficas relplot y crosstab\n",
        "\n",
        "<font color='blue'>**Interpretación del análisis exploratorio:**\n",
        "\n",
        "No se encontraron registros duplicados ni datos anómalos. Los outliers visibles mediante boxplot, se encontraron dentro del rango esperado por lo que se conservaron para el análisis posterior. Se encontraron bajos porcentajes de datos faltantes y sin correspondencia entre variables. El análisis de la relación entre las variables explicativas y el target, no detectó ninguna que explique en forma definitiva el comportamiento de la variable respuesta (Transportados-No transportados). Se observó una correlación relevante solo entre dos pares de categorías correspondientes a las variables \"Destination\" y \"Lado\". Esta última variable, deriva de la variable original \"Cabin\".\n",
        "\n",
        "\n",
        "<font color='blue'>**Actividades de curación o preprocesamiento de datos:**\n",
        "\n",
        "*   Subdivisión de la columna \"Cabin\" para poder utilizar sus características como variables independientes\n",
        "*   Imputación de valores faltantes en variables categóricas y booleanas mediante SipmpleImputer y el valor más frecuente\n",
        "*   Imputación de valores faltantes en variables cuantitativas mediante K-Nearest Neighbours\n",
        "*   Escalamiento de datos cuantitativos mediante Robust Scaler para controlar outliers\n",
        "*   Codificación de datos categóricos mediante creación de nuevas columnas binarias con la herramienta pd.get_dummies\n",
        "*   Evaluación de la correlación post-curación entre variables mediante heatmap\n",
        "*   Evaluación de la capacidad predictiva de las variables post-curación mediante SelectKBest de Scikit-learn\n",
        "\n",
        "\n",
        "\n",
        "\n",
        "\n",
        "\n",
        "\n",
        "\n",
        "\n",
        "\n",
        "\n"
      ],
      "metadata": {
        "id": "qPL2BdKjoItX"
      }
    },
    {
      "cell_type": "markdown",
      "source": [
        "##<font color='blue'>**Planteo de modelos**\n",
        "\n",
        "Para esta tarea se aplicó una selección multimodelos considerando progresivamente los siguientes criterios:\n",
        "\n",
        "1.   Se probaron varios modelos bajo parámetros por defecto\n",
        "2.   Se consideró el análisis de correlación de variables y en base a ello se eliminó progresivamente primero una y después dos variables\n",
        "1.   Basado en la evaluación de la capacidad predictiva de las variables, se eliminó primero la de menor capacidad predictiva y luego las dos de menor capacidad predictiva.\n",
        "2.   Se aplicó un Random Search, considerando todas las variables y diferentes combinaciones de parámetros. \n",
        "1.   Se probó un Grid Search solo sobre el algoritmo LGBClassifier ya que fue el que mostró mejor performance. \n",
        "2.   Dado que Grid Search no aportó información relevante, se realizaron numerosas pruebas a mano a fin de encontrar la mejor combinación de hiperparámetros, incluido la prueba de distintas semillas. \n"
      ],
      "metadata": {
        "id": "-XJ0jFMr0Gc5"
      }
    },
    {
      "cell_type": "markdown",
      "source": [
        "##<font color='blue'>**Interpretación de resultados**\n",
        "\n",
        "El uso de los modelos con parámetros por defecto permitió desde el principio tener un baseline comparativo. Luego, las pruebas en base a correlación de variables y capacidad predictiva, no tuvieron efectos mejoradores en la performance de los modelos. Tampoco el uso de Random Search, incrementó el score de los modelos. Cabe destacar, que también se realizaron pruebas con Grid Search que no mostraron mejoras y además requerían varias horas de procesado. Dado los resultados anteriores, nos decantamos por el algoritmo LGBClassifier. Sobre este se realizaron suscesivas pruebas que permitieron obtener el mejor modelo contemplando la performance sobre el conjunto de test. Sin embargo, los resultados no fueron los esperados al enviarlo a la competencia de Kaggle. Por ello, continuamos haciendo pruebas con otros modelos y el uso del algoritmo Extra Tree Classiffier fue el que alcanzó el mejor resultado en Kaggle de los que hemos enviado.   "
      ],
      "metadata": {
        "id": "JpRjbUKGz8Wf"
      }
    },
    {
      "cell_type": "markdown",
      "source": [
        "##<font color='blue'>**Desarrollo**"
      ],
      "metadata": {
        "id": "QgsjSsbs0UwW"
      }
    },
    {
      "cell_type": "code",
      "source": [
        "!sudo apt-get install build-essential swig\n",
        "!curl https://raw.githubusercontent.com/automl/auto-sklearn/master/requirements.txt | xargs -n 1 -L 1 pip install\n",
        "!pip install auto-sklearn"
      ],
      "metadata": {
        "id": "-5n6sLlce8EM",
        "outputId": "7c6c7855-0884-4412-a2b1-80d0dc270865",
        "colab": {
          "base_uri": "https://localhost:8080/"
        }
      },
      "execution_count": 1,
      "outputs": [
        {
          "output_type": "stream",
          "name": "stdout",
          "text": [
            "Reading package lists... Done\n",
            "Building dependency tree       \n",
            "Reading state information... Done\n",
            "build-essential is already the newest version (12.4ubuntu1).\n",
            "The following package was automatically installed and is no longer required:\n",
            "  libnvidia-common-460\n",
            "Use 'sudo apt autoremove' to remove it.\n",
            "Suggested packages:\n",
            "  swig-doc swig-examples swig3.0-examples swig3.0-doc\n",
            "The following NEW packages will be installed:\n",
            "  swig swig3.0\n",
            "0 upgraded, 2 newly installed, 0 to remove and 7 not upgraded.\n",
            "Need to get 1,100 kB of archives.\n",
            "After this operation, 5,822 kB of additional disk space will be used.\n",
            "Get:1 http://archive.ubuntu.com/ubuntu bionic/universe amd64 swig3.0 amd64 3.0.12-1 [1,094 kB]\n",
            "Get:2 http://archive.ubuntu.com/ubuntu bionic/universe amd64 swig amd64 3.0.12-1 [6,460 B]\n",
            "Fetched 1,100 kB in 3s (386 kB/s)\n",
            "debconf: unable to initialize frontend: Dialog\n",
            "debconf: (No usable dialog-like program is installed, so the dialog based frontend cannot be used. at /usr/share/perl5/Debconf/FrontEnd/Dialog.pm line 76, <> line 2.)\n",
            "debconf: falling back to frontend: Readline\n",
            "debconf: unable to initialize frontend: Readline\n",
            "debconf: (This frontend requires a controlling tty.)\n",
            "debconf: falling back to frontend: Teletype\n",
            "dpkg-preconfigure: unable to re-open stdin: \n",
            "Selecting previously unselected package swig3.0.\n",
            "(Reading database ... 124015 files and directories currently installed.)\n",
            "Preparing to unpack .../swig3.0_3.0.12-1_amd64.deb ...\n",
            "Unpacking swig3.0 (3.0.12-1) ...\n",
            "Selecting previously unselected package swig.\n",
            "Preparing to unpack .../swig_3.0.12-1_amd64.deb ...\n",
            "Unpacking swig (3.0.12-1) ...\n",
            "Setting up swig3.0 (3.0.12-1) ...\n",
            "Setting up swig (3.0.12-1) ...\n",
            "Processing triggers for man-db (2.8.3-2ubuntu0.1) ...\n",
            "  % Total    % Received % Xferd  Average Speed   Time    Time     Time  Current\n",
            "                                 Dload  Upload   Total   Spent    Left  Speed\n",
            "100   259  100   259    0     0    505      0 --:--:-- --:--:-- --:--:--   504\n",
            "Looking in indexes: https://pypi.org/simple, https://us-python.pkg.dev/colab-wheels/public/simple/\n",
            "Requirement already satisfied: setuptools in /usr/local/lib/python3.8/dist-packages (57.4.0)\n",
            "Looking in indexes: https://pypi.org/simple, https://us-python.pkg.dev/colab-wheels/public/simple/\n",
            "Requirement already satisfied: typing_extensions in /usr/local/lib/python3.8/dist-packages (4.1.1)\n",
            "Looking in indexes: https://pypi.org/simple, https://us-python.pkg.dev/colab-wheels/public/simple/\n",
            "Collecting distro\n",
            "  Downloading distro-1.8.0-py3-none-any.whl (20 kB)\n",
            "Installing collected packages: distro\n",
            "Successfully installed distro-1.8.0\n",
            "Looking in indexes: https://pypi.org/simple, https://us-python.pkg.dev/colab-wheels/public/simple/\n",
            "Requirement already satisfied: numpy>=1.9.0 in /usr/local/lib/python3.8/dist-packages (1.21.6)\n",
            "Looking in indexes: https://pypi.org/simple, https://us-python.pkg.dev/colab-wheels/public/simple/\n",
            "Requirement already satisfied: scipy>=1.7.0 in /usr/local/lib/python3.8/dist-packages (1.7.3)\n",
            "Requirement already satisfied: numpy<1.23.0,>=1.16.5 in /usr/local/lib/python3.8/dist-packages (from scipy>=1.7.0) (1.21.6)\n",
            "Looking in indexes: https://pypi.org/simple, https://us-python.pkg.dev/colab-wheels/public/simple/\n",
            "Requirement already satisfied: joblib in /usr/local/lib/python3.8/dist-packages (1.2.0)\n",
            "Looking in indexes: https://pypi.org/simple, https://us-python.pkg.dev/colab-wheels/public/simple/\n",
            "Collecting scikit-learn<0.25.0,>=0.24.0\n",
            "  Downloading scikit_learn-0.24.2-cp38-cp38-manylinux2010_x86_64.whl (24.9 MB)\n",
            "\u001b[K     |████████████████████████████████| 24.9 MB 74.2 MB/s \n",
            "\u001b[?25hRequirement already satisfied: joblib>=0.11 in /usr/local/lib/python3.8/dist-packages (from scikit-learn<0.25.0,>=0.24.0) (1.2.0)\n",
            "Requirement already satisfied: threadpoolctl>=2.0.0 in /usr/local/lib/python3.8/dist-packages (from scikit-learn<0.25.0,>=0.24.0) (3.1.0)\n",
            "Requirement already satisfied: scipy>=0.19.1 in /usr/local/lib/python3.8/dist-packages (from scikit-learn<0.25.0,>=0.24.0) (1.7.3)\n",
            "Requirement already satisfied: numpy>=1.13.3 in /usr/local/lib/python3.8/dist-packages (from scikit-learn<0.25.0,>=0.24.0) (1.21.6)\n",
            "Installing collected packages: scikit-learn\n",
            "  Attempting uninstall: scikit-learn\n",
            "    Found existing installation: scikit-learn 1.0.2\n",
            "    Uninstalling scikit-learn-1.0.2:\n",
            "      Successfully uninstalled scikit-learn-1.0.2\n",
            "\u001b[31mERROR: pip's dependency resolver does not currently take into account all the packages that are installed. This behaviour is the source of the following dependency conflicts.\n",
            "yellowbrick 1.5 requires scikit-learn>=1.0.0, but you have scikit-learn 0.24.2 which is incompatible.\u001b[0m\n",
            "Successfully installed scikit-learn-0.24.2\n",
            "Looking in indexes: https://pypi.org/simple, https://us-python.pkg.dev/colab-wheels/public/simple/\n",
            "Requirement already satisfied: dask>=2021.12 in /usr/local/lib/python3.8/dist-packages (2022.2.0)\n",
            "Requirement already satisfied: pyyaml>=5.3.1 in /usr/local/lib/python3.8/dist-packages (from dask>=2021.12) (6.0)\n",
            "Requirement already satisfied: packaging>=20.0 in /usr/local/lib/python3.8/dist-packages (from dask>=2021.12) (21.3)\n",
            "Requirement already satisfied: partd>=0.3.10 in /usr/local/lib/python3.8/dist-packages (from dask>=2021.12) (1.3.0)\n",
            "Requirement already satisfied: toolz>=0.8.2 in /usr/local/lib/python3.8/dist-packages (from dask>=2021.12) (0.12.0)\n",
            "Requirement already satisfied: cloudpickle>=1.1.1 in /usr/local/lib/python3.8/dist-packages (from dask>=2021.12) (1.5.0)\n",
            "Requirement already satisfied: fsspec>=0.6.0 in /usr/local/lib/python3.8/dist-packages (from dask>=2021.12) (2022.11.0)\n",
            "Requirement already satisfied: pyparsing!=3.0.5,>=2.0.2 in /usr/local/lib/python3.8/dist-packages (from packaging>=20.0->dask>=2021.12) (3.0.9)\n",
            "Requirement already satisfied: locket in /usr/local/lib/python3.8/dist-packages (from partd>=0.3.10->dask>=2021.12) (1.0.0)\n",
            "Looking in indexes: https://pypi.org/simple, https://us-python.pkg.dev/colab-wheels/public/simple/\n",
            "Requirement already satisfied: distributed>=2012.12 in /usr/local/lib/python3.8/dist-packages (2022.2.0)\n",
            "Requirement already satisfied: pyyaml in /usr/local/lib/python3.8/dist-packages (from distributed>=2012.12) (6.0)\n",
            "Requirement already satisfied: tblib>=1.6.0 in /usr/local/lib/python3.8/dist-packages (from distributed>=2012.12) (1.7.0)\n",
            "Requirement already satisfied: click>=6.6 in /usr/local/lib/python3.8/dist-packages (from distributed>=2012.12) (7.1.2)\n",
            "Requirement already satisfied: zict>=0.1.3 in /usr/local/lib/python3.8/dist-packages (from distributed>=2012.12) (2.2.0)\n",
            "Requirement already satisfied: sortedcontainers!=2.0.0,!=2.0.1 in /usr/local/lib/python3.8/dist-packages (from distributed>=2012.12) (2.4.0)\n",
            "Requirement already satisfied: setuptools in /usr/local/lib/python3.8/dist-packages (from distributed>=2012.12) (57.4.0)\n",
            "Requirement already satisfied: tornado>=6.0.3 in /usr/local/lib/python3.8/dist-packages (from distributed>=2012.12) (6.0.4)\n",
            "Requirement already satisfied: packaging>=20.0 in /usr/local/lib/python3.8/dist-packages (from distributed>=2012.12) (21.3)\n",
            "Requirement already satisfied: dask==2022.02.0 in /usr/local/lib/python3.8/dist-packages (from distributed>=2012.12) (2022.2.0)\n",
            "Requirement already satisfied: cloudpickle>=1.5.0 in /usr/local/lib/python3.8/dist-packages (from distributed>=2012.12) (1.5.0)\n",
            "Requirement already satisfied: jinja2 in /usr/local/lib/python3.8/dist-packages (from distributed>=2012.12) (2.11.3)\n",
            "Requirement already satisfied: toolz>=0.8.2 in /usr/local/lib/python3.8/dist-packages (from distributed>=2012.12) (0.12.0)\n",
            "Requirement already satisfied: psutil>=5.0 in /usr/local/lib/python3.8/dist-packages (from distributed>=2012.12) (5.4.8)\n",
            "Requirement already satisfied: msgpack>=0.6.0 in /usr/local/lib/python3.8/dist-packages (from distributed>=2012.12) (1.0.4)\n",
            "Requirement already satisfied: fsspec>=0.6.0 in /usr/local/lib/python3.8/dist-packages (from dask==2022.02.0->distributed>=2012.12) (2022.11.0)\n",
            "Requirement already satisfied: partd>=0.3.10 in /usr/local/lib/python3.8/dist-packages (from dask==2022.02.0->distributed>=2012.12) (1.3.0)\n",
            "Requirement already satisfied: pyparsing!=3.0.5,>=2.0.2 in /usr/local/lib/python3.8/dist-packages (from packaging>=20.0->distributed>=2012.12) (3.0.9)\n",
            "Requirement already satisfied: locket in /usr/local/lib/python3.8/dist-packages (from partd>=0.3.10->dask==2022.02.0->distributed>=2012.12) (1.0.0)\n",
            "Requirement already satisfied: heapdict in /usr/local/lib/python3.8/dist-packages (from zict>=0.1.3->distributed>=2012.12) (1.0.1)\n",
            "Requirement already satisfied: MarkupSafe>=0.23 in /usr/local/lib/python3.8/dist-packages (from jinja2->distributed>=2012.12) (2.0.1)\n",
            "Looking in indexes: https://pypi.org/simple, https://us-python.pkg.dev/colab-wheels/public/simple/\n",
            "Requirement already satisfied: pyyaml in /usr/local/lib/python3.8/dist-packages (6.0)\n",
            "Looking in indexes: https://pypi.org/simple, https://us-python.pkg.dev/colab-wheels/public/simple/\n",
            "Requirement already satisfied: pandas>=1.0 in /usr/local/lib/python3.8/dist-packages (1.3.5)\n",
            "Requirement already satisfied: pytz>=2017.3 in /usr/local/lib/python3.8/dist-packages (from pandas>=1.0) (2022.6)\n",
            "Requirement already satisfied: python-dateutil>=2.7.3 in /usr/local/lib/python3.8/dist-packages (from pandas>=1.0) (2.8.2)\n",
            "Requirement already satisfied: numpy>=1.17.3 in /usr/local/lib/python3.8/dist-packages (from pandas>=1.0) (1.21.6)\n",
            "Requirement already satisfied: six>=1.5 in /usr/local/lib/python3.8/dist-packages (from python-dateutil>=2.7.3->pandas>=1.0) (1.15.0)\n",
            "Looking in indexes: https://pypi.org/simple, https://us-python.pkg.dev/colab-wheels/public/simple/\n",
            "Collecting liac-arff\n",
            "  Downloading liac-arff-2.5.0.tar.gz (13 kB)\n",
            "Building wheels for collected packages: liac-arff\n",
            "  Building wheel for liac-arff (setup.py) ... \u001b[?25l\u001b[?25hdone\n",
            "  Created wheel for liac-arff: filename=liac_arff-2.5.0-py3-none-any.whl size=11732 sha256=646149b958a34f8c70141c29f21358e7c458cacbc81374bfea16c8c710b4b150\n",
            "  Stored in directory: /root/.cache/pip/wheels/a2/de/68/bf3972de3ecb31e32bef59a7f4c75f0687a3674c476b347c14\n",
            "Successfully built liac-arff\n",
            "Installing collected packages: liac-arff\n",
            "Successfully installed liac-arff-2.5.0\n",
            "Looking in indexes: https://pypi.org/simple, https://us-python.pkg.dev/colab-wheels/public/simple/\n",
            "Requirement already satisfied: threadpoolctl in /usr/local/lib/python3.8/dist-packages (3.1.0)\n",
            "Looking in indexes: https://pypi.org/simple, https://us-python.pkg.dev/colab-wheels/public/simple/\n",
            "Collecting ConfigSpace<0.5,>=0.4.21\n",
            "  Downloading ConfigSpace-0.4.21-cp38-cp38-manylinux_2_17_x86_64.manylinux2014_x86_64.whl (4.9 MB)\n",
            "\u001b[K     |████████████████████████████████| 4.9 MB 4.4 MB/s \n",
            "\u001b[?25hRequirement already satisfied: scipy in /usr/local/lib/python3.8/dist-packages (from ConfigSpace<0.5,>=0.4.21) (1.7.3)\n",
            "Requirement already satisfied: pyparsing in /usr/local/lib/python3.8/dist-packages (from ConfigSpace<0.5,>=0.4.21) (3.0.9)\n",
            "Requirement already satisfied: numpy in /usr/local/lib/python3.8/dist-packages (from ConfigSpace<0.5,>=0.4.21) (1.21.6)\n",
            "Requirement already satisfied: cython in /usr/local/lib/python3.8/dist-packages (from ConfigSpace<0.5,>=0.4.21) (0.29.32)\n",
            "Installing collected packages: ConfigSpace\n",
            "Successfully installed ConfigSpace-0.4.21\n",
            "Looking in indexes: https://pypi.org/simple, https://us-python.pkg.dev/colab-wheels/public/simple/\n",
            "Collecting pynisher<0.7,>=0.6.3\n",
            "  Downloading pynisher-0.6.4.tar.gz (11 kB)\n",
            "Requirement already satisfied: setuptools in /usr/local/lib/python3.8/dist-packages (from pynisher<0.7,>=0.6.3) (57.4.0)\n",
            "Requirement already satisfied: psutil in /usr/local/lib/python3.8/dist-packages (from pynisher<0.7,>=0.6.3) (5.4.8)\n",
            "Building wheels for collected packages: pynisher\n",
            "  Building wheel for pynisher (setup.py) ... \u001b[?25l\u001b[?25hdone\n",
            "  Created wheel for pynisher: filename=pynisher-0.6.4-py3-none-any.whl size=7044 sha256=7dd6d6e8bf8daba49f3538f9abdc103883a9d35087f019ec76881ba8539959ca\n",
            "  Stored in directory: /root/.cache/pip/wheels/a7/0b/c3/169e35bcd72f20d0d5e24c37dd2dff8282cc16c06df9762ff5\n",
            "Successfully built pynisher\n",
            "Installing collected packages: pynisher\n",
            "Successfully installed pynisher-0.6.4\n",
            "Looking in indexes: https://pypi.org/simple, https://us-python.pkg.dev/colab-wheels/public/simple/\n",
            "Collecting pyrfr<0.9,>=0.8.1\n",
            "  Downloading pyrfr-0.8.3-cp38-cp38-manylinux_2_17_x86_64.manylinux2014_x86_64.whl (4.4 MB)\n",
            "\u001b[K     |████████████████████████████████| 4.4 MB 3.9 MB/s \n",
            "\u001b[?25hInstalling collected packages: pyrfr\n",
            "Successfully installed pyrfr-0.8.3\n",
            "Looking in indexes: https://pypi.org/simple, https://us-python.pkg.dev/colab-wheels/public/simple/\n",
            "Collecting smac<1.3,>=1.2\n",
            "  Downloading smac-1.2.tar.gz (260 kB)\n",
            "\u001b[K     |████████████████████████████████| 260 kB 4.2 MB/s \n",
            "\u001b[?25hRequirement already satisfied: numpy>=1.7.1 in /usr/local/lib/python3.8/dist-packages (from smac<1.3,>=1.2) (1.21.6)\n",
            "Requirement already satisfied: scipy>=1.7.0 in /usr/local/lib/python3.8/dist-packages (from smac<1.3,>=1.2) (1.7.3)\n",
            "Requirement already satisfied: psutil in /usr/local/lib/python3.8/dist-packages (from smac<1.3,>=1.2) (5.4.8)\n",
            "Requirement already satisfied: pynisher>=0.4.1 in /usr/local/lib/python3.8/dist-packages (from smac<1.3,>=1.2) (0.6.4)\n",
            "Requirement already satisfied: ConfigSpace<0.5,>=0.4.14 in /usr/local/lib/python3.8/dist-packages (from smac<1.3,>=1.2) (0.4.21)\n",
            "Requirement already satisfied: joblib in /usr/local/lib/python3.8/dist-packages (from smac<1.3,>=1.2) (1.2.0)\n",
            "Requirement already satisfied: scikit-learn>=0.22.0 in /usr/local/lib/python3.8/dist-packages (from smac<1.3,>=1.2) (0.24.2)\n",
            "Requirement already satisfied: pyrfr>=0.8.0 in /usr/local/lib/python3.8/dist-packages (from smac<1.3,>=1.2) (0.8.3)\n",
            "Requirement already satisfied: dask in /usr/local/lib/python3.8/dist-packages (from smac<1.3,>=1.2) (2022.2.0)\n",
            "Requirement already satisfied: distributed in /usr/local/lib/python3.8/dist-packages (from smac<1.3,>=1.2) (2022.2.0)\n",
            "Collecting emcee>=3.0.0\n",
            "  Downloading emcee-3.1.3-py2.py3-none-any.whl (46 kB)\n",
            "\u001b[K     |████████████████████████████████| 46 kB 3.9 MB/s \n",
            "\u001b[?25hRequirement already satisfied: cython in /usr/local/lib/python3.8/dist-packages (from ConfigSpace<0.5,>=0.4.14->smac<1.3,>=1.2) (0.29.32)\n",
            "Requirement already satisfied: pyparsing in /usr/local/lib/python3.8/dist-packages (from ConfigSpace<0.5,>=0.4.14->smac<1.3,>=1.2) (3.0.9)\n",
            "Requirement already satisfied: setuptools in /usr/local/lib/python3.8/dist-packages (from pynisher>=0.4.1->smac<1.3,>=1.2) (57.4.0)\n",
            "Requirement already satisfied: threadpoolctl>=2.0.0 in /usr/local/lib/python3.8/dist-packages (from scikit-learn>=0.22.0->smac<1.3,>=1.2) (3.1.0)\n",
            "Requirement already satisfied: pyyaml>=5.3.1 in /usr/local/lib/python3.8/dist-packages (from dask->smac<1.3,>=1.2) (6.0)\n",
            "Requirement already satisfied: packaging>=20.0 in /usr/local/lib/python3.8/dist-packages (from dask->smac<1.3,>=1.2) (21.3)\n",
            "Requirement already satisfied: partd>=0.3.10 in /usr/local/lib/python3.8/dist-packages (from dask->smac<1.3,>=1.2) (1.3.0)\n",
            "Requirement already satisfied: fsspec>=0.6.0 in /usr/local/lib/python3.8/dist-packages (from dask->smac<1.3,>=1.2) (2022.11.0)\n",
            "Requirement already satisfied: toolz>=0.8.2 in /usr/local/lib/python3.8/dist-packages (from dask->smac<1.3,>=1.2) (0.12.0)\n",
            "Requirement already satisfied: cloudpickle>=1.1.1 in /usr/local/lib/python3.8/dist-packages (from dask->smac<1.3,>=1.2) (1.5.0)\n",
            "Requirement already satisfied: locket in /usr/local/lib/python3.8/dist-packages (from partd>=0.3.10->dask->smac<1.3,>=1.2) (1.0.0)\n",
            "Requirement already satisfied: jinja2 in /usr/local/lib/python3.8/dist-packages (from distributed->smac<1.3,>=1.2) (2.11.3)\n",
            "Requirement already satisfied: tornado>=6.0.3 in /usr/local/lib/python3.8/dist-packages (from distributed->smac<1.3,>=1.2) (6.0.4)\n",
            "Requirement already satisfied: sortedcontainers!=2.0.0,!=2.0.1 in /usr/local/lib/python3.8/dist-packages (from distributed->smac<1.3,>=1.2) (2.4.0)\n",
            "Requirement already satisfied: tblib>=1.6.0 in /usr/local/lib/python3.8/dist-packages (from distributed->smac<1.3,>=1.2) (1.7.0)\n",
            "Requirement already satisfied: msgpack>=0.6.0 in /usr/local/lib/python3.8/dist-packages (from distributed->smac<1.3,>=1.2) (1.0.4)\n",
            "Requirement already satisfied: zict>=0.1.3 in /usr/local/lib/python3.8/dist-packages (from distributed->smac<1.3,>=1.2) (2.2.0)\n",
            "Requirement already satisfied: click>=6.6 in /usr/local/lib/python3.8/dist-packages (from distributed->smac<1.3,>=1.2) (7.1.2)\n",
            "Requirement already satisfied: heapdict in /usr/local/lib/python3.8/dist-packages (from zict>=0.1.3->distributed->smac<1.3,>=1.2) (1.0.1)\n",
            "Requirement already satisfied: MarkupSafe>=0.23 in /usr/local/lib/python3.8/dist-packages (from jinja2->distributed->smac<1.3,>=1.2) (2.0.1)\n",
            "Building wheels for collected packages: smac\n",
            "  Building wheel for smac (setup.py) ... \u001b[?25l\u001b[?25hdone\n",
            "  Created wheel for smac: filename=smac-1.2-py3-none-any.whl size=215933 sha256=ee5dcf56f13a239569aae875fa73afaa67b5493782f143842043ede6b5b54709\n",
            "  Stored in directory: /root/.cache/pip/wheels/1c/0d/63/29515e546f52561bf5ff41e3968fe2c35afe4ae366be54b2c4\n",
            "Successfully built smac\n",
            "Installing collected packages: emcee, smac\n",
            "Successfully installed emcee-3.1.3 smac-1.2\n",
            "Looking in indexes: https://pypi.org/simple, https://us-python.pkg.dev/colab-wheels/public/simple/\n",
            "Collecting auto-sklearn\n",
            "  Downloading auto-sklearn-0.15.0.tar.gz (6.5 MB)\n",
            "\u001b[K     |████████████████████████████████| 6.5 MB 4.3 MB/s \n",
            "\u001b[?25h  Installing build dependencies ... \u001b[?25l\u001b[?25hdone\n",
            "  Getting requirements to build wheel ... \u001b[?25l\u001b[?25hdone\n",
            "    Preparing wheel metadata ... \u001b[?25l\u001b[?25hdone\n",
            "Requirement already satisfied: joblib in /usr/local/lib/python3.8/dist-packages (from auto-sklearn) (1.2.0)\n",
            "Requirement already satisfied: ConfigSpace<0.5,>=0.4.21 in /usr/local/lib/python3.8/dist-packages (from auto-sklearn) (0.4.21)\n",
            "Requirement already satisfied: liac-arff in /usr/local/lib/python3.8/dist-packages (from auto-sklearn) (2.5.0)\n",
            "Requirement already satisfied: pynisher<0.7,>=0.6.3 in /usr/local/lib/python3.8/dist-packages (from auto-sklearn) (0.6.4)\n",
            "Requirement already satisfied: scipy>=1.7.0 in /usr/local/lib/python3.8/dist-packages (from auto-sklearn) (1.7.3)\n",
            "Requirement already satisfied: distributed>=2012.12 in /usr/local/lib/python3.8/dist-packages (from auto-sklearn) (2022.2.0)\n",
            "Requirement already satisfied: setuptools in /usr/local/lib/python3.8/dist-packages (from auto-sklearn) (57.4.0)\n",
            "Requirement already satisfied: pandas>=1.0 in /usr/local/lib/python3.8/dist-packages (from auto-sklearn) (1.3.5)\n",
            "Requirement already satisfied: scikit-learn<0.25.0,>=0.24.0 in /usr/local/lib/python3.8/dist-packages (from auto-sklearn) (0.24.2)\n",
            "Requirement already satisfied: numpy>=1.9.0 in /usr/local/lib/python3.8/dist-packages (from auto-sklearn) (1.21.6)\n",
            "Requirement already satisfied: pyyaml in /usr/local/lib/python3.8/dist-packages (from auto-sklearn) (6.0)\n",
            "Requirement already satisfied: smac<1.3,>=1.2 in /usr/local/lib/python3.8/dist-packages (from auto-sklearn) (1.2)\n",
            "Requirement already satisfied: pyrfr<0.9,>=0.8.1 in /usr/local/lib/python3.8/dist-packages (from auto-sklearn) (0.8.3)\n",
            "Requirement already satisfied: typing-extensions in /usr/local/lib/python3.8/dist-packages (from auto-sklearn) (4.1.1)\n",
            "Requirement already satisfied: threadpoolctl in /usr/local/lib/python3.8/dist-packages (from auto-sklearn) (3.1.0)\n",
            "Requirement already satisfied: dask>=2021.12 in /usr/local/lib/python3.8/dist-packages (from auto-sklearn) (2022.2.0)\n",
            "Requirement already satisfied: distro in /usr/local/lib/python3.8/dist-packages (from auto-sklearn) (1.8.0)\n",
            "Requirement already satisfied: pyparsing in /usr/local/lib/python3.8/dist-packages (from ConfigSpace<0.5,>=0.4.21->auto-sklearn) (3.0.9)\n",
            "Requirement already satisfied: cython in /usr/local/lib/python3.8/dist-packages (from ConfigSpace<0.5,>=0.4.21->auto-sklearn) (0.29.32)\n",
            "Requirement already satisfied: toolz>=0.8.2 in /usr/local/lib/python3.8/dist-packages (from dask>=2021.12->auto-sklearn) (0.12.0)\n",
            "Requirement already satisfied: packaging>=20.0 in /usr/local/lib/python3.8/dist-packages (from dask>=2021.12->auto-sklearn) (21.3)\n",
            "Requirement already satisfied: partd>=0.3.10 in /usr/local/lib/python3.8/dist-packages (from dask>=2021.12->auto-sklearn) (1.3.0)\n",
            "Requirement already satisfied: cloudpickle>=1.1.1 in /usr/local/lib/python3.8/dist-packages (from dask>=2021.12->auto-sklearn) (1.5.0)\n",
            "Requirement already satisfied: fsspec>=0.6.0 in /usr/local/lib/python3.8/dist-packages (from dask>=2021.12->auto-sklearn) (2022.11.0)\n",
            "Requirement already satisfied: msgpack>=0.6.0 in /usr/local/lib/python3.8/dist-packages (from distributed>=2012.12->auto-sklearn) (1.0.4)\n",
            "Requirement already satisfied: tornado>=6.0.3 in /usr/local/lib/python3.8/dist-packages (from distributed>=2012.12->auto-sklearn) (6.0.4)\n",
            "Requirement already satisfied: zict>=0.1.3 in /usr/local/lib/python3.8/dist-packages (from distributed>=2012.12->auto-sklearn) (2.2.0)\n",
            "Requirement already satisfied: sortedcontainers!=2.0.0,!=2.0.1 in /usr/local/lib/python3.8/dist-packages (from distributed>=2012.12->auto-sklearn) (2.4.0)\n",
            "Requirement already satisfied: click>=6.6 in /usr/local/lib/python3.8/dist-packages (from distributed>=2012.12->auto-sklearn) (7.1.2)\n",
            "Requirement already satisfied: psutil>=5.0 in /usr/local/lib/python3.8/dist-packages (from distributed>=2012.12->auto-sklearn) (5.4.8)\n",
            "Requirement already satisfied: jinja2 in /usr/local/lib/python3.8/dist-packages (from distributed>=2012.12->auto-sklearn) (2.11.3)\n",
            "Requirement already satisfied: tblib>=1.6.0 in /usr/local/lib/python3.8/dist-packages (from distributed>=2012.12->auto-sklearn) (1.7.0)\n",
            "Requirement already satisfied: python-dateutil>=2.7.3 in /usr/local/lib/python3.8/dist-packages (from pandas>=1.0->auto-sklearn) (2.8.2)\n",
            "Requirement already satisfied: pytz>=2017.3 in /usr/local/lib/python3.8/dist-packages (from pandas>=1.0->auto-sklearn) (2022.6)\n",
            "Requirement already satisfied: locket in /usr/local/lib/python3.8/dist-packages (from partd>=0.3.10->dask>=2021.12->auto-sklearn) (1.0.0)\n",
            "Requirement already satisfied: six>=1.5 in /usr/local/lib/python3.8/dist-packages (from python-dateutil>=2.7.3->pandas>=1.0->auto-sklearn) (1.15.0)\n",
            "Requirement already satisfied: emcee>=3.0.0 in /usr/local/lib/python3.8/dist-packages (from smac<1.3,>=1.2->auto-sklearn) (3.1.3)\n",
            "Requirement already satisfied: heapdict in /usr/local/lib/python3.8/dist-packages (from zict>=0.1.3->distributed>=2012.12->auto-sklearn) (1.0.1)\n",
            "Requirement already satisfied: MarkupSafe>=0.23 in /usr/local/lib/python3.8/dist-packages (from jinja2->distributed>=2012.12->auto-sklearn) (2.0.1)\n",
            "Building wheels for collected packages: auto-sklearn\n",
            "  Building wheel for auto-sklearn (PEP 517) ... \u001b[?25l\u001b[?25hdone\n",
            "  Created wheel for auto-sklearn: filename=auto_sklearn-0.15.0-py3-none-any.whl size=6641945 sha256=3139769ad7b5506ccad090dd061bca3b111129668e9910e8e57cd4fddf44af19\n",
            "  Stored in directory: /root/.cache/pip/wheels/c5/11/0e/aeac2cee929fa4388e528737b49deb2eea05486e6f80d61c1a\n",
            "Successfully built auto-sklearn\n",
            "Installing collected packages: auto-sklearn\n",
            "Successfully installed auto-sklearn-0.15.0\n"
          ]
        }
      ]
    },
    {
      "cell_type": "code",
      "source": [
        "import autosklearn.classification"
      ],
      "metadata": {
        "id": "9jmDp1xofZPR",
        "outputId": "517f477d-c054-4708-b213-d954755bd315",
        "colab": {
          "base_uri": "https://localhost:8080/"
        }
      },
      "execution_count": 39,
      "outputs": [
        {
          "output_type": "stream",
          "name": "stdout",
          "text": [
            "time: 884 µs (started: 2022-12-04 00:57:36 +00:00)\n"
          ]
        }
      ]
    },
    {
      "cell_type": "code",
      "execution_count": 4,
      "metadata": {
        "id": "w9suUi6HuXSK",
        "outputId": "fb94de6c-674e-4d23-db19-c7a8ba4da8b2",
        "colab": {
          "base_uri": "https://localhost:8080/"
        }
      },
      "outputs": [
        {
          "output_type": "stream",
          "name": "stdout",
          "text": [
            "Looking in indexes: https://pypi.org/simple, https://us-python.pkg.dev/colab-wheels/public/simple/\n",
            "Collecting ipython-autotime\n",
            "  Downloading ipython_autotime-0.3.1-py2.py3-none-any.whl (6.8 kB)\n",
            "Requirement already satisfied: ipython in /usr/local/lib/python3.8/dist-packages (from ipython-autotime) (7.9.0)\n",
            "Requirement already satisfied: pexpect in /usr/local/lib/python3.8/dist-packages (from ipython->ipython-autotime) (4.8.0)\n",
            "Requirement already satisfied: backcall in /usr/local/lib/python3.8/dist-packages (from ipython->ipython-autotime) (0.2.0)\n",
            "Requirement already satisfied: pickleshare in /usr/local/lib/python3.8/dist-packages (from ipython->ipython-autotime) (0.7.5)\n",
            "Collecting jedi>=0.10\n",
            "  Downloading jedi-0.18.2-py2.py3-none-any.whl (1.6 MB)\n",
            "\u001b[K     |████████████████████████████████| 1.6 MB 3.9 MB/s \n",
            "\u001b[?25hRequirement already satisfied: prompt-toolkit<2.1.0,>=2.0.0 in /usr/local/lib/python3.8/dist-packages (from ipython->ipython-autotime) (2.0.10)\n",
            "Requirement already satisfied: pygments in /usr/local/lib/python3.8/dist-packages (from ipython->ipython-autotime) (2.6.1)\n",
            "Requirement already satisfied: traitlets>=4.2 in /usr/local/lib/python3.8/dist-packages (from ipython->ipython-autotime) (5.1.1)\n",
            "Requirement already satisfied: decorator in /usr/local/lib/python3.8/dist-packages (from ipython->ipython-autotime) (4.4.2)\n",
            "Requirement already satisfied: setuptools>=18.5 in /usr/local/lib/python3.8/dist-packages (from ipython->ipython-autotime) (57.4.0)\n",
            "Requirement already satisfied: parso<0.9.0,>=0.8.0 in /usr/local/lib/python3.8/dist-packages (from jedi>=0.10->ipython->ipython-autotime) (0.8.3)\n",
            "Requirement already satisfied: six>=1.9.0 in /usr/local/lib/python3.8/dist-packages (from prompt-toolkit<2.1.0,>=2.0.0->ipython->ipython-autotime) (1.15.0)\n",
            "Requirement already satisfied: wcwidth in /usr/local/lib/python3.8/dist-packages (from prompt-toolkit<2.1.0,>=2.0.0->ipython->ipython-autotime) (0.2.5)\n",
            "Requirement already satisfied: ptyprocess>=0.5 in /usr/local/lib/python3.8/dist-packages (from pexpect->ipython->ipython-autotime) (0.7.0)\n",
            "Installing collected packages: jedi, ipython-autotime\n",
            "Successfully installed ipython-autotime-0.3.1 jedi-0.18.2\n",
            "time: 166 ms (started: 2022-12-04 00:17:52 +00:00)\n"
          ]
        }
      ],
      "source": [
        "!pip install ipython-autotime\n",
        "%load_ext autotime\n",
        "import os\n",
        "import pandas as pd\n",
        "import numpy as np\n",
        "import matplotlib.pyplot as plt\n",
        "import seaborn as sns\n",
        "import missingno as msno\n",
        "\n",
        "from sklearn.preprocessing import StandardScaler, LabelEncoder\n",
        "from sklearn.impute import SimpleImputer\n",
        "from sklearn.model_selection import train_test_split, GridSearchCV, StratifiedKFold\n",
        "from sklearn.model_selection import RepeatedStratifiedKFold\n",
        "from sklearn.metrics import accuracy_score, ConfusionMatrixDisplay, classification_report\n",
        "from sklearn.feature_selection import SelectKBest\n",
        "from sklearn.feature_selection import f_classif\n",
        "from scipy.stats import randint as sp_randint\n",
        "from sklearn.model_selection import RandomizedSearchCV\n",
        "\n",
        "from sklearn.tree import DecisionTreeClassifier\n",
        "from sklearn.linear_model import SGDClassifier\n",
        "from sklearn.linear_model import RidgeClassifier\n",
        "from sklearn.neighbors import KNeighborsClassifier\n",
        "from sklearn.svm import SVC\n",
        "from sklearn.ensemble import BaggingClassifier\n",
        "from sklearn.ensemble import RandomForestClassifier\n",
        "from sklearn.linear_model import LogisticRegression\n",
        "import lightgbm as lgb\n",
        "from sklearn.metrics import confusion_matrix\n",
        "from sklearn.ensemble import ExtraTreesClassifier as ETC"
      ]
    },
    {
      "cell_type": "code",
      "source": [
        "# Descarga de base de datos\n",
        "!gdown https://drive.google.com/file/d/1Vclyh1LeOGSDe7Mxi-StHiGXgE5pdSkL/view?usp=sharing --fuzzy\n",
        "\n",
        "!gdown https://drive.google.com/file/d/1YoAh1JANoRAKQr5zIFDeIAPY4fWbF1QW/view?usp=sharing --fuzzy\n"
      ],
      "metadata": {
        "id": "e6suzHDmgpCA",
        "outputId": "d78ebb33-d964-474b-db8f-5ff1a0df56ba",
        "colab": {
          "base_uri": "https://localhost:8080/"
        }
      },
      "execution_count": 7,
      "outputs": [
        {
          "output_type": "stream",
          "name": "stdout",
          "text": [
            "Downloading...\n",
            "From: https://drive.google.com/uc?id=1Vclyh1LeOGSDe7Mxi-StHiGXgE5pdSkL\n",
            "To: /content/train.csv\n",
            "100% 681k/681k [00:00<00:00, 128MB/s]\n",
            "Downloading...\n",
            "From: https://drive.google.com/uc?id=1YoAh1JANoRAKQr5zIFDeIAPY4fWbF1QW\n",
            "To: /content/test.csv\n",
            "100% 74.2k/74.2k [00:00<00:00, 65.7MB/s]\n",
            "time: 5.58 s (started: 2022-12-04 00:21:44 +00:00)\n"
          ]
        }
      ]
    },
    {
      "cell_type": "code",
      "source": [
        "# Carga del dataset y primera visualización\n",
        "df = pd.read_csv('train.csv')\n",
        "pd.options.display.float_format = \"{:.1f}\".format\n",
        "print(df.shape)\n",
        "df.describe()"
      ],
      "metadata": {
        "id": "ZVOB_C8yyvFm",
        "colab": {
          "base_uri": "https://localhost:8080/",
          "height": 337
        },
        "outputId": "6caf2a94-b0a4-493a-e11b-0667b1ba1ce0"
      },
      "execution_count": 8,
      "outputs": [
        {
          "output_type": "stream",
          "name": "stdout",
          "text": [
            "(7823, 14)\n"
          ]
        },
        {
          "output_type": "execute_result",
          "data": {
            "text/plain": [
              "       PassengerId    Age  RoomService  FoodCourt  ShoppingMall     Spa  \\\n",
              "count       7823.0 7661.0       7669.0     7668.0        7635.0  7665.0   \n",
              "mean        4345.7   28.9        226.1      455.6         172.6   305.0   \n",
              "std         2504.6   14.5        679.2     1621.3         597.9  1133.4   \n",
              "min            0.0    0.0          0.0        0.0           0.0     0.0   \n",
              "25%         2182.5   19.0          0.0        0.0           0.0     0.0   \n",
              "50%         4345.0   27.0          0.0        0.0           0.0     0.0   \n",
              "75%         6515.5   38.0         44.0       69.0          28.0    58.0   \n",
              "max         8692.0   79.0      14327.0    29813.0       23492.0 22408.0   \n",
              "\n",
              "       VRDeck  Transported  \n",
              "count  7654.0       7823.0  \n",
              "mean    295.5          0.5  \n",
              "std    1093.5          0.5  \n",
              "min       0.0          0.0  \n",
              "25%       0.0          0.0  \n",
              "50%       0.0          1.0  \n",
              "75%      46.0          1.0  \n",
              "max   24133.0          1.0  "
            ],
            "text/html": [
              "\n",
              "  <div id=\"df-53a08f24-f3a8-4001-bad1-3fa6d66c7ed2\">\n",
              "    <div class=\"colab-df-container\">\n",
              "      <div>\n",
              "<style scoped>\n",
              "    .dataframe tbody tr th:only-of-type {\n",
              "        vertical-align: middle;\n",
              "    }\n",
              "\n",
              "    .dataframe tbody tr th {\n",
              "        vertical-align: top;\n",
              "    }\n",
              "\n",
              "    .dataframe thead th {\n",
              "        text-align: right;\n",
              "    }\n",
              "</style>\n",
              "<table border=\"1\" class=\"dataframe\">\n",
              "  <thead>\n",
              "    <tr style=\"text-align: right;\">\n",
              "      <th></th>\n",
              "      <th>PassengerId</th>\n",
              "      <th>Age</th>\n",
              "      <th>RoomService</th>\n",
              "      <th>FoodCourt</th>\n",
              "      <th>ShoppingMall</th>\n",
              "      <th>Spa</th>\n",
              "      <th>VRDeck</th>\n",
              "      <th>Transported</th>\n",
              "    </tr>\n",
              "  </thead>\n",
              "  <tbody>\n",
              "    <tr>\n",
              "      <th>count</th>\n",
              "      <td>7823.0</td>\n",
              "      <td>7661.0</td>\n",
              "      <td>7669.0</td>\n",
              "      <td>7668.0</td>\n",
              "      <td>7635.0</td>\n",
              "      <td>7665.0</td>\n",
              "      <td>7654.0</td>\n",
              "      <td>7823.0</td>\n",
              "    </tr>\n",
              "    <tr>\n",
              "      <th>mean</th>\n",
              "      <td>4345.7</td>\n",
              "      <td>28.9</td>\n",
              "      <td>226.1</td>\n",
              "      <td>455.6</td>\n",
              "      <td>172.6</td>\n",
              "      <td>305.0</td>\n",
              "      <td>295.5</td>\n",
              "      <td>0.5</td>\n",
              "    </tr>\n",
              "    <tr>\n",
              "      <th>std</th>\n",
              "      <td>2504.6</td>\n",
              "      <td>14.5</td>\n",
              "      <td>679.2</td>\n",
              "      <td>1621.3</td>\n",
              "      <td>597.9</td>\n",
              "      <td>1133.4</td>\n",
              "      <td>1093.5</td>\n",
              "      <td>0.5</td>\n",
              "    </tr>\n",
              "    <tr>\n",
              "      <th>min</th>\n",
              "      <td>0.0</td>\n",
              "      <td>0.0</td>\n",
              "      <td>0.0</td>\n",
              "      <td>0.0</td>\n",
              "      <td>0.0</td>\n",
              "      <td>0.0</td>\n",
              "      <td>0.0</td>\n",
              "      <td>0.0</td>\n",
              "    </tr>\n",
              "    <tr>\n",
              "      <th>25%</th>\n",
              "      <td>2182.5</td>\n",
              "      <td>19.0</td>\n",
              "      <td>0.0</td>\n",
              "      <td>0.0</td>\n",
              "      <td>0.0</td>\n",
              "      <td>0.0</td>\n",
              "      <td>0.0</td>\n",
              "      <td>0.0</td>\n",
              "    </tr>\n",
              "    <tr>\n",
              "      <th>50%</th>\n",
              "      <td>4345.0</td>\n",
              "      <td>27.0</td>\n",
              "      <td>0.0</td>\n",
              "      <td>0.0</td>\n",
              "      <td>0.0</td>\n",
              "      <td>0.0</td>\n",
              "      <td>0.0</td>\n",
              "      <td>1.0</td>\n",
              "    </tr>\n",
              "    <tr>\n",
              "      <th>75%</th>\n",
              "      <td>6515.5</td>\n",
              "      <td>38.0</td>\n",
              "      <td>44.0</td>\n",
              "      <td>69.0</td>\n",
              "      <td>28.0</td>\n",
              "      <td>58.0</td>\n",
              "      <td>46.0</td>\n",
              "      <td>1.0</td>\n",
              "    </tr>\n",
              "    <tr>\n",
              "      <th>max</th>\n",
              "      <td>8692.0</td>\n",
              "      <td>79.0</td>\n",
              "      <td>14327.0</td>\n",
              "      <td>29813.0</td>\n",
              "      <td>23492.0</td>\n",
              "      <td>22408.0</td>\n",
              "      <td>24133.0</td>\n",
              "      <td>1.0</td>\n",
              "    </tr>\n",
              "  </tbody>\n",
              "</table>\n",
              "</div>\n",
              "      <button class=\"colab-df-convert\" onclick=\"convertToInteractive('df-53a08f24-f3a8-4001-bad1-3fa6d66c7ed2')\"\n",
              "              title=\"Convert this dataframe to an interactive table.\"\n",
              "              style=\"display:none;\">\n",
              "        \n",
              "  <svg xmlns=\"http://www.w3.org/2000/svg\" height=\"24px\"viewBox=\"0 0 24 24\"\n",
              "       width=\"24px\">\n",
              "    <path d=\"M0 0h24v24H0V0z\" fill=\"none\"/>\n",
              "    <path d=\"M18.56 5.44l.94 2.06.94-2.06 2.06-.94-2.06-.94-.94-2.06-.94 2.06-2.06.94zm-11 1L8.5 8.5l.94-2.06 2.06-.94-2.06-.94L8.5 2.5l-.94 2.06-2.06.94zm10 10l.94 2.06.94-2.06 2.06-.94-2.06-.94-.94-2.06-.94 2.06-2.06.94z\"/><path d=\"M17.41 7.96l-1.37-1.37c-.4-.4-.92-.59-1.43-.59-.52 0-1.04.2-1.43.59L10.3 9.45l-7.72 7.72c-.78.78-.78 2.05 0 2.83L4 21.41c.39.39.9.59 1.41.59.51 0 1.02-.2 1.41-.59l7.78-7.78 2.81-2.81c.8-.78.8-2.07 0-2.86zM5.41 20L4 18.59l7.72-7.72 1.47 1.35L5.41 20z\"/>\n",
              "  </svg>\n",
              "      </button>\n",
              "      \n",
              "  <style>\n",
              "    .colab-df-container {\n",
              "      display:flex;\n",
              "      flex-wrap:wrap;\n",
              "      gap: 12px;\n",
              "    }\n",
              "\n",
              "    .colab-df-convert {\n",
              "      background-color: #E8F0FE;\n",
              "      border: none;\n",
              "      border-radius: 50%;\n",
              "      cursor: pointer;\n",
              "      display: none;\n",
              "      fill: #1967D2;\n",
              "      height: 32px;\n",
              "      padding: 0 0 0 0;\n",
              "      width: 32px;\n",
              "    }\n",
              "\n",
              "    .colab-df-convert:hover {\n",
              "      background-color: #E2EBFA;\n",
              "      box-shadow: 0px 1px 2px rgba(60, 64, 67, 0.3), 0px 1px 3px 1px rgba(60, 64, 67, 0.15);\n",
              "      fill: #174EA6;\n",
              "    }\n",
              "\n",
              "    [theme=dark] .colab-df-convert {\n",
              "      background-color: #3B4455;\n",
              "      fill: #D2E3FC;\n",
              "    }\n",
              "\n",
              "    [theme=dark] .colab-df-convert:hover {\n",
              "      background-color: #434B5C;\n",
              "      box-shadow: 0px 1px 3px 1px rgba(0, 0, 0, 0.15);\n",
              "      filter: drop-shadow(0px 1px 2px rgba(0, 0, 0, 0.3));\n",
              "      fill: #FFFFFF;\n",
              "    }\n",
              "  </style>\n",
              "\n",
              "      <script>\n",
              "        const buttonEl =\n",
              "          document.querySelector('#df-53a08f24-f3a8-4001-bad1-3fa6d66c7ed2 button.colab-df-convert');\n",
              "        buttonEl.style.display =\n",
              "          google.colab.kernel.accessAllowed ? 'block' : 'none';\n",
              "\n",
              "        async function convertToInteractive(key) {\n",
              "          const element = document.querySelector('#df-53a08f24-f3a8-4001-bad1-3fa6d66c7ed2');\n",
              "          const dataTable =\n",
              "            await google.colab.kernel.invokeFunction('convertToInteractive',\n",
              "                                                     [key], {});\n",
              "          if (!dataTable) return;\n",
              "\n",
              "          const docLinkHtml = 'Like what you see? Visit the ' +\n",
              "            '<a target=\"_blank\" href=https://colab.research.google.com/notebooks/data_table.ipynb>data table notebook</a>'\n",
              "            + ' to learn more about interactive tables.';\n",
              "          element.innerHTML = '';\n",
              "          dataTable['output_type'] = 'display_data';\n",
              "          await google.colab.output.renderOutput(dataTable, element);\n",
              "          const docLink = document.createElement('div');\n",
              "          docLink.innerHTML = docLinkHtml;\n",
              "          element.appendChild(docLink);\n",
              "        }\n",
              "      </script>\n",
              "    </div>\n",
              "  </div>\n",
              "  "
            ]
          },
          "metadata": {},
          "execution_count": 8
        },
        {
          "output_type": "stream",
          "name": "stdout",
          "text": [
            "time: 83.8 ms (started: 2022-12-04 00:21:53 +00:00)\n"
          ]
        }
      ]
    },
    {
      "cell_type": "code",
      "source": [
        "# Revisamos si hay registros duplicados y encontramos que no hay ninguno\n",
        "df.duplicated().any()"
      ],
      "metadata": {
        "colab": {
          "base_uri": "https://localhost:8080/"
        },
        "id": "jSCGpu10ywCi",
        "outputId": "2c77766d-ec37-4cce-c592-83dc6662ab7e"
      },
      "execution_count": 9,
      "outputs": [
        {
          "output_type": "execute_result",
          "data": {
            "text/plain": [
              "False"
            ]
          },
          "metadata": {},
          "execution_count": 9
        },
        {
          "output_type": "stream",
          "name": "stdout",
          "text": [
            "time: 24.1 ms (started: 2022-12-04 00:22:00 +00:00)\n"
          ]
        }
      ]
    },
    {
      "cell_type": "code",
      "source": [
        "# Subdivisión del dataset entre variables predictoras (X) y target(y). \n",
        "y = df.Transported\n",
        "X = df.drop('Transported',axis=1)"
      ],
      "metadata": {
        "colab": {
          "base_uri": "https://localhost:8080/"
        },
        "id": "ec0wFEiiCQn8",
        "outputId": "d226d36c-f178-4b7c-b413-49695d0d5ec6"
      },
      "execution_count": 10,
      "outputs": [
        {
          "output_type": "stream",
          "name": "stdout",
          "text": [
            "time: 4.41 ms (started: 2022-12-04 00:22:03 +00:00)\n"
          ]
        }
      ]
    },
    {
      "cell_type": "code",
      "source": [
        "#Subdividimos la columna Cabin para poder utilizar sus características como variables independientes\n",
        "X[['Piso','Num', \"Lado\"]] = X.Cabin.str.split('/',expand=True)"
      ],
      "metadata": {
        "id": "ahzN4VJQCMXM",
        "colab": {
          "base_uri": "https://localhost:8080/"
        },
        "outputId": "3722659c-aacf-4e71-b5f3-27ac6c5dcc58"
      },
      "execution_count": 11,
      "outputs": [
        {
          "output_type": "stream",
          "name": "stdout",
          "text": [
            "time: 21.9 ms (started: 2022-12-04 00:22:06 +00:00)\n"
          ]
        }
      ]
    },
    {
      "cell_type": "code",
      "source": [
        "# Evaluamos presencia de outliers en la variable edad y en las de gastos realizados. No se encuentran outliers que impliquen datos erróneos\n",
        "\n",
        "fig, axes = plt.subplots(2,3,figsize=(18,8))\n",
        "sns.boxplot(data=X['Age'], ax=axes[0,0])\n",
        "axes[0,0].set_title('Age', fontsize=20)\n",
        "sns.boxplot(data=X['RoomService'], ax=axes[0,1])\n",
        "axes[0,1].set_title('RoomService', fontsize=20)\n",
        "sns.boxplot(data=X['FoodCourt'], ax=axes[0,2])\n",
        "axes[0,2].set_title('FoodCourt', fontsize=20)\n",
        "sns.boxplot(data=X['ShoppingMall'], ax=axes[1,0])\n",
        "axes[1,0].set_title('ShoppingMall', fontsize=20)\n",
        "sns.boxplot(data=X['Spa'], ax=axes[1,1])\n",
        "axes[1,1].set_title('Spa', fontsize=20)\n",
        "sns.boxplot(data=X['VRDeck'], ax=axes[1,2])\n",
        "axes[1,2].set_title('VRDeck', fontsize=20)\n",
        "plt.tight_layout()"
      ],
      "metadata": {
        "colab": {
          "base_uri": "https://localhost:8080/",
          "height": 529
        },
        "id": "-HhV9Abi7aHv",
        "outputId": "24b1e68e-8fec-4d7b-9ad4-7058347fec12"
      },
      "execution_count": 12,
      "outputs": [
        {
          "output_type": "display_data",
          "data": {
            "text/plain": [
              "<Figure size 1296x576 with 6 Axes>"
            ],
            "image/png": "[encoded data removed]"
          },
          "metadata": {
            "needs_background": "light"
          }
        },
        {
          "output_type": "stream",
          "name": "stdout",
          "text": [
            "time: 1.13 s (started: 2022-12-04 00:22:09 +00:00)\n"
          ]
        }
      ]
    },
    {
      "cell_type": "code",
      "source": [
        "# Análisis de datos faltantes mediante missingno\n",
        "# Graficamos datos faltantes de algunas variables, incluidas las de interés. Observamos que hay valores faltantes pero representan un porcentaje bajo del total\n",
        "msno.bar(X,figsize=(10, 3), sort=\"ascending\",fontsize=12, color='tomato')"
      ],
      "metadata": {
        "colab": {
          "base_uri": "https://localhost:8080/",
          "height": 342
        },
        "id": "6ko62DGG9d7r",
        "outputId": "cc284da5-cab3-4d27-a774-6ac3ce060f83"
      },
      "execution_count": 13,
      "outputs": [
        {
          "output_type": "execute_result",
          "data": {
            "text/plain": [
              "<matplotlib.axes._subplots.AxesSubplot at 0x7f8abad69e80>"
            ]
          },
          "metadata": {},
          "execution_count": 13
        },
        {
          "output_type": "display_data",
          "data": {
            "text/plain": [
              "<Figure size 720x216 with 3 Axes>"
            ],
            "image/png": "[encoded data removed]"
          },
          "metadata": {
            "needs_background": "light"
          }
        },
        {
          "output_type": "stream",
          "name": "stdout",
          "text": [
            "time: 1.19 s (started: 2022-12-04 00:22:15 +00:00)\n"
          ]
        }
      ]
    },
    {
      "cell_type": "code",
      "source": [
        "# Analizamos si hay una correlación o correspondencia entre los datos faltantes con la siguiente gráfica.\n",
        "# Vemos que no hay correspondencia por lo que la falta de valores no obedece a una misma causa y puede ser aleatoria\n",
        "# Como excepción, se observa la correspondencia de las variables Piso, Num y Lado, lo cual era esperable dado que provienen de la subdivisión de Cabin \n",
        "msno.matrix(X,figsize=(10, 3), fontsize=12, color=[0,0,0.2])"
      ],
      "metadata": {
        "colab": {
          "base_uri": "https://localhost:8080/",
          "height": 313
        },
        "id": "sdODGGaS9kVO",
        "outputId": "fa31e910-7751-47aa-eddd-ca4c880e3294"
      },
      "execution_count": 14,
      "outputs": [
        {
          "output_type": "execute_result",
          "data": {
            "text/plain": [
              "<matplotlib.axes._subplots.AxesSubplot at 0x7f8ab8692430>"
            ]
          },
          "metadata": {},
          "execution_count": 14
        },
        {
          "output_type": "display_data",
          "data": {
            "text/plain": [
              "<Figure size 720x216 with 2 Axes>"
            ],
            "image/png": "[encoded data removed]"
          },
          "metadata": {
            "needs_background": "light"
          }
        },
        {
          "output_type": "stream",
          "name": "stdout",
          "text": [
            "time: 426 ms (started: 2022-12-04 00:22:20 +00:00)\n"
          ]
        }
      ]
    },
    {
      "cell_type": "code",
      "source": [
        "# Convertimos las variables a un dtype conveniente\n",
        "X[[\"HomePlanet\", \"CryoSleep\", \"Destination\", \"VIP\", 'Piso', \"Lado\"]]  = X[[\"HomePlanet\", \"CryoSleep\", \"Destination\", \"VIP\", 'Piso', \"Lado\"]].astype(\"category\")\n",
        "X[[\"Num\"]]  = X[[\"Num\"]].astype(\"float\")\n",
        "X.info()"
      ],
      "metadata": {
        "id": "dNP06e9d3YM_",
        "outputId": "8469f09d-c8c6-4cff-8ead-493567ca7d98",
        "colab": {
          "base_uri": "https://localhost:8080/"
        }
      },
      "execution_count": 15,
      "outputs": [
        {
          "output_type": "stream",
          "name": "stdout",
          "text": [
            "<class 'pandas.core.frame.DataFrame'>\n",
            "RangeIndex: 7823 entries, 0 to 7822\n",
            "Data columns (total 16 columns):\n",
            " #   Column        Non-Null Count  Dtype   \n",
            "---  ------        --------------  -----   \n",
            " 0   PassengerId   7823 non-null   int64   \n",
            " 1   HomePlanet    7644 non-null   category\n",
            " 2   CryoSleep     7627 non-null   category\n",
            " 3   Cabin         7639 non-null   object  \n",
            " 4   Destination   7663 non-null   category\n",
            " 5   Age           7661 non-null   float64 \n",
            " 6   VIP           7639 non-null   category\n",
            " 7   RoomService   7669 non-null   float64 \n",
            " 8   FoodCourt     7668 non-null   float64 \n",
            " 9   ShoppingMall  7635 non-null   float64 \n",
            " 10  Spa           7665 non-null   float64 \n",
            " 11  VRDeck        7654 non-null   float64 \n",
            " 12  Name          7639 non-null   object  \n",
            " 13  Piso          7639 non-null   category\n",
            " 14  Num           7639 non-null   float64 \n",
            " 15  Lado          7639 non-null   category\n",
            "dtypes: category(6), float64(7), int64(1), object(2)\n",
            "memory usage: 658.1+ KB\n",
            "time: 42.9 ms (started: 2022-12-04 00:22:24 +00:00)\n"
          ]
        }
      ]
    },
    {
      "cell_type": "code",
      "source": [
        "# Visualizamos la relación de las variables cuantitativas con el target\n",
        "Age = sns.relplot(y=y, x=X.Age,height=2, aspect=4, color=\"black\"); Age.fig.suptitle('Age', fontsize=18, y=1.05) \n",
        "Room = sns.relplot(y=y, x=X.RoomService,height=2, aspect=4, color=\"r\"); Room.fig.suptitle(\"Room Service\", fontsize=18, y=1.05, color=\"r\")\n",
        "Food = sns.relplot(y=y, x=X.FoodCourt,height=2, aspect=4, color=\"y\"); Food.fig.suptitle(\"Food Court\", fontsize=18, y=1.05, color=\"y\")\n",
        "Shop = sns.relplot(y=y, x=X.ShoppingMall,height=2, aspect=4, color=\"g\"); Shop.fig.suptitle(\"Shopping Mall\", fontsize=18, y=1.05, color=\"g\")\n",
        "Spa = sns.relplot(y=y, x=X.Spa,height=2, aspect=4, color=\"b\"); Spa.fig.suptitle(\"Spa\", fontsize=18, y=1.05, color=\"b\")\n",
        "VRDeck = sns.relplot(y=y, x=X.VRDeck,height=2, aspect=4, color=\"orange\"); VRDeck.fig.suptitle(\"VRDeck\", fontsize=18, y=1.05, color=\"orange\")"
      ],
      "metadata": {
        "colab": {
          "base_uri": "https://localhost:8080/",
          "height": 977
        },
        "id": "iRg22N_3-b0G",
        "outputId": "d7eb6631-f10b-43e7-ecde-ec9fb3cc29c8"
      },
      "execution_count": 16,
      "outputs": [
        {
          "output_type": "execute_result",
          "data": {
            "text/plain": [
              "Text(0.5, 1.05, 'VRDeck')"
            ]
          },
          "metadata": {},
          "execution_count": 16
        },
        {
          "output_type": "display_data",
          "data": {
            "text/plain": [
              "<Figure size 576x144 with 1 Axes>"
            ],
            "image/png": "[encoded data removed]"
          },
          "metadata": {
            "needs_background": "light"
          }
        },
        {
          "output_type": "display_data",
          "data": {
            "text/plain": [
              "<Figure size 576x144 with 1 Axes>"
            ],
            "image/png": "[encoded data removed]"
          },
          "metadata": {
            "needs_background": "light"
          }
        },
        {
          "output_type": "display_data",
          "data": {
            "text/plain": [
              "<Figure size 576x144 with 1 Axes>"
            ],
            "image/png": "[encoded data removed]"
          },
          "metadata": {
            "needs_background": "light"
          }
        },
        {
          "output_type": "display_data",
          "data": {
            "text/plain": [
              "<Figure size 576x144 with 1 Axes>"
            ],
            "image/png": "[encoded data removed]"
          },
          "metadata": {
            "needs_background": "light"
          }
        },
        {
          "output_type": "display_data",
          "data": {
            "text/plain": [
              "<Figure size 576x144 with 1 Axes>"
            ],
            "image/png": "[encoded data removed]"
          },
          "metadata": {
            "needs_background": "light"
          }
        },
        {
          "output_type": "display_data",
          "data": {
            "text/plain": [
              "<Figure size 576x144 with 1 Axes>"
            ],
            "image/png": "[encoded data removed]"
          },
          "metadata": {
            "needs_background": "light"
          }
        },
        {
          "output_type": "stream",
          "name": "stdout",
          "text": [
            "time: 2.23 s (started: 2022-12-04 00:22:28 +00:00)\n"
          ]
        }
      ]
    },
    {
      "cell_type": "code",
      "source": [
        "# Visualizamos la relación de las variables categóricas y binarias con el target\n",
        "fig, axes = plt.subplots(2,3,figsize=(16,8))\n",
        "pd.crosstab(X.HomePlanet,y).plot.bar(stacked=True, ax=axes[0,0], rot=45)\n",
        "pd.crosstab(X.CryoSleep,y).plot.bar(stacked=True, ax=axes[0,1], rot=45)\n",
        "pd.crosstab(X.Destination,y).plot.bar(stacked=True, ax=axes[0,2], rot=45)\n",
        "pd.crosstab(X.VIP,y).plot.bar(stacked=True, ax=axes[1,0], rot=45)\n",
        "pd.crosstab(X.Piso,y).plot.bar(stacked=True, ax=axes[1,1], rot=45)\n",
        "pd.crosstab(X.Lado,y).plot.bar(stacked=True, ax=axes[1,2], rot=45)\n",
        "plt.tight_layout(); sns.despine()"
      ],
      "metadata": {
        "colab": {
          "base_uri": "https://localhost:8080/",
          "height": 592
        },
        "id": "afkgtiiAEfbu",
        "outputId": "12a0a845-2f78-4d17-8fd7-7cb8a3cad07a"
      },
      "execution_count": 17,
      "outputs": [
        {
          "output_type": "display_data",
          "data": {
            "text/plain": [
              "<Figure size 1152x576 with 6 Axes>"
            ],
            "image/png": "[encoded data removed]"
          },
          "metadata": {
            "needs_background": "light"
          }
        },
        {
          "output_type": "stream",
          "name": "stdout",
          "text": [
            "time: 1.31 s (started: 2022-12-04 00:22:36 +00:00)\n"
          ]
        }
      ]
    },
    {
      "cell_type": "code",
      "source": [
        "# Dividimos el dataset antes de la imputación y el escalamiento para evitar el data leakage\n",
        "x_train, x_test, y_train, y_test = train_test_split(X, y, train_size=0.8, random_state = 8)"
      ],
      "metadata": {
        "id": "lXboNITX2kSp",
        "colab": {
          "base_uri": "https://localhost:8080/"
        },
        "outputId": "f5f7cf62-1c88-443d-834b-d7746c4ed6b4"
      },
      "execution_count": 18,
      "outputs": [
        {
          "output_type": "stream",
          "name": "stdout",
          "text": [
            "time: 11.3 ms (started: 2022-12-04 00:22:50 +00:00)\n"
          ]
        }
      ]
    },
    {
      "cell_type": "code",
      "source": [
        "# Imputamos valores faltantes en las columnas categóricas y booleanas con el valor más frecuente. TRAIN DATASET\n",
        "imputer = SimpleImputer(strategy=\"most_frequent\")\n",
        "x_train[[\"HomePlanet\", \"Destination\", 'Piso', \"Lado\", \"CryoSleep\", \"VIP\"]] = imputer.fit_transform(x_train[[\"HomePlanet\", \"Destination\", 'Piso', \"Lado\", \"CryoSleep\", \"VIP\"]])\n",
        "x_train.head()"
      ],
      "metadata": {
        "colab": {
          "base_uri": "https://localhost:8080/",
          "height": 467
        },
        "id": "DJ3tgrBc4zMs",
        "outputId": "99398b49-9307-4b0f-9538-647fe6ffe7e7"
      },
      "execution_count": 19,
      "outputs": [
        {
          "output_type": "stream",
          "name": "stderr",
          "text": [
            "/usr/local/lib/python3.8/dist-packages/pandas/core/frame.py:3678: SettingWithCopyWarning: \n",
            "A value is trying to be set on a copy of a slice from a DataFrame.\n",
            "Try using .loc[row_indexer,col_indexer] = value instead\n",
            "\n",
            "See the caveats in the documentation: https://pandas.pydata.org/pandas-docs/stable/user_guide/indexing.html#returning-a-view-versus-a-copy\n",
            "  self[col] = igetitem(value, i)\n"
          ]
        },
        {
          "output_type": "execute_result",
          "data": {
            "text/plain": [
              "      PassengerId HomePlanet CryoSleep     Cabin    Destination  Age    VIP  \\\n",
              "4320         5890      Earth      True  G/1010/S  PSO J318.5-22 33.0  False   \n",
              "1437         3770      Earth      True       NaN    TRAPPIST-1e 10.0  False   \n",
              "1690         8070      Earth     False  F/1664/S  PSO J318.5-22 49.0  False   \n",
              "3525         4575       Mars     False   F/927/S    TRAPPIST-1e 25.0  False   \n",
              "4700          699      Earth     False       NaN    TRAPPIST-1e 19.0  False   \n",
              "\n",
              "      RoomService  FoodCourt  ShoppingMall   Spa  VRDeck              Name  \\\n",
              "4320          0.0        0.0           0.0   0.0     0.0  Holey Maystuarey   \n",
              "1437          0.0        0.0           0.0   0.0     0.0  Luise Carpennels   \n",
              "1690          0.0       18.0           0.0   0.0   686.0   Enry Johnsondez   \n",
              "3525        750.0        0.0         109.0 368.0     0.0          Teda Ane   \n",
              "4700          0.0      714.0           2.0   0.0     0.0   Jilla Bairdford   \n",
              "\n",
              "     Piso    Num Lado  \n",
              "4320    G 1010.0    S  \n",
              "1437    F    NaN    S  \n",
              "1690    F 1664.0    S  \n",
              "3525    F  927.0    S  \n",
              "4700    F    NaN    S  "
            ],
            "text/html": [
              "\n",
              "  <div id=\"df-86b9d61e-129e-43f3-b600-b2f53866ebb6\">\n",
              "    <div class=\"colab-df-container\">\n",
              "      <div>\n",
              "<style scoped>\n",
              "    .dataframe tbody tr th:only-of-type {\n",
              "        vertical-align: middle;\n",
              "    }\n",
              "\n",
              "    .dataframe tbody tr th {\n",
              "        vertical-align: top;\n",
              "    }\n",
              "\n",
              "    .dataframe thead th {\n",
              "        text-align: right;\n",
              "    }\n",
              "</style>\n",
              "<table border=\"1\" class=\"dataframe\">\n",
              "  <thead>\n",
              "    <tr style=\"text-align: right;\">\n",
              "      <th></th>\n",
              "      <th>PassengerId</th>\n",
              "      <th>HomePlanet</th>\n",
              "      <th>CryoSleep</th>\n",
              "      <th>Cabin</th>\n",
              "      <th>Destination</th>\n",
              "      <th>Age</th>\n",
              "      <th>VIP</th>\n",
              "      <th>RoomService</th>\n",
              "      <th>FoodCourt</th>\n",
              "      <th>ShoppingMall</th>\n",
              "      <th>Spa</th>\n",
              "      <th>VRDeck</th>\n",
              "      <th>Name</th>\n",
              "      <th>Piso</th>\n",
              "      <th>Num</th>\n",
              "      <th>Lado</th>\n",
              "    </tr>\n",
              "  </thead>\n",
              "  <tbody>\n",
              "    <tr>\n",
              "      <th>4320</th>\n",
              "      <td>5890</td>\n",
              "      <td>Earth</td>\n",
              "      <td>True</td>\n",
              "      <td>G/1010/S</td>\n",
              "      <td>PSO J318.5-22</td>\n",
              "      <td>33.0</td>\n",
              "      <td>False</td>\n",
              "      <td>0.0</td>\n",
              "      <td>0.0</td>\n",
              "      <td>0.0</td>\n",
              "      <td>0.0</td>\n",
              "      <td>0.0</td>\n",
              "      <td>Holey Maystuarey</td>\n",
              "      <td>G</td>\n",
              "      <td>1010.0</td>\n",
              "      <td>S</td>\n",
              "    </tr>\n",
              "    <tr>\n",
              "      <th>1437</th>\n",
              "      <td>3770</td>\n",
              "      <td>Earth</td>\n",
              "      <td>True</td>\n",
              "      <td>NaN</td>\n",
              "      <td>TRAPPIST-1e</td>\n",
              "      <td>10.0</td>\n",
              "      <td>False</td>\n",
              "      <td>0.0</td>\n",
              "      <td>0.0</td>\n",
              "      <td>0.0</td>\n",
              "      <td>0.0</td>\n",
              "      <td>0.0</td>\n",
              "      <td>Luise Carpennels</td>\n",
              "      <td>F</td>\n",
              "      <td>NaN</td>\n",
              "      <td>S</td>\n",
              "    </tr>\n",
              "    <tr>\n",
              "      <th>1690</th>\n",
              "      <td>8070</td>\n",
              "      <td>Earth</td>\n",
              "      <td>False</td>\n",
              "      <td>F/1664/S</td>\n",
              "      <td>PSO J318.5-22</td>\n",
              "      <td>49.0</td>\n",
              "      <td>False</td>\n",
              "      <td>0.0</td>\n",
              "      <td>18.0</td>\n",
              "      <td>0.0</td>\n",
              "      <td>0.0</td>\n",
              "      <td>686.0</td>\n",
              "      <td>Enry Johnsondez</td>\n",
              "      <td>F</td>\n",
              "      <td>1664.0</td>\n",
              "      <td>S</td>\n",
              "    </tr>\n",
              "    <tr>\n",
              "      <th>3525</th>\n",
              "      <td>4575</td>\n",
              "      <td>Mars</td>\n",
              "      <td>False</td>\n",
              "      <td>F/927/S</td>\n",
              "      <td>TRAPPIST-1e</td>\n",
              "      <td>25.0</td>\n",
              "      <td>False</td>\n",
              "      <td>750.0</td>\n",
              "      <td>0.0</td>\n",
              "      <td>109.0</td>\n",
              "      <td>368.0</td>\n",
              "      <td>0.0</td>\n",
              "      <td>Teda Ane</td>\n",
              "      <td>F</td>\n",
              "      <td>927.0</td>\n",
              "      <td>S</td>\n",
              "    </tr>\n",
              "    <tr>\n",
              "      <th>4700</th>\n",
              "      <td>699</td>\n",
              "      <td>Earth</td>\n",
              "      <td>False</td>\n",
              "      <td>NaN</td>\n",
              "      <td>TRAPPIST-1e</td>\n",
              "      <td>19.0</td>\n",
              "      <td>False</td>\n",
              "      <td>0.0</td>\n",
              "      <td>714.0</td>\n",
              "      <td>2.0</td>\n",
              "      <td>0.0</td>\n",
              "      <td>0.0</td>\n",
              "      <td>Jilla Bairdford</td>\n",
              "      <td>F</td>\n",
              "      <td>NaN</td>\n",
              "      <td>S</td>\n",
              "    </tr>\n",
              "  </tbody>\n",
              "</table>\n",
              "</div>\n",
              "      <button class=\"colab-df-convert\" onclick=\"convertToInteractive('df-86b9d61e-129e-43f3-b600-b2f53866ebb6')\"\n",
              "              title=\"Convert this dataframe to an interactive table.\"\n",
              "              style=\"display:none;\">\n",
              "        \n",
              "  <svg xmlns=\"http://www.w3.org/2000/svg\" height=\"24px\"viewBox=\"0 0 24 24\"\n",
              "       width=\"24px\">\n",
              "    <path d=\"M0 0h24v24H0V0z\" fill=\"none\"/>\n",
              "    <path d=\"M18.56 5.44l.94 2.06.94-2.06 2.06-.94-2.06-.94-.94-2.06-.94 2.06-2.06.94zm-11 1L8.5 8.5l.94-2.06 2.06-.94-2.06-.94L8.5 2.5l-.94 2.06-2.06.94zm10 10l.94 2.06.94-2.06 2.06-.94-2.06-.94-.94-2.06-.94 2.06-2.06.94z\"/><path d=\"M17.41 7.96l-1.37-1.37c-.4-.4-.92-.59-1.43-.59-.52 0-1.04.2-1.43.59L10.3 9.45l-7.72 7.72c-.78.78-.78 2.05 0 2.83L4 21.41c.39.39.9.59 1.41.59.51 0 1.02-.2 1.41-.59l7.78-7.78 2.81-2.81c.8-.78.8-2.07 0-2.86zM5.41 20L4 18.59l7.72-7.72 1.47 1.35L5.41 20z\"/>\n",
              "  </svg>\n",
              "      </button>\n",
              "      \n",
              "  <style>\n",
              "    .colab-df-container {\n",
              "      display:flex;\n",
              "      flex-wrap:wrap;\n",
              "      gap: 12px;\n",
              "    }\n",
              "\n",
              "    .colab-df-convert {\n",
              "      background-color: #E8F0FE;\n",
              "      border: none;\n",
              "      border-radius: 50%;\n",
              "      cursor: pointer;\n",
              "      display: none;\n",
              "      fill: #1967D2;\n",
              "      height: 32px;\n",
              "      padding: 0 0 0 0;\n",
              "      width: 32px;\n",
              "    }\n",
              "\n",
              "    .colab-df-convert:hover {\n",
              "      background-color: #E2EBFA;\n",
              "      box-shadow: 0px 1px 2px rgba(60, 64, 67, 0.3), 0px 1px 3px 1px rgba(60, 64, 67, 0.15);\n",
              "      fill: #174EA6;\n",
              "    }\n",
              "\n",
              "    [theme=dark] .colab-df-convert {\n",
              "      background-color: #3B4455;\n",
              "      fill: #D2E3FC;\n",
              "    }\n",
              "\n",
              "    [theme=dark] .colab-df-convert:hover {\n",
              "      background-color: #434B5C;\n",
              "      box-shadow: 0px 1px 3px 1px rgba(0, 0, 0, 0.15);\n",
              "      filter: drop-shadow(0px 1px 2px rgba(0, 0, 0, 0.3));\n",
              "      fill: #FFFFFF;\n",
              "    }\n",
              "  </style>\n",
              "\n",
              "      <script>\n",
              "        const buttonEl =\n",
              "          document.querySelector('#df-86b9d61e-129e-43f3-b600-b2f53866ebb6 button.colab-df-convert');\n",
              "        buttonEl.style.display =\n",
              "          google.colab.kernel.accessAllowed ? 'block' : 'none';\n",
              "\n",
              "        async function convertToInteractive(key) {\n",
              "          const element = document.querySelector('#df-86b9d61e-129e-43f3-b600-b2f53866ebb6');\n",
              "          const dataTable =\n",
              "            await google.colab.kernel.invokeFunction('convertToInteractive',\n",
              "                                                     [key], {});\n",
              "          if (!dataTable) return;\n",
              "\n",
              "          const docLinkHtml = 'Like what you see? Visit the ' +\n",
              "            '<a target=\"_blank\" href=https://colab.research.google.com/notebooks/data_table.ipynb>data table notebook</a>'\n",
              "            + ' to learn more about interactive tables.';\n",
              "          element.innerHTML = '';\n",
              "          dataTable['output_type'] = 'display_data';\n",
              "          await google.colab.output.renderOutput(dataTable, element);\n",
              "          const docLink = document.createElement('div');\n",
              "          docLink.innerHTML = docLinkHtml;\n",
              "          element.appendChild(docLink);\n",
              "        }\n",
              "      </script>\n",
              "    </div>\n",
              "  </div>\n",
              "  "
            ]
          },
          "metadata": {},
          "execution_count": 19
        },
        {
          "output_type": "stream",
          "name": "stdout",
          "text": [
            "time: 40.5 ms (started: 2022-12-04 00:22:56 +00:00)\n"
          ]
        }
      ]
    },
    {
      "cell_type": "code",
      "source": [
        "# Imputamos valores faltantes en las columnas cuantitativas con KNN. TRAIN DATASET\n",
        "Qcols = ['Age', 'RoomService', 'FoodCourt', 'ShoppingMall', 'Spa', 'VRDeck']\n",
        "from sklearn.impute import KNNImputer\n",
        "imputerKNN = KNNImputer()\n",
        "x_train[Qcols] = imputerKNN.fit_transform(x_train[Qcols])"
      ],
      "metadata": {
        "id": "UnYpD1pfA25Q",
        "colab": {
          "base_uri": "https://localhost:8080/"
        },
        "outputId": "c532905f-abc2-4789-970c-799fe0aa3c6c"
      },
      "execution_count": 20,
      "outputs": [
        {
          "output_type": "stream",
          "name": "stdout",
          "text": [
            "time: 553 ms (started: 2022-12-04 00:23:02 +00:00)\n"
          ]
        },
        {
          "output_type": "stream",
          "name": "stderr",
          "text": [
            "/usr/local/lib/python3.8/dist-packages/pandas/core/frame.py:3678: SettingWithCopyWarning: \n",
            "A value is trying to be set on a copy of a slice from a DataFrame.\n",
            "Try using .loc[row_indexer,col_indexer] = value instead\n",
            "\n",
            "See the caveats in the documentation: https://pandas.pydata.org/pandas-docs/stable/user_guide/indexing.html#returning-a-view-versus-a-copy\n",
            "  self[col] = igetitem(value, i)\n"
          ]
        }
      ]
    },
    {
      "cell_type": "code",
      "source": [
        "x_train.head()"
      ],
      "metadata": {
        "colab": {
          "base_uri": "https://localhost:8080/",
          "height": 224
        },
        "id": "gxh_AwB4GEsZ",
        "outputId": "c7172f25-67aa-4369-fd5f-1cb5e6fc8a0f"
      },
      "execution_count": null,
      "outputs": [
        {
          "output_type": "execute_result",
          "data": {
            "text/plain": [
              "      PassengerId HomePlanet CryoSleep     Cabin    Destination  Age    VIP  \\\n",
              "4320         5890      Earth      True  G/1010/S  PSO J318.5-22 33.0  False   \n",
              "1437         3770      Earth      True       NaN    TRAPPIST-1e 10.0  False   \n",
              "1690         8070      Earth     False  F/1664/S  PSO J318.5-22 49.0  False   \n",
              "3525         4575       Mars     False   F/927/S    TRAPPIST-1e 25.0  False   \n",
              "4700          699      Earth     False       NaN    TRAPPIST-1e 19.0  False   \n",
              "\n",
              "      RoomService  FoodCourt  ShoppingMall   Spa  VRDeck              Name  \\\n",
              "4320          0.0        0.0           0.0   0.0     0.0  Holey Maystuarey   \n",
              "1437          0.0        0.0           0.0   0.0     0.0  Luise Carpennels   \n",
              "1690          0.0       18.0           0.0   0.0   686.0   Enry Johnsondez   \n",
              "3525        750.0        0.0         109.0 368.0     0.0          Teda Ane   \n",
              "4700          0.0      714.0           2.0   0.0     0.0   Jilla Bairdford   \n",
              "\n",
              "     Piso    Num Lado  \n",
              "4320    G 1010.0    S  \n",
              "1437    F    NaN    S  \n",
              "1690    F 1664.0    S  \n",
              "3525    F  927.0    S  \n",
              "4700    F    NaN    S  "
            ],
            "text/html": [
              "\n",
              "  <div id=\"df-8bf806e8-143a-435d-8563-1200f0debff7\">\n",
              "    <div class=\"colab-df-container\">\n",
              "      <div>\n",
              "<style scoped>\n",
              "    .dataframe tbody tr th:only-of-type {\n",
              "        vertical-align: middle;\n",
              "    }\n",
              "\n",
              "    .dataframe tbody tr th {\n",
              "        vertical-align: top;\n",
              "    }\n",
              "\n",
              "    .dataframe thead th {\n",
              "        text-align: right;\n",
              "    }\n",
              "</style>\n",
              "<table border=\"1\" class=\"dataframe\">\n",
              "  <thead>\n",
              "    <tr style=\"text-align: right;\">\n",
              "      <th></th>\n",
              "      <th>PassengerId</th>\n",
              "      <th>HomePlanet</th>\n",
              "      <th>CryoSleep</th>\n",
              "      <th>Cabin</th>\n",
              "      <th>Destination</th>\n",
              "      <th>Age</th>\n",
              "      <th>VIP</th>\n",
              "      <th>RoomService</th>\n",
              "      <th>FoodCourt</th>\n",
              "      <th>ShoppingMall</th>\n",
              "      <th>Spa</th>\n",
              "      <th>VRDeck</th>\n",
              "      <th>Name</th>\n",
              "      <th>Piso</th>\n",
              "      <th>Num</th>\n",
              "      <th>Lado</th>\n",
              "    </tr>\n",
              "  </thead>\n",
              "  <tbody>\n",
              "    <tr>\n",
              "      <th>4320</th>\n",
              "      <td>5890</td>\n",
              "      <td>Earth</td>\n",
              "      <td>True</td>\n",
              "      <td>G/1010/S</td>\n",
              "      <td>PSO J318.5-22</td>\n",
              "      <td>33.0</td>\n",
              "      <td>False</td>\n",
              "      <td>0.0</td>\n",
              "      <td>0.0</td>\n",
              "      <td>0.0</td>\n",
              "      <td>0.0</td>\n",
              "      <td>0.0</td>\n",
              "      <td>Holey Maystuarey</td>\n",
              "      <td>G</td>\n",
              "      <td>1010.0</td>\n",
              "      <td>S</td>\n",
              "    </tr>\n",
              "    <tr>\n",
              "      <th>1437</th>\n",
              "      <td>3770</td>\n",
              "      <td>Earth</td>\n",
              "      <td>True</td>\n",
              "      <td>NaN</td>\n",
              "      <td>TRAPPIST-1e</td>\n",
              "      <td>10.0</td>\n",
              "      <td>False</td>\n",
              "      <td>0.0</td>\n",
              "      <td>0.0</td>\n",
              "      <td>0.0</td>\n",
              "      <td>0.0</td>\n",
              "      <td>0.0</td>\n",
              "      <td>Luise Carpennels</td>\n",
              "      <td>F</td>\n",
              "      <td>NaN</td>\n",
              "      <td>S</td>\n",
              "    </tr>\n",
              "    <tr>\n",
              "      <th>1690</th>\n",
              "      <td>8070</td>\n",
              "      <td>Earth</td>\n",
              "      <td>False</td>\n",
              "      <td>F/1664/S</td>\n",
              "      <td>PSO J318.5-22</td>\n",
              "      <td>49.0</td>\n",
              "      <td>False</td>\n",
              "      <td>0.0</td>\n",
              "      <td>18.0</td>\n",
              "      <td>0.0</td>\n",
              "      <td>0.0</td>\n",
              "      <td>686.0</td>\n",
              "      <td>Enry Johnsondez</td>\n",
              "      <td>F</td>\n",
              "      <td>1664.0</td>\n",
              "      <td>S</td>\n",
              "    </tr>\n",
              "    <tr>\n",
              "      <th>3525</th>\n",
              "      <td>4575</td>\n",
              "      <td>Mars</td>\n",
              "      <td>False</td>\n",
              "      <td>F/927/S</td>\n",
              "      <td>TRAPPIST-1e</td>\n",
              "      <td>25.0</td>\n",
              "      <td>False</td>\n",
              "      <td>750.0</td>\n",
              "      <td>0.0</td>\n",
              "      <td>109.0</td>\n",
              "      <td>368.0</td>\n",
              "      <td>0.0</td>\n",
              "      <td>Teda Ane</td>\n",
              "      <td>F</td>\n",
              "      <td>927.0</td>\n",
              "      <td>S</td>\n",
              "    </tr>\n",
              "    <tr>\n",
              "      <th>4700</th>\n",
              "      <td>699</td>\n",
              "      <td>Earth</td>\n",
              "      <td>False</td>\n",
              "      <td>NaN</td>\n",
              "      <td>TRAPPIST-1e</td>\n",
              "      <td>19.0</td>\n",
              "      <td>False</td>\n",
              "      <td>0.0</td>\n",
              "      <td>714.0</td>\n",
              "      <td>2.0</td>\n",
              "      <td>0.0</td>\n",
              "      <td>0.0</td>\n",
              "      <td>Jilla Bairdford</td>\n",
              "      <td>F</td>\n",
              "      <td>NaN</td>\n",
              "      <td>S</td>\n",
              "    </tr>\n",
              "  </tbody>\n",
              "</table>\n",
              "</div>\n",
              "      <button class=\"colab-df-convert\" onclick=\"convertToInteractive('df-8bf806e8-143a-435d-8563-1200f0debff7')\"\n",
              "              title=\"Convert this dataframe to an interactive table.\"\n",
              "              style=\"display:none;\">\n",
              "        \n",
              "  <svg xmlns=\"http://www.w3.org/2000/svg\" height=\"24px\"viewBox=\"0 0 24 24\"\n",
              "       width=\"24px\">\n",
              "    <path d=\"M0 0h24v24H0V0z\" fill=\"none\"/>\n",
              "    <path d=\"M18.56 5.44l.94 2.06.94-2.06 2.06-.94-2.06-.94-.94-2.06-.94 2.06-2.06.94zm-11 1L8.5 8.5l.94-2.06 2.06-.94-2.06-.94L8.5 2.5l-.94 2.06-2.06.94zm10 10l.94 2.06.94-2.06 2.06-.94-2.06-.94-.94-2.06-.94 2.06-2.06.94z\"/><path d=\"M17.41 7.96l-1.37-1.37c-.4-.4-.92-.59-1.43-.59-.52 0-1.04.2-1.43.59L10.3 9.45l-7.72 7.72c-.78.78-.78 2.05 0 2.83L4 21.41c.39.39.9.59 1.41.59.51 0 1.02-.2 1.41-.59l7.78-7.78 2.81-2.81c.8-.78.8-2.07 0-2.86zM5.41 20L4 18.59l7.72-7.72 1.47 1.35L5.41 20z\"/>\n",
              "  </svg>\n",
              "      </button>\n",
              "      \n",
              "  <style>\n",
              "    .colab-df-container {\n",
              "      display:flex;\n",
              "      flex-wrap:wrap;\n",
              "      gap: 12px;\n",
              "    }\n",
              "\n",
              "    .colab-df-convert {\n",
              "      background-color: #E8F0FE;\n",
              "      border: none;\n",
              "      border-radius: 50%;\n",
              "      cursor: pointer;\n",
              "      display: none;\n",
              "      fill: #1967D2;\n",
              "      height: 32px;\n",
              "      padding: 0 0 0 0;\n",
              "      width: 32px;\n",
              "    }\n",
              "\n",
              "    .colab-df-convert:hover {\n",
              "      background-color: #E2EBFA;\n",
              "      box-shadow: 0px 1px 2px rgba(60, 64, 67, 0.3), 0px 1px 3px 1px rgba(60, 64, 67, 0.15);\n",
              "      fill: #174EA6;\n",
              "    }\n",
              "\n",
              "    [theme=dark] .colab-df-convert {\n",
              "      background-color: #3B4455;\n",
              "      fill: #D2E3FC;\n",
              "    }\n",
              "\n",
              "    [theme=dark] .colab-df-convert:hover {\n",
              "      background-color: #434B5C;\n",
              "      box-shadow: 0px 1px 3px 1px rgba(0, 0, 0, 0.15);\n",
              "      filter: drop-shadow(0px 1px 2px rgba(0, 0, 0, 0.3));\n",
              "      fill: #FFFFFF;\n",
              "    }\n",
              "  </style>\n",
              "\n",
              "      <script>\n",
              "        const buttonEl =\n",
              "          document.querySelector('#df-8bf806e8-143a-435d-8563-1200f0debff7 button.colab-df-convert');\n",
              "        buttonEl.style.display =\n",
              "          google.colab.kernel.accessAllowed ? 'block' : 'none';\n",
              "\n",
              "        async function convertToInteractive(key) {\n",
              "          const element = document.querySelector('#df-8bf806e8-143a-435d-8563-1200f0debff7');\n",
              "          const dataTable =\n",
              "            await google.colab.kernel.invokeFunction('convertToInteractive',\n",
              "                                                     [key], {});\n",
              "          if (!dataTable) return;\n",
              "\n",
              "          const docLinkHtml = 'Like what you see? Visit the ' +\n",
              "            '<a target=\"_blank\" href=https://colab.research.google.com/notebooks/data_table.ipynb>data table notebook</a>'\n",
              "            + ' to learn more about interactive tables.';\n",
              "          element.innerHTML = '';\n",
              "          dataTable['output_type'] = 'display_data';\n",
              "          await google.colab.output.renderOutput(dataTable, element);\n",
              "          const docLink = document.createElement('div');\n",
              "          docLink.innerHTML = docLinkHtml;\n",
              "          element.appendChild(docLink);\n",
              "        }\n",
              "      </script>\n",
              "    </div>\n",
              "  </div>\n",
              "  "
            ]
          },
          "metadata": {},
          "execution_count": 15
        },
        {
          "output_type": "stream",
          "name": "stdout",
          "text": [
            "time: 20.4 ms (started: 2022-08-14 23:24:20 +00:00)\n"
          ]
        }
      ]
    },
    {
      "cell_type": "code",
      "source": [
        "# Escalamos los datos cuantitativos mediante Robust Scaler para controlar outliers\n",
        "from sklearn import preprocessing\n",
        "escalador = preprocessing.RobustScaler()\n",
        "x_train[['Age', 'RoomService', 'FoodCourt', 'ShoppingMall', 'Spa', 'VRDeck']] = escalador.fit_transform(x_train[['Age', 'RoomService', 'FoodCourt', 'ShoppingMall', 'Spa', 'VRDeck']])\n",
        "x_train.head()"
      ],
      "metadata": {
        "colab": {
          "base_uri": "https://localhost:8080/",
          "height": 467
        },
        "id": "48IxDnf6BzgK",
        "outputId": "195ed6d2-5afb-434f-a5ac-a8837b154d23"
      },
      "execution_count": 21,
      "outputs": [
        {
          "output_type": "stream",
          "name": "stderr",
          "text": [
            "/usr/local/lib/python3.8/dist-packages/pandas/core/frame.py:3678: SettingWithCopyWarning: \n",
            "A value is trying to be set on a copy of a slice from a DataFrame.\n",
            "Try using .loc[row_indexer,col_indexer] = value instead\n",
            "\n",
            "See the caveats in the documentation: https://pandas.pydata.org/pandas-docs/stable/user_guide/indexing.html#returning-a-view-versus-a-copy\n",
            "  self[col] = igetitem(value, i)\n"
          ]
        },
        {
          "output_type": "execute_result",
          "data": {
            "text/plain": [
              "      PassengerId HomePlanet CryoSleep     Cabin    Destination  Age    VIP  \\\n",
              "4320         5890      Earth      True  G/1010/S  PSO J318.5-22  0.3  False   \n",
              "1437         3770      Earth      True       NaN    TRAPPIST-1e -0.9  False   \n",
              "1690         8070      Earth     False  F/1664/S  PSO J318.5-22  1.2  False   \n",
              "3525         4575       Mars     False   F/927/S    TRAPPIST-1e -0.1  False   \n",
              "4700          699      Earth     False       NaN    TRAPPIST-1e -0.4  False   \n",
              "\n",
              "      RoomService  FoodCourt  ShoppingMall  Spa  VRDeck              Name  \\\n",
              "4320          0.0        0.0           0.0  0.0     0.0  Holey Maystuarey   \n",
              "1437          0.0        0.0           0.0  0.0     0.0  Luise Carpennels   \n",
              "1690          0.0        0.3           0.0  0.0    13.2   Enry Johnsondez   \n",
              "3525         16.3        0.0           3.5  5.9     0.0          Teda Ane   \n",
              "4700          0.0       10.5           0.1  0.0     0.0   Jilla Bairdford   \n",
              "\n",
              "     Piso    Num Lado  \n",
              "4320    G 1010.0    S  \n",
              "1437    F    NaN    S  \n",
              "1690    F 1664.0    S  \n",
              "3525    F  927.0    S  \n",
              "4700    F    NaN    S  "
            ],
            "text/html": [
              "\n",
              "  <div id=\"df-8d072ba9-2bd7-4d32-a37b-c20468476056\">\n",
              "    <div class=\"colab-df-container\">\n",
              "      <div>\n",
              "<style scoped>\n",
              "    .dataframe tbody tr th:only-of-type {\n",
              "        vertical-align: middle;\n",
              "    }\n",
              "\n",
              "    .dataframe tbody tr th {\n",
              "        vertical-align: top;\n",
              "    }\n",
              "\n",
              "    .dataframe thead th {\n",
              "        text-align: right;\n",
              "    }\n",
              "</style>\n",
              "<table border=\"1\" class=\"dataframe\">\n",
              "  <thead>\n",
              "    <tr style=\"text-align: right;\">\n",
              "      <th></th>\n",
              "      <th>PassengerId</th>\n",
              "      <th>HomePlanet</th>\n",
              "      <th>CryoSleep</th>\n",
              "      <th>Cabin</th>\n",
              "      <th>Destination</th>\n",
              "      <th>Age</th>\n",
              "      <th>VIP</th>\n",
              "      <th>RoomService</th>\n",
              "      <th>FoodCourt</th>\n",
              "      <th>ShoppingMall</th>\n",
              "      <th>Spa</th>\n",
              "      <th>VRDeck</th>\n",
              "      <th>Name</th>\n",
              "      <th>Piso</th>\n",
              "      <th>Num</th>\n",
              "      <th>Lado</th>\n",
              "    </tr>\n",
              "  </thead>\n",
              "  <tbody>\n",
              "    <tr>\n",
              "      <th>4320</th>\n",
              "      <td>5890</td>\n",
              "      <td>Earth</td>\n",
              "      <td>True</td>\n",
              "      <td>G/1010/S</td>\n",
              "      <td>PSO J318.5-22</td>\n",
              "      <td>0.3</td>\n",
              "      <td>False</td>\n",
              "      <td>0.0</td>\n",
              "      <td>0.0</td>\n",
              "      <td>0.0</td>\n",
              "      <td>0.0</td>\n",
              "      <td>0.0</td>\n",
              "      <td>Holey Maystuarey</td>\n",
              "      <td>G</td>\n",
              "      <td>1010.0</td>\n",
              "      <td>S</td>\n",
              "    </tr>\n",
              "    <tr>\n",
              "      <th>1437</th>\n",
              "      <td>3770</td>\n",
              "      <td>Earth</td>\n",
              "      <td>True</td>\n",
              "      <td>NaN</td>\n",
              "      <td>TRAPPIST-1e</td>\n",
              "      <td>-0.9</td>\n",
              "      <td>False</td>\n",
              "      <td>0.0</td>\n",
              "      <td>0.0</td>\n",
              "      <td>0.0</td>\n",
              "      <td>0.0</td>\n",
              "      <td>0.0</td>\n",
              "      <td>Luise Carpennels</td>\n",
              "      <td>F</td>\n",
              "      <td>NaN</td>\n",
              "      <td>S</td>\n",
              "    </tr>\n",
              "    <tr>\n",
              "      <th>1690</th>\n",
              "      <td>8070</td>\n",
              "      <td>Earth</td>\n",
              "      <td>False</td>\n",
              "      <td>F/1664/S</td>\n",
              "      <td>PSO J318.5-22</td>\n",
              "      <td>1.2</td>\n",
              "      <td>False</td>\n",
              "      <td>0.0</td>\n",
              "      <td>0.3</td>\n",
              "      <td>0.0</td>\n",
              "      <td>0.0</td>\n",
              "      <td>13.2</td>\n",
              "      <td>Enry Johnsondez</td>\n",
              "      <td>F</td>\n",
              "      <td>1664.0</td>\n",
              "      <td>S</td>\n",
              "    </tr>\n",
              "    <tr>\n",
              "      <th>3525</th>\n",
              "      <td>4575</td>\n",
              "      <td>Mars</td>\n",
              "      <td>False</td>\n",
              "      <td>F/927/S</td>\n",
              "      <td>TRAPPIST-1e</td>\n",
              "      <td>-0.1</td>\n",
              "      <td>False</td>\n",
              "      <td>16.3</td>\n",
              "      <td>0.0</td>\n",
              "      <td>3.5</td>\n",
              "      <td>5.9</td>\n",
              "      <td>0.0</td>\n",
              "      <td>Teda Ane</td>\n",
              "      <td>F</td>\n",
              "      <td>927.0</td>\n",
              "      <td>S</td>\n",
              "    </tr>\n",
              "    <tr>\n",
              "      <th>4700</th>\n",
              "      <td>699</td>\n",
              "      <td>Earth</td>\n",
              "      <td>False</td>\n",
              "      <td>NaN</td>\n",
              "      <td>TRAPPIST-1e</td>\n",
              "      <td>-0.4</td>\n",
              "      <td>False</td>\n",
              "      <td>0.0</td>\n",
              "      <td>10.5</td>\n",
              "      <td>0.1</td>\n",
              "      <td>0.0</td>\n",
              "      <td>0.0</td>\n",
              "      <td>Jilla Bairdford</td>\n",
              "      <td>F</td>\n",
              "      <td>NaN</td>\n",
              "      <td>S</td>\n",
              "    </tr>\n",
              "  </tbody>\n",
              "</table>\n",
              "</div>\n",
              "      <button class=\"colab-df-convert\" onclick=\"convertToInteractive('df-8d072ba9-2bd7-4d32-a37b-c20468476056')\"\n",
              "              title=\"Convert this dataframe to an interactive table.\"\n",
              "              style=\"display:none;\">\n",
              "        \n",
              "  <svg xmlns=\"http://www.w3.org/2000/svg\" height=\"24px\"viewBox=\"0 0 24 24\"\n",
              "       width=\"24px\">\n",
              "    <path d=\"M0 0h24v24H0V0z\" fill=\"none\"/>\n",
              "    <path d=\"M18.56 5.44l.94 2.06.94-2.06 2.06-.94-2.06-.94-.94-2.06-.94 2.06-2.06.94zm-11 1L8.5 8.5l.94-2.06 2.06-.94-2.06-.94L8.5 2.5l-.94 2.06-2.06.94zm10 10l.94 2.06.94-2.06 2.06-.94-2.06-.94-.94-2.06-.94 2.06-2.06.94z\"/><path d=\"M17.41 7.96l-1.37-1.37c-.4-.4-.92-.59-1.43-.59-.52 0-1.04.2-1.43.59L10.3 9.45l-7.72 7.72c-.78.78-.78 2.05 0 2.83L4 21.41c.39.39.9.59 1.41.59.51 0 1.02-.2 1.41-.59l7.78-7.78 2.81-2.81c.8-.78.8-2.07 0-2.86zM5.41 20L4 18.59l7.72-7.72 1.47 1.35L5.41 20z\"/>\n",
              "  </svg>\n",
              "      </button>\n",
              "      \n",
              "  <style>\n",
              "    .colab-df-container {\n",
              "      display:flex;\n",
              "      flex-wrap:wrap;\n",
              "      gap: 12px;\n",
              "    }\n",
              "\n",
              "    .colab-df-convert {\n",
              "      background-color: #E8F0FE;\n",
              "      border: none;\n",
              "      border-radius: 50%;\n",
              "      cursor: pointer;\n",
              "      display: none;\n",
              "      fill: #1967D2;\n",
              "      height: 32px;\n",
              "      padding: 0 0 0 0;\n",
              "      width: 32px;\n",
              "    }\n",
              "\n",
              "    .colab-df-convert:hover {\n",
              "      background-color: #E2EBFA;\n",
              "      box-shadow: 0px 1px 2px rgba(60, 64, 67, 0.3), 0px 1px 3px 1px rgba(60, 64, 67, 0.15);\n",
              "      fill: #174EA6;\n",
              "    }\n",
              "\n",
              "    [theme=dark] .colab-df-convert {\n",
              "      background-color: #3B4455;\n",
              "      fill: #D2E3FC;\n",
              "    }\n",
              "\n",
              "    [theme=dark] .colab-df-convert:hover {\n",
              "      background-color: #434B5C;\n",
              "      box-shadow: 0px 1px 3px 1px rgba(0, 0, 0, 0.15);\n",
              "      filter: drop-shadow(0px 1px 2px rgba(0, 0, 0, 0.3));\n",
              "      fill: #FFFFFF;\n",
              "    }\n",
              "  </style>\n",
              "\n",
              "      <script>\n",
              "        const buttonEl =\n",
              "          document.querySelector('#df-8d072ba9-2bd7-4d32-a37b-c20468476056 button.colab-df-convert');\n",
              "        buttonEl.style.display =\n",
              "          google.colab.kernel.accessAllowed ? 'block' : 'none';\n",
              "\n",
              "        async function convertToInteractive(key) {\n",
              "          const element = document.querySelector('#df-8d072ba9-2bd7-4d32-a37b-c20468476056');\n",
              "          const dataTable =\n",
              "            await google.colab.kernel.invokeFunction('convertToInteractive',\n",
              "                                                     [key], {});\n",
              "          if (!dataTable) return;\n",
              "\n",
              "          const docLinkHtml = 'Like what you see? Visit the ' +\n",
              "            '<a target=\"_blank\" href=https://colab.research.google.com/notebooks/data_table.ipynb>data table notebook</a>'\n",
              "            + ' to learn more about interactive tables.';\n",
              "          element.innerHTML = '';\n",
              "          dataTable['output_type'] = 'display_data';\n",
              "          await google.colab.output.renderOutput(dataTable, element);\n",
              "          const docLink = document.createElement('div');\n",
              "          docLink.innerHTML = docLinkHtml;\n",
              "          element.appendChild(docLink);\n",
              "        }\n",
              "      </script>\n",
              "    </div>\n",
              "  </div>\n",
              "  "
            ]
          },
          "metadata": {},
          "execution_count": 21
        },
        {
          "output_type": "stream",
          "name": "stdout",
          "text": [
            "time: 35.3 ms (started: 2022-12-04 00:23:06 +00:00)\n"
          ]
        }
      ]
    },
    {
      "cell_type": "code",
      "source": [
        "# Revisamos las variables categóricas antes de aplicar la codificación\n",
        "print(x_train[\"HomePlanet\"].value_counts())\n",
        "print(x_train[\"Destination\"].value_counts())\n",
        "print(x_train[\"Piso\"].value_counts())\n",
        "print(x_train[\"Lado\"].value_counts())"
      ],
      "metadata": {
        "colab": {
          "base_uri": "https://localhost:8080/"
        },
        "id": "J3DCHydwCOt-",
        "outputId": "38d1a25d-c5f3-4161-bb4e-acb42713a3c6"
      },
      "execution_count": 22,
      "outputs": [
        {
          "output_type": "stream",
          "name": "stdout",
          "text": [
            "Earth     3454\n",
            "Europa    1529\n",
            "Mars      1275\n",
            "Name: HomePlanet, dtype: int64\n",
            "TRAPPIST-1e      4352\n",
            "55 Cancri e      1324\n",
            "PSO J318.5-22     582\n",
            "Name: Destination, dtype: int64\n",
            "F    2167\n",
            "G    1829\n",
            "E     636\n",
            "B     549\n",
            "C     535\n",
            "D     355\n",
            "A     183\n",
            "T       4\n",
            "Name: Piso, dtype: int64\n",
            "S    3224\n",
            "P    3034\n",
            "Name: Lado, dtype: int64\n",
            "time: 15.1 ms (started: 2022-12-04 00:23:11 +00:00)\n"
          ]
        }
      ]
    },
    {
      "cell_type": "code",
      "source": [
        "# Aplicamos hot encoding a las categóricas mediante pd.get_dummies\n",
        "x_train_hot = pd.get_dummies(data=x_train, columns=[\"HomePlanet\", \"Destination\", 'Piso', \"Lado\"]).drop(columns=['Cabin', 'Num', 'Name'])\n",
        "x_train_hot.head()"
      ],
      "metadata": {
        "colab": {
          "base_uri": "https://localhost:8080/",
          "height": 318
        },
        "id": "ZvzK8arIQodY",
        "outputId": "7db01362-aa5c-4dbf-8eeb-eb95b36d5238"
      },
      "execution_count": 23,
      "outputs": [
        {
          "output_type": "execute_result",
          "data": {
            "text/plain": [
              "      PassengerId CryoSleep  Age    VIP  RoomService  FoodCourt  ShoppingMall  \\\n",
              "4320         5890      True  0.3  False          0.0        0.0           0.0   \n",
              "1437         3770      True -0.9  False          0.0        0.0           0.0   \n",
              "1690         8070     False  1.2  False          0.0        0.3           0.0   \n",
              "3525         4575     False -0.1  False         16.3        0.0           3.5   \n",
              "4700          699     False -0.4  False          0.0       10.5           0.1   \n",
              "\n",
              "      Spa  VRDeck  HomePlanet_Earth  ...  Piso_A  Piso_B  Piso_C  Piso_D  \\\n",
              "4320  0.0     0.0                 1  ...       0       0       0       0   \n",
              "1437  0.0     0.0                 1  ...       0       0       0       0   \n",
              "1690  0.0    13.2                 1  ...       0       0       0       0   \n",
              "3525  5.9     0.0                 0  ...       0       0       0       0   \n",
              "4700  0.0     0.0                 1  ...       0       0       0       0   \n",
              "\n",
              "      Piso_E  Piso_F  Piso_G  Piso_T  Lado_P  Lado_S  \n",
              "4320       0       0       1       0       0       1  \n",
              "1437       0       1       0       0       0       1  \n",
              "1690       0       1       0       0       0       1  \n",
              "3525       0       1       0       0       0       1  \n",
              "4700       0       1       0       0       0       1  \n",
              "\n",
              "[5 rows x 25 columns]"
            ],
            "text/html": [
              "\n",
              "  <div id=\"df-80945128-7317-402f-a432-cef77b97b9ff\">\n",
              "    <div class=\"colab-df-container\">\n",
              "      <div>\n",
              "<style scoped>\n",
              "    .dataframe tbody tr th:only-of-type {\n",
              "        vertical-align: middle;\n",
              "    }\n",
              "\n",
              "    .dataframe tbody tr th {\n",
              "        vertical-align: top;\n",
              "    }\n",
              "\n",
              "    .dataframe thead th {\n",
              "        text-align: right;\n",
              "    }\n",
              "</style>\n",
              "<table border=\"1\" class=\"dataframe\">\n",
              "  <thead>\n",
              "    <tr style=\"text-align: right;\">\n",
              "      <th></th>\n",
              "      <th>PassengerId</th>\n",
              "      <th>CryoSleep</th>\n",
              "      <th>Age</th>\n",
              "      <th>VIP</th>\n",
              "      <th>RoomService</th>\n",
              "      <th>FoodCourt</th>\n",
              "      <th>ShoppingMall</th>\n",
              "      <th>Spa</th>\n",
              "      <th>VRDeck</th>\n",
              "      <th>HomePlanet_Earth</th>\n",
              "      <th>...</th>\n",
              "      <th>Piso_A</th>\n",
              "      <th>Piso_B</th>\n",
              "      <th>Piso_C</th>\n",
              "      <th>Piso_D</th>\n",
              "      <th>Piso_E</th>\n",
              "      <th>Piso_F</th>\n",
              "      <th>Piso_G</th>\n",
              "      <th>Piso_T</th>\n",
              "      <th>Lado_P</th>\n",
              "      <th>Lado_S</th>\n",
              "    </tr>\n",
              "  </thead>\n",
              "  <tbody>\n",
              "    <tr>\n",
              "      <th>4320</th>\n",
              "      <td>5890</td>\n",
              "      <td>True</td>\n",
              "      <td>0.3</td>\n",
              "      <td>False</td>\n",
              "      <td>0.0</td>\n",
              "      <td>0.0</td>\n",
              "      <td>0.0</td>\n",
              "      <td>0.0</td>\n",
              "      <td>0.0</td>\n",
              "      <td>1</td>\n",
              "      <td>...</td>\n",
              "      <td>0</td>\n",
              "      <td>0</td>\n",
              "      <td>0</td>\n",
              "      <td>0</td>\n",
              "      <td>0</td>\n",
              "      <td>0</td>\n",
              "      <td>1</td>\n",
              "      <td>0</td>\n",
              "      <td>0</td>\n",
              "      <td>1</td>\n",
              "    </tr>\n",
              "    <tr>\n",
              "      <th>1437</th>\n",
              "      <td>3770</td>\n",
              "      <td>True</td>\n",
              "      <td>-0.9</td>\n",
              "      <td>False</td>\n",
              "      <td>0.0</td>\n",
              "      <td>0.0</td>\n",
              "      <td>0.0</td>\n",
              "      <td>0.0</td>\n",
              "      <td>0.0</td>\n",
              "      <td>1</td>\n",
              "      <td>...</td>\n",
              "      <td>0</td>\n",
              "      <td>0</td>\n",
              "      <td>0</td>\n",
              "      <td>0</td>\n",
              "      <td>0</td>\n",
              "      <td>1</td>\n",
              "      <td>0</td>\n",
              "      <td>0</td>\n",
              "      <td>0</td>\n",
              "      <td>1</td>\n",
              "    </tr>\n",
              "    <tr>\n",
              "      <th>1690</th>\n",
              "      <td>8070</td>\n",
              "      <td>False</td>\n",
              "      <td>1.2</td>\n",
              "      <td>False</td>\n",
              "      <td>0.0</td>\n",
              "      <td>0.3</td>\n",
              "      <td>0.0</td>\n",
              "      <td>0.0</td>\n",
              "      <td>13.2</td>\n",
              "      <td>1</td>\n",
              "      <td>...</td>\n",
              "      <td>0</td>\n",
              "      <td>0</td>\n",
              "      <td>0</td>\n",
              "      <td>0</td>\n",
              "      <td>0</td>\n",
              "      <td>1</td>\n",
              "      <td>0</td>\n",
              "      <td>0</td>\n",
              "      <td>0</td>\n",
              "      <td>1</td>\n",
              "    </tr>\n",
              "    <tr>\n",
              "      <th>3525</th>\n",
              "      <td>4575</td>\n",
              "      <td>False</td>\n",
              "      <td>-0.1</td>\n",
              "      <td>False</td>\n",
              "      <td>16.3</td>\n",
              "      <td>0.0</td>\n",
              "      <td>3.5</td>\n",
              "      <td>5.9</td>\n",
              "      <td>0.0</td>\n",
              "      <td>0</td>\n",
              "      <td>...</td>\n",
              "      <td>0</td>\n",
              "      <td>0</td>\n",
              "      <td>0</td>\n",
              "      <td>0</td>\n",
              "      <td>0</td>\n",
              "      <td>1</td>\n",
              "      <td>0</td>\n",
              "      <td>0</td>\n",
              "      <td>0</td>\n",
              "      <td>1</td>\n",
              "    </tr>\n",
              "    <tr>\n",
              "      <th>4700</th>\n",
              "      <td>699</td>\n",
              "      <td>False</td>\n",
              "      <td>-0.4</td>\n",
              "      <td>False</td>\n",
              "      <td>0.0</td>\n",
              "      <td>10.5</td>\n",
              "      <td>0.1</td>\n",
              "      <td>0.0</td>\n",
              "      <td>0.0</td>\n",
              "      <td>1</td>\n",
              "      <td>...</td>\n",
              "      <td>0</td>\n",
              "      <td>0</td>\n",
              "      <td>0</td>\n",
              "      <td>0</td>\n",
              "      <td>0</td>\n",
              "      <td>1</td>\n",
              "      <td>0</td>\n",
              "      <td>0</td>\n",
              "      <td>0</td>\n",
              "      <td>1</td>\n",
              "    </tr>\n",
              "  </tbody>\n",
              "</table>\n",
              "<p>5 rows × 25 columns</p>\n",
              "</div>\n",
              "      <button class=\"colab-df-convert\" onclick=\"convertToInteractive('df-80945128-7317-402f-a432-cef77b97b9ff')\"\n",
              "              title=\"Convert this dataframe to an interactive table.\"\n",
              "              style=\"display:none;\">\n",
              "        \n",
              "  <svg xmlns=\"http://www.w3.org/2000/svg\" height=\"24px\"viewBox=\"0 0 24 24\"\n",
              "       width=\"24px\">\n",
              "    <path d=\"M0 0h24v24H0V0z\" fill=\"none\"/>\n",
              "    <path d=\"M18.56 5.44l.94 2.06.94-2.06 2.06-.94-2.06-.94-.94-2.06-.94 2.06-2.06.94zm-11 1L8.5 8.5l.94-2.06 2.06-.94-2.06-.94L8.5 2.5l-.94 2.06-2.06.94zm10 10l.94 2.06.94-2.06 2.06-.94-2.06-.94-.94-2.06-.94 2.06-2.06.94z\"/><path d=\"M17.41 7.96l-1.37-1.37c-.4-.4-.92-.59-1.43-.59-.52 0-1.04.2-1.43.59L10.3 9.45l-7.72 7.72c-.78.78-.78 2.05 0 2.83L4 21.41c.39.39.9.59 1.41.59.51 0 1.02-.2 1.41-.59l7.78-7.78 2.81-2.81c.8-.78.8-2.07 0-2.86zM5.41 20L4 18.59l7.72-7.72 1.47 1.35L5.41 20z\"/>\n",
              "  </svg>\n",
              "      </button>\n",
              "      \n",
              "  <style>\n",
              "    .colab-df-container {\n",
              "      display:flex;\n",
              "      flex-wrap:wrap;\n",
              "      gap: 12px;\n",
              "    }\n",
              "\n",
              "    .colab-df-convert {\n",
              "      background-color: #E8F0FE;\n",
              "      border: none;\n",
              "      border-radius: 50%;\n",
              "      cursor: pointer;\n",
              "      display: none;\n",
              "      fill: #1967D2;\n",
              "      height: 32px;\n",
              "      padding: 0 0 0 0;\n",
              "      width: 32px;\n",
              "    }\n",
              "\n",
              "    .colab-df-convert:hover {\n",
              "      background-color: #E2EBFA;\n",
              "      box-shadow: 0px 1px 2px rgba(60, 64, 67, 0.3), 0px 1px 3px 1px rgba(60, 64, 67, 0.15);\n",
              "      fill: #174EA6;\n",
              "    }\n",
              "\n",
              "    [theme=dark] .colab-df-convert {\n",
              "      background-color: #3B4455;\n",
              "      fill: #D2E3FC;\n",
              "    }\n",
              "\n",
              "    [theme=dark] .colab-df-convert:hover {\n",
              "      background-color: #434B5C;\n",
              "      box-shadow: 0px 1px 3px 1px rgba(0, 0, 0, 0.15);\n",
              "      filter: drop-shadow(0px 1px 2px rgba(0, 0, 0, 0.3));\n",
              "      fill: #FFFFFF;\n",
              "    }\n",
              "  </style>\n",
              "\n",
              "      <script>\n",
              "        const buttonEl =\n",
              "          document.querySelector('#df-80945128-7317-402f-a432-cef77b97b9ff button.colab-df-convert');\n",
              "        buttonEl.style.display =\n",
              "          google.colab.kernel.accessAllowed ? 'block' : 'none';\n",
              "\n",
              "        async function convertToInteractive(key) {\n",
              "          const element = document.querySelector('#df-80945128-7317-402f-a432-cef77b97b9ff');\n",
              "          const dataTable =\n",
              "            await google.colab.kernel.invokeFunction('convertToInteractive',\n",
              "                                                     [key], {});\n",
              "          if (!dataTable) return;\n",
              "\n",
              "          const docLinkHtml = 'Like what you see? Visit the ' +\n",
              "            '<a target=\"_blank\" href=https://colab.research.google.com/notebooks/data_table.ipynb>data table notebook</a>'\n",
              "            + ' to learn more about interactive tables.';\n",
              "          element.innerHTML = '';\n",
              "          dataTable['output_type'] = 'display_data';\n",
              "          await google.colab.output.renderOutput(dataTable, element);\n",
              "          const docLink = document.createElement('div');\n",
              "          docLink.innerHTML = docLinkHtml;\n",
              "          element.appendChild(docLink);\n",
              "        }\n",
              "      </script>\n",
              "    </div>\n",
              "  </div>\n",
              "  "
            ]
          },
          "metadata": {},
          "execution_count": 23
        },
        {
          "output_type": "stream",
          "name": "stdout",
          "text": [
            "time: 43.3 ms (started: 2022-12-04 00:23:16 +00:00)\n"
          ]
        }
      ]
    },
    {
      "cell_type": "code",
      "source": [
        "# Verificamos que no haya valores faltantes en las columnas a utilizar para la predicción\n",
        "interest_cols = [\"HomePlanet\", \"Destination\", 'Piso', \"Lado\", 'Age', 'RoomService', 'FoodCourt', 'ShoppingMall', 'Spa', 'VRDeck', \"CryoSleep\", \"VIP\"]\n",
        "msno.bar(x_train[interest_cols],figsize=(10, 3), sort=\"ascending\",fontsize=12, color='tomato')"
      ],
      "metadata": {
        "colab": {
          "base_uri": "https://localhost:8080/",
          "height": 342
        },
        "id": "7IumAPlzNUhV",
        "outputId": "b9a9a3e9-874f-47f3-9a4d-ff31d30f2aef"
      },
      "execution_count": 24,
      "outputs": [
        {
          "output_type": "execute_result",
          "data": {
            "text/plain": [
              "<matplotlib.axes._subplots.AxesSubplot at 0x7f8ab8778d00>"
            ]
          },
          "metadata": {},
          "execution_count": 24
        },
        {
          "output_type": "display_data",
          "data": {
            "text/plain": [
              "<Figure size 720x216 with 3 Axes>"
            ],
            "image/png": "[encoded data removed]"
          },
          "metadata": {
            "needs_background": "light"
          }
        },
        {
          "output_type": "stream",
          "name": "stdout",
          "text": [
            "time: 1.04 s (started: 2022-12-04 00:23:19 +00:00)\n"
          ]
        }
      ]
    },
    {
      "cell_type": "code",
      "source": [
        "# Analizamos e identificamos correlación de variables\n",
        "plt.figure(figsize = (20,10))\n",
        "sns.set(font_scale=1)\n",
        "sns.heatmap(x_train_hot.corr(), annot = True, cmap = 'coolwarm', fmt=\".2f\")"
      ],
      "metadata": {
        "colab": {
          "base_uri": "https://localhost:8080/",
          "height": 730
        },
        "id": "p8Fy-ZubkpVh",
        "outputId": "6b3aae95-2b78-4e97-bac3-e784aa39b077"
      },
      "execution_count": 25,
      "outputs": [
        {
          "output_type": "execute_result",
          "data": {
            "text/plain": [
              "<matplotlib.axes._subplots.AxesSubplot at 0x7f8ab86d4d90>"
            ]
          },
          "metadata": {},
          "execution_count": 25
        },
        {
          "output_type": "display_data",
          "data": {
            "text/plain": [
              "<Figure size 1440x720 with 2 Axes>"
            ],
            "image/png": "[encoded data removed]"
          },
          "metadata": {
            "needs_background": "light"
          }
        },
        {
          "output_type": "stream",
          "name": "stdout",
          "text": [
            "time: 2.96 s (started: 2022-12-04 00:23:24 +00:00)\n"
          ]
        }
      ]
    },
    {
      "cell_type": "code",
      "source": [
        "# Identifico el ranking de capacidad predictora de las variables independientes en base a SelectKBest\n",
        "features = np.array(x_train_hot.columns)\n",
        "select = SelectKBest(score_func=f_classif, k=len(features))\n",
        "z = select.fit_transform(x_train_hot,y_train)\n",
        "\n",
        "scores_df = pd.DataFrame({\"Feature\": features, \"Score\": select.scores_}).sort_values([\"Score\"], ascending = [False])\n",
        "scores_df"
      ],
      "metadata": {
        "colab": {
          "base_uri": "https://localhost:8080/",
          "height": 851
        },
        "id": "JEnmq0E-ZZ5s",
        "outputId": "2146ce0d-080d-401f-fbf3-db38296d4b94"
      },
      "execution_count": 26,
      "outputs": [
        {
          "output_type": "execute_result",
          "data": {
            "text/plain": [
              "                      Feature  Score\n",
              "1                   CryoSleep 1714.3\n",
              "4                 RoomService  403.2\n",
              "7                         Spa  304.4\n",
              "8                      VRDeck  294.4\n",
              "10          HomePlanet_Europa  193.9\n",
              "9            HomePlanet_Earth  165.7\n",
              "16                     Piso_B  133.4\n",
              "12    Destination_55 Cancri e   84.1\n",
              "17                     Piso_C   76.2\n",
              "14    Destination_TRAPPIST-1e   71.0\n",
              "23                     Lado_P   64.3\n",
              "24                     Lado_S   64.3\n",
              "19                     Piso_E   50.8\n",
              "20                     Piso_F   41.4\n",
              "2                         Age   28.0\n",
              "3                         VIP   15.9\n",
              "5                   FoodCourt    9.7\n",
              "18                     Piso_D    8.4\n",
              "0                 PassengerId    4.5\n",
              "11            HomePlanet_Mars    1.1\n",
              "22                     Piso_T    1.0\n",
              "21                     Piso_G    0.5\n",
              "6                ShoppingMall    0.5\n",
              "15                     Piso_A    0.4\n",
              "13  Destination_PSO J318.5-22    0.2"
            ],
            "text/html": [
              "\n",
              "  <div id=\"df-c894be58-a39c-476c-8ce2-9646bd890466\">\n",
              "    <div class=\"colab-df-container\">\n",
              "      <div>\n",
              "<style scoped>\n",
              "    .dataframe tbody tr th:only-of-type {\n",
              "        vertical-align: middle;\n",
              "    }\n",
              "\n",
              "    .dataframe tbody tr th {\n",
              "        vertical-align: top;\n",
              "    }\n",
              "\n",
              "    .dataframe thead th {\n",
              "        text-align: right;\n",
              "    }\n",
              "</style>\n",
              "<table border=\"1\" class=\"dataframe\">\n",
              "  <thead>\n",
              "    <tr style=\"text-align: right;\">\n",
              "      <th></th>\n",
              "      <th>Feature</th>\n",
              "      <th>Score</th>\n",
              "    </tr>\n",
              "  </thead>\n",
              "  <tbody>\n",
              "    <tr>\n",
              "      <th>1</th>\n",
              "      <td>CryoSleep</td>\n",
              "      <td>1714.3</td>\n",
              "    </tr>\n",
              "    <tr>\n",
              "      <th>4</th>\n",
              "      <td>RoomService</td>\n",
              "      <td>403.2</td>\n",
              "    </tr>\n",
              "    <tr>\n",
              "      <th>7</th>\n",
              "      <td>Spa</td>\n",
              "      <td>304.4</td>\n",
              "    </tr>\n",
              "    <tr>\n",
              "      <th>8</th>\n",
              "      <td>VRDeck</td>\n",
              "      <td>294.4</td>\n",
              "    </tr>\n",
              "    <tr>\n",
              "      <th>10</th>\n",
              "      <td>HomePlanet_Europa</td>\n",
              "      <td>193.9</td>\n",
              "    </tr>\n",
              "    <tr>\n",
              "      <th>9</th>\n",
              "      <td>HomePlanet_Earth</td>\n",
              "      <td>165.7</td>\n",
              "    </tr>\n",
              "    <tr>\n",
              "      <th>16</th>\n",
              "      <td>Piso_B</td>\n",
              "      <td>133.4</td>\n",
              "    </tr>\n",
              "    <tr>\n",
              "      <th>12</th>\n",
              "      <td>Destination_55 Cancri e</td>\n",
              "      <td>84.1</td>\n",
              "    </tr>\n",
              "    <tr>\n",
              "      <th>17</th>\n",
              "      <td>Piso_C</td>\n",
              "      <td>76.2</td>\n",
              "    </tr>\n",
              "    <tr>\n",
              "      <th>14</th>\n",
              "      <td>Destination_TRAPPIST-1e</td>\n",
              "      <td>71.0</td>\n",
              "    </tr>\n",
              "    <tr>\n",
              "      <th>23</th>\n",
              "      <td>Lado_P</td>\n",
              "      <td>64.3</td>\n",
              "    </tr>\n",
              "    <tr>\n",
              "      <th>24</th>\n",
              "      <td>Lado_S</td>\n",
              "      <td>64.3</td>\n",
              "    </tr>\n",
              "    <tr>\n",
              "      <th>19</th>\n",
              "      <td>Piso_E</td>\n",
              "      <td>50.8</td>\n",
              "    </tr>\n",
              "    <tr>\n",
              "      <th>20</th>\n",
              "      <td>Piso_F</td>\n",
              "      <td>41.4</td>\n",
              "    </tr>\n",
              "    <tr>\n",
              "      <th>2</th>\n",
              "      <td>Age</td>\n",
              "      <td>28.0</td>\n",
              "    </tr>\n",
              "    <tr>\n",
              "      <th>3</th>\n",
              "      <td>VIP</td>\n",
              "      <td>15.9</td>\n",
              "    </tr>\n",
              "    <tr>\n",
              "      <th>5</th>\n",
              "      <td>FoodCourt</td>\n",
              "      <td>9.7</td>\n",
              "    </tr>\n",
              "    <tr>\n",
              "      <th>18</th>\n",
              "      <td>Piso_D</td>\n",
              "      <td>8.4</td>\n",
              "    </tr>\n",
              "    <tr>\n",
              "      <th>0</th>\n",
              "      <td>PassengerId</td>\n",
              "      <td>4.5</td>\n",
              "    </tr>\n",
              "    <tr>\n",
              "      <th>11</th>\n",
              "      <td>HomePlanet_Mars</td>\n",
              "      <td>1.1</td>\n",
              "    </tr>\n",
              "    <tr>\n",
              "      <th>22</th>\n",
              "      <td>Piso_T</td>\n",
              "      <td>1.0</td>\n",
              "    </tr>\n",
              "    <tr>\n",
              "      <th>21</th>\n",
              "      <td>Piso_G</td>\n",
              "      <td>0.5</td>\n",
              "    </tr>\n",
              "    <tr>\n",
              "      <th>6</th>\n",
              "      <td>ShoppingMall</td>\n",
              "      <td>0.5</td>\n",
              "    </tr>\n",
              "    <tr>\n",
              "      <th>15</th>\n",
              "      <td>Piso_A</td>\n",
              "      <td>0.4</td>\n",
              "    </tr>\n",
              "    <tr>\n",
              "      <th>13</th>\n",
              "      <td>Destination_PSO J318.5-22</td>\n",
              "      <td>0.2</td>\n",
              "    </tr>\n",
              "  </tbody>\n",
              "</table>\n",
              "</div>\n",
              "      <button class=\"colab-df-convert\" onclick=\"convertToInteractive('df-c894be58-a39c-476c-8ce2-9646bd890466')\"\n",
              "              title=\"Convert this dataframe to an interactive table.\"\n",
              "              style=\"display:none;\">\n",
              "        \n",
              "  <svg xmlns=\"http://www.w3.org/2000/svg\" height=\"24px\"viewBox=\"0 0 24 24\"\n",
              "       width=\"24px\">\n",
              "    <path d=\"M0 0h24v24H0V0z\" fill=\"none\"/>\n",
              "    <path d=\"M18.56 5.44l.94 2.06.94-2.06 2.06-.94-2.06-.94-.94-2.06-.94 2.06-2.06.94zm-11 1L8.5 8.5l.94-2.06 2.06-.94-2.06-.94L8.5 2.5l-.94 2.06-2.06.94zm10 10l.94 2.06.94-2.06 2.06-.94-2.06-.94-.94-2.06-.94 2.06-2.06.94z\"/><path d=\"M17.41 7.96l-1.37-1.37c-.4-.4-.92-.59-1.43-.59-.52 0-1.04.2-1.43.59L10.3 9.45l-7.72 7.72c-.78.78-.78 2.05 0 2.83L4 21.41c.39.39.9.59 1.41.59.51 0 1.02-.2 1.41-.59l7.78-7.78 2.81-2.81c.8-.78.8-2.07 0-2.86zM5.41 20L4 18.59l7.72-7.72 1.47 1.35L5.41 20z\"/>\n",
              "  </svg>\n",
              "      </button>\n",
              "      \n",
              "  <style>\n",
              "    .colab-df-container {\n",
              "      display:flex;\n",
              "      flex-wrap:wrap;\n",
              "      gap: 12px;\n",
              "    }\n",
              "\n",
              "    .colab-df-convert {\n",
              "      background-color: #E8F0FE;\n",
              "      border: none;\n",
              "      border-radius: 50%;\n",
              "      cursor: pointer;\n",
              "      display: none;\n",
              "      fill: #1967D2;\n",
              "      height: 32px;\n",
              "      padding: 0 0 0 0;\n",
              "      width: 32px;\n",
              "    }\n",
              "\n",
              "    .colab-df-convert:hover {\n",
              "      background-color: #E2EBFA;\n",
              "      box-shadow: 0px 1px 2px rgba(60, 64, 67, 0.3), 0px 1px 3px 1px rgba(60, 64, 67, 0.15);\n",
              "      fill: #174EA6;\n",
              "    }\n",
              "\n",
              "    [theme=dark] .colab-df-convert {\n",
              "      background-color: #3B4455;\n",
              "      fill: #D2E3FC;\n",
              "    }\n",
              "\n",
              "    [theme=dark] .colab-df-convert:hover {\n",
              "      background-color: #434B5C;\n",
              "      box-shadow: 0px 1px 3px 1px rgba(0, 0, 0, 0.15);\n",
              "      filter: drop-shadow(0px 1px 2px rgba(0, 0, 0, 0.3));\n",
              "      fill: #FFFFFF;\n",
              "    }\n",
              "  </style>\n",
              "\n",
              "      <script>\n",
              "        const buttonEl =\n",
              "          document.querySelector('#df-c894be58-a39c-476c-8ce2-9646bd890466 button.colab-df-convert');\n",
              "        buttonEl.style.display =\n",
              "          google.colab.kernel.accessAllowed ? 'block' : 'none';\n",
              "\n",
              "        async function convertToInteractive(key) {\n",
              "          const element = document.querySelector('#df-c894be58-a39c-476c-8ce2-9646bd890466');\n",
              "          const dataTable =\n",
              "            await google.colab.kernel.invokeFunction('convertToInteractive',\n",
              "                                                     [key], {});\n",
              "          if (!dataTable) return;\n",
              "\n",
              "          const docLinkHtml = 'Like what you see? Visit the ' +\n",
              "            '<a target=\"_blank\" href=https://colab.research.google.com/notebooks/data_table.ipynb>data table notebook</a>'\n",
              "            + ' to learn more about interactive tables.';\n",
              "          element.innerHTML = '';\n",
              "          dataTable['output_type'] = 'display_data';\n",
              "          await google.colab.output.renderOutput(dataTable, element);\n",
              "          const docLink = document.createElement('div');\n",
              "          docLink.innerHTML = docLinkHtml;\n",
              "          element.appendChild(docLink);\n",
              "        }\n",
              "      </script>\n",
              "    </div>\n",
              "  </div>\n",
              "  "
            ]
          },
          "metadata": {},
          "execution_count": 26
        },
        {
          "output_type": "stream",
          "name": "stdout",
          "text": [
            "time: 41.2 ms (started: 2022-12-04 00:23:32 +00:00)\n"
          ]
        }
      ]
    },
    {
      "cell_type": "code",
      "source": [
        "# Transformaciones sobre el TEST DATASET\n",
        "# Imputamos valores faltantes en las columnas categóricas y booleanas con el valor más frecuente.\n",
        "imputer = SimpleImputer(strategy=\"most_frequent\")\n",
        "x_test[[\"HomePlanet\", \"Destination\", 'Piso', \"Lado\", \"CryoSleep\", \"VIP\"]] = imputer.fit_transform(x_test[[\"HomePlanet\", \"Destination\", 'Piso', \"Lado\", \"CryoSleep\", \"VIP\"]])\n",
        "# Imputamos valores faltantes en las columnas cuantitativas con KNN. \n",
        "Qcols = ['Age', 'RoomService', 'FoodCourt', 'ShoppingMall', 'Spa', 'VRDeck']\n",
        "imputerKNN = KNNImputer()\n",
        "x_test[Qcols] = imputerKNN.fit_transform(x_test[Qcols])\n",
        "\n",
        "# Escalamiento\n",
        "escalador = preprocessing.RobustScaler()\n",
        "x_test[['Age', 'RoomService', 'FoodCourt', 'ShoppingMall', 'Spa', 'VRDeck']] = escalador.fit_transform(x_test[['Age', 'RoomService', 'FoodCourt', 'ShoppingMall', 'Spa', 'VRDeck']])\n",
        "\n",
        "# Hot encoding a las categóricas\n",
        "x_test_hot = pd.get_dummies(data=x_test, columns=[\"HomePlanet\", \"Destination\", 'Piso', \"Lado\"]).drop(columns=['Cabin', 'Num', 'Name'])\n",
        "x_test.shape"
      ],
      "metadata": {
        "id": "-Y5rQu0ECJ5B",
        "colab": {
          "base_uri": "https://localhost:8080/"
        },
        "outputId": "ee856256-1c5f-4f3a-ae07-39f76649236b"
      },
      "execution_count": 27,
      "outputs": [
        {
          "output_type": "stream",
          "name": "stderr",
          "text": [
            "/usr/local/lib/python3.8/dist-packages/pandas/core/frame.py:3678: SettingWithCopyWarning: \n",
            "A value is trying to be set on a copy of a slice from a DataFrame.\n",
            "Try using .loc[row_indexer,col_indexer] = value instead\n",
            "\n",
            "See the caveats in the documentation: https://pandas.pydata.org/pandas-docs/stable/user_guide/indexing.html#returning-a-view-versus-a-copy\n",
            "  self[col] = igetitem(value, i)\n",
            "/usr/local/lib/python3.8/dist-packages/pandas/core/frame.py:3678: SettingWithCopyWarning: \n",
            "A value is trying to be set on a copy of a slice from a DataFrame.\n",
            "Try using .loc[row_indexer,col_indexer] = value instead\n",
            "\n",
            "See the caveats in the documentation: https://pandas.pydata.org/pandas-docs/stable/user_guide/indexing.html#returning-a-view-versus-a-copy\n",
            "  self[col] = igetitem(value, i)\n",
            "/usr/local/lib/python3.8/dist-packages/pandas/core/frame.py:3678: SettingWithCopyWarning: \n",
            "A value is trying to be set on a copy of a slice from a DataFrame.\n",
            "Try using .loc[row_indexer,col_indexer] = value instead\n",
            "\n",
            "See the caveats in the documentation: https://pandas.pydata.org/pandas-docs/stable/user_guide/indexing.html#returning-a-view-versus-a-copy\n",
            "  self[col] = igetitem(value, i)\n"
          ]
        },
        {
          "output_type": "execute_result",
          "data": {
            "text/plain": [
              "(1565, 16)"
            ]
          },
          "metadata": {},
          "execution_count": 27
        },
        {
          "output_type": "stream",
          "name": "stdout",
          "text": [
            "time: 83.5 ms (started: 2022-12-04 00:23:40 +00:00)\n"
          ]
        }
      ]
    },
    {
      "cell_type": "markdown",
      "metadata": {
        "id": "Xbb-CUA_uXSM"
      },
      "source": [
        "### Planteo modelos\n",
        "Tienen que elegir los 2 mejores modelos así que prueben con varios."
      ]
    },
    {
      "cell_type": "markdown",
      "source": [
        "<font color='blue'>Aplicamos una selección multimodelos en base a: https://blog.escueladedatosvivos.ai/como-hacer-optimizacion-parametros-python/. \n",
        "Los resultados de cada prueba, se calaculan sobre el conjunto de test y se muestran progresivamente en una tabla comparativa"
      ],
      "metadata": {
        "id": "vStPu426BWbN"
      }
    },
    {
      "cell_type": "code",
      "source": [
        "# Acondicionamiento de detalles en ambos datasets por requerimientos de los siguientes métodos a utilizar\n",
        "x_train_hot = x_train_hot.drop(columns=['Piso_T']) #Tuve que eliminar esta columna porque estaba ausente en el conjunto de test\n",
        "print(x_train_hot.shape)\n",
        "print(x_test_hot.shape)\n",
        "x_train_hot[[\"CryoSleep\", \"VIP\"]] = x_train_hot[[\"CryoSleep\", \"VIP\"]].astype(\"float64\")\n",
        "x_test_hot[[\"CryoSleep\", \"VIP\"]] = x_test_hot[[\"CryoSleep\", \"VIP\"]].astype(\"float64\")"
      ],
      "metadata": {
        "colab": {
          "base_uri": "https://localhost:8080/"
        },
        "id": "xCvN8POhE8B4",
        "outputId": "68696f49-9c7a-4cc4-fbba-f26d286ce958"
      },
      "execution_count": 28,
      "outputs": [
        {
          "output_type": "stream",
          "name": "stdout",
          "text": [
            "(6258, 24)\n",
            "(1565, 24)\n",
            "time: 16.1 ms (started: 2022-12-04 00:23:50 +00:00)\n"
          ]
        }
      ]
    },
    {
      "cell_type": "code",
      "source": [
        "automl =autosklearn.classification.AutoSklearnClassifier()"
      ],
      "metadata": {
        "id": "ROUfr3GukaOG",
        "outputId": "29afcb1f-f18a-4645-b6cf-4d6f7f8d51e8",
        "colab": {
          "base_uri": "https://localhost:8080/"
        }
      },
      "execution_count": 40,
      "outputs": [
        {
          "output_type": "stream",
          "name": "stdout",
          "text": [
            "time: 1.09 ms (started: 2022-12-04 00:59:24 +00:00)\n"
          ]
        }
      ]
    },
    {
      "cell_type": "code",
      "source": [
        "automl.fit(x_train_hot,y_train)"
      ],
      "metadata": {
        "id": "LNX0WKtVk30n",
        "outputId": "9082aacb-eb94-4eb0-bd07-f8601773bda0",
        "colab": {
          "base_uri": "https://localhost:8080/"
        }
      },
      "execution_count": 41,
      "outputs": [
        {
          "output_type": "execute_result",
          "data": {
            "text/plain": [
              "AutoSklearnClassifier(ensemble_class=<class 'autosklearn.ensembles.ensemble_selection.EnsembleSelection'>,\n",
              "                      per_run_time_limit=360)"
            ]
          },
          "metadata": {},
          "execution_count": 41
        },
        {
          "output_type": "stream",
          "name": "stdout",
          "text": [
            "time: 1h 4s (started: 2022-12-04 01:00:03 +00:00)\n"
          ]
        }
      ]
    },
    {
      "cell_type": "code",
      "source": [
        "train_predictions = automl.predict(x_train_hot)\n",
        "accuracy = accuracy_score(y_train, train_predictions)\n",
        "print(\"Accuracy train Arbol de decisión: %.2f%%\" % (accuracy * 100.0))\n",
        "\n",
        "#test_predictions = automl.predict(x_test)\n",
        "#accuracy = accuracy_score(y_test, test_predictions)\n",
        "#print(\"Accuracy test Arbol de decisión: %.2f%%\" % (accuracy * 100.0))"
      ],
      "metadata": {
        "id": "7x9DPWx-806Q",
        "outputId": "20eb82d5-45e4-4f44-c5fc-05b1e2a89ac8",
        "colab": {
          "base_uri": "https://localhost:8080/"
        }
      },
      "execution_count": 43,
      "outputs": [
        {
          "output_type": "stream",
          "name": "stdout",
          "text": [
            "Accuracy train Arbol de decisión: 85.30%\n",
            "time: 12.5 s (started: 2022-12-04 02:45:54 +00:00)\n"
          ]
        }
      ]
    },
    {
      "cell_type": "code",
      "source": [
        "# Creación de dataframe de resultados\n",
        "cols = ['Case','SGD','Ridge','KNN','SVM','Bagging','RndForest','LogReg','LGB']\n",
        "resul = pd.DataFrame(columns=cols)\n",
        "resul.set_index(\"Case\",inplace=True)\n",
        "resul.loc['Standard'] = [0,0,0,0,0,0,0,0]\n",
        "resul.loc['Correlacion_1'] = [0,0,0,0,0,0,0,0]\n",
        "resul.loc['Correlacion_2'] = [0,0,0,0,0,0,0,0]\n",
        "resul.loc['Cap_pred_1'] = [0,0,0,0,0,0,0,0]\n",
        "resul.loc['Cap_pred_2'] = [0,0,0,0,0,0,0,0]\n",
        "resul.loc['RandomSearch'] = [0,0,0,0,0,0,0,0]\n",
        "resul.style.format(\"{:.3f}\")"
      ],
      "metadata": {
        "colab": {
          "base_uri": "https://localhost:8080/",
          "height": 287
        },
        "id": "2Ed6flVwA4fl",
        "outputId": "33838356-28a5-40b7-dfe9-06f4d4a42402"
      },
      "execution_count": 29,
      "outputs": [
        {
          "output_type": "execute_result",
          "data": {
            "text/plain": [
              "<pandas.io.formats.style.Styler at 0x7f8ab81bf0d0>"
            ],
            "text/html": [
              "<style type=\"text/css\">\n",
              "</style>\n",
              "<table id=\"T_334b8_\" class=\"dataframe\">\n",
              "  <thead>\n",
              "    <tr>\n",
              "      <th class=\"blank level0\" >&nbsp;</th>\n",
              "      <th class=\"col_heading level0 col0\" >SGD</th>\n",
              "      <th class=\"col_heading level0 col1\" >Ridge</th>\n",
              "      <th class=\"col_heading level0 col2\" >KNN</th>\n",
              "      <th class=\"col_heading level0 col3\" >SVM</th>\n",
              "      <th class=\"col_heading level0 col4\" >Bagging</th>\n",
              "      <th class=\"col_heading level0 col5\" >RndForest</th>\n",
              "      <th class=\"col_heading level0 col6\" >LogReg</th>\n",
              "      <th class=\"col_heading level0 col7\" >LGB</th>\n",
              "    </tr>\n",
              "    <tr>\n",
              "      <th class=\"index_name level0\" >Case</th>\n",
              "      <th class=\"blank col0\" >&nbsp;</th>\n",
              "      <th class=\"blank col1\" >&nbsp;</th>\n",
              "      <th class=\"blank col2\" >&nbsp;</th>\n",
              "      <th class=\"blank col3\" >&nbsp;</th>\n",
              "      <th class=\"blank col4\" >&nbsp;</th>\n",
              "      <th class=\"blank col5\" >&nbsp;</th>\n",
              "      <th class=\"blank col6\" >&nbsp;</th>\n",
              "      <th class=\"blank col7\" >&nbsp;</th>\n",
              "    </tr>\n",
              "  </thead>\n",
              "  <tbody>\n",
              "    <tr>\n",
              "      <th id=\"T_334b8_level0_row0\" class=\"row_heading level0 row0\" >Standard</th>\n",
              "      <td id=\"T_334b8_row0_col0\" class=\"data row0 col0\" >0.000</td>\n",
              "      <td id=\"T_334b8_row0_col1\" class=\"data row0 col1\" >0.000</td>\n",
              "      <td id=\"T_334b8_row0_col2\" class=\"data row0 col2\" >0.000</td>\n",
              "      <td id=\"T_334b8_row0_col3\" class=\"data row0 col3\" >0.000</td>\n",
              "      <td id=\"T_334b8_row0_col4\" class=\"data row0 col4\" >0.000</td>\n",
              "      <td id=\"T_334b8_row0_col5\" class=\"data row0 col5\" >0.000</td>\n",
              "      <td id=\"T_334b8_row0_col6\" class=\"data row0 col6\" >0.000</td>\n",
              "      <td id=\"T_334b8_row0_col7\" class=\"data row0 col7\" >0.000</td>\n",
              "    </tr>\n",
              "    <tr>\n",
              "      <th id=\"T_334b8_level0_row1\" class=\"row_heading level0 row1\" >Correlacion_1</th>\n",
              "      <td id=\"T_334b8_row1_col0\" class=\"data row1 col0\" >0.000</td>\n",
              "      <td id=\"T_334b8_row1_col1\" class=\"data row1 col1\" >0.000</td>\n",
              "      <td id=\"T_334b8_row1_col2\" class=\"data row1 col2\" >0.000</td>\n",
              "      <td id=\"T_334b8_row1_col3\" class=\"data row1 col3\" >0.000</td>\n",
              "      <td id=\"T_334b8_row1_col4\" class=\"data row1 col4\" >0.000</td>\n",
              "      <td id=\"T_334b8_row1_col5\" class=\"data row1 col5\" >0.000</td>\n",
              "      <td id=\"T_334b8_row1_col6\" class=\"data row1 col6\" >0.000</td>\n",
              "      <td id=\"T_334b8_row1_col7\" class=\"data row1 col7\" >0.000</td>\n",
              "    </tr>\n",
              "    <tr>\n",
              "      <th id=\"T_334b8_level0_row2\" class=\"row_heading level0 row2\" >Correlacion_2</th>\n",
              "      <td id=\"T_334b8_row2_col0\" class=\"data row2 col0\" >0.000</td>\n",
              "      <td id=\"T_334b8_row2_col1\" class=\"data row2 col1\" >0.000</td>\n",
              "      <td id=\"T_334b8_row2_col2\" class=\"data row2 col2\" >0.000</td>\n",
              "      <td id=\"T_334b8_row2_col3\" class=\"data row2 col3\" >0.000</td>\n",
              "      <td id=\"T_334b8_row2_col4\" class=\"data row2 col4\" >0.000</td>\n",
              "      <td id=\"T_334b8_row2_col5\" class=\"data row2 col5\" >0.000</td>\n",
              "      <td id=\"T_334b8_row2_col6\" class=\"data row2 col6\" >0.000</td>\n",
              "      <td id=\"T_334b8_row2_col7\" class=\"data row2 col7\" >0.000</td>\n",
              "    </tr>\n",
              "    <tr>\n",
              "      <th id=\"T_334b8_level0_row3\" class=\"row_heading level0 row3\" >Cap_pred_1</th>\n",
              "      <td id=\"T_334b8_row3_col0\" class=\"data row3 col0\" >0.000</td>\n",
              "      <td id=\"T_334b8_row3_col1\" class=\"data row3 col1\" >0.000</td>\n",
              "      <td id=\"T_334b8_row3_col2\" class=\"data row3 col2\" >0.000</td>\n",
              "      <td id=\"T_334b8_row3_col3\" class=\"data row3 col3\" >0.000</td>\n",
              "      <td id=\"T_334b8_row3_col4\" class=\"data row3 col4\" >0.000</td>\n",
              "      <td id=\"T_334b8_row3_col5\" class=\"data row3 col5\" >0.000</td>\n",
              "      <td id=\"T_334b8_row3_col6\" class=\"data row3 col6\" >0.000</td>\n",
              "      <td id=\"T_334b8_row3_col7\" class=\"data row3 col7\" >0.000</td>\n",
              "    </tr>\n",
              "    <tr>\n",
              "      <th id=\"T_334b8_level0_row4\" class=\"row_heading level0 row4\" >Cap_pred_2</th>\n",
              "      <td id=\"T_334b8_row4_col0\" class=\"data row4 col0\" >0.000</td>\n",
              "      <td id=\"T_334b8_row4_col1\" class=\"data row4 col1\" >0.000</td>\n",
              "      <td id=\"T_334b8_row4_col2\" class=\"data row4 col2\" >0.000</td>\n",
              "      <td id=\"T_334b8_row4_col3\" class=\"data row4 col3\" >0.000</td>\n",
              "      <td id=\"T_334b8_row4_col4\" class=\"data row4 col4\" >0.000</td>\n",
              "      <td id=\"T_334b8_row4_col5\" class=\"data row4 col5\" >0.000</td>\n",
              "      <td id=\"T_334b8_row4_col6\" class=\"data row4 col6\" >0.000</td>\n",
              "      <td id=\"T_334b8_row4_col7\" class=\"data row4 col7\" >0.000</td>\n",
              "    </tr>\n",
              "    <tr>\n",
              "      <th id=\"T_334b8_level0_row5\" class=\"row_heading level0 row5\" >RandomSearch</th>\n",
              "      <td id=\"T_334b8_row5_col0\" class=\"data row5 col0\" >0.000</td>\n",
              "      <td id=\"T_334b8_row5_col1\" class=\"data row5 col1\" >0.000</td>\n",
              "      <td id=\"T_334b8_row5_col2\" class=\"data row5 col2\" >0.000</td>\n",
              "      <td id=\"T_334b8_row5_col3\" class=\"data row5 col3\" >0.000</td>\n",
              "      <td id=\"T_334b8_row5_col4\" class=\"data row5 col4\" >0.000</td>\n",
              "      <td id=\"T_334b8_row5_col5\" class=\"data row5 col5\" >0.000</td>\n",
              "      <td id=\"T_334b8_row5_col6\" class=\"data row5 col6\" >0.000</td>\n",
              "      <td id=\"T_334b8_row5_col7\" class=\"data row5 col7\" >0.000</td>\n",
              "    </tr>\n",
              "  </tbody>\n",
              "</table>\n"
            ]
          },
          "metadata": {},
          "execution_count": 29
        },
        {
          "output_type": "stream",
          "name": "stdout",
          "text": [
            "time: 80.6 ms (started: 2022-12-04 00:24:03 +00:00)\n"
          ]
        }
      ]
    },
    {
      "cell_type": "code",
      "source": [
        "# Primera prueba de selección multimodelos con parámetros por defecto\n",
        "seed = 42\n",
        "#Creación de Modelos\n",
        "sgd   = SGDClassifier(random_state=seed)\n",
        "ridge = RidgeClassifier(random_state=seed)\n",
        "knn   = KNeighborsClassifier()\n",
        "svc   = SVC(gamma='auto', random_state=seed)\n",
        "bag   = BaggingClassifier(random_state=seed)\n",
        "rf    = RandomForestClassifier(n_estimators=10, random_state=seed)\n",
        "lr    =  LogisticRegression(solver='liblinear', random_state=seed)\n",
        "lgg   = lgb.LGBMClassifier(random_state=seed)\n",
        "\n",
        "models = [sgd,ridge,knn,svc,bag,rf,lr,lgg]\n",
        "\n",
        "col = 0\n",
        "for model in models:\n",
        "    model.fit(x_train_hot,y_train.values.ravel())\n",
        "    resul.iloc[0,col] = model.score(x_test_hot,y_test)\n",
        "    col += 1\n",
        "\n",
        "resul.style.format(\"{:.3f}\")"
      ],
      "metadata": {
        "colab": {
          "base_uri": "https://localhost:8080/",
          "height": 286
        },
        "id": "QGv0nsAgA5iu",
        "outputId": "c97d9749-63bd-4def-f000-3e8944ec4708"
      },
      "execution_count": null,
      "outputs": [
        {
          "output_type": "execute_result",
          "data": {
            "text/plain": [
              "<pandas.io.formats.style.Styler at 0x7f345307c550>"
            ],
            "text/html": [
              "<style type=\"text/css\">\n",
              "</style>\n",
              "<table id=\"T_4b98c_\" class=\"dataframe\">\n",
              "  <thead>\n",
              "    <tr>\n",
              "      <th class=\"blank level0\" >&nbsp;</th>\n",
              "      <th class=\"col_heading level0 col0\" >SGD</th>\n",
              "      <th class=\"col_heading level0 col1\" >Ridge</th>\n",
              "      <th class=\"col_heading level0 col2\" >KNN</th>\n",
              "      <th class=\"col_heading level0 col3\" >SVM</th>\n",
              "      <th class=\"col_heading level0 col4\" >Bagging</th>\n",
              "      <th class=\"col_heading level0 col5\" >RndForest</th>\n",
              "      <th class=\"col_heading level0 col6\" >LogReg</th>\n",
              "      <th class=\"col_heading level0 col7\" >LGB</th>\n",
              "    </tr>\n",
              "    <tr>\n",
              "      <th class=\"index_name level0\" >Case</th>\n",
              "      <th class=\"blank col0\" >&nbsp;</th>\n",
              "      <th class=\"blank col1\" >&nbsp;</th>\n",
              "      <th class=\"blank col2\" >&nbsp;</th>\n",
              "      <th class=\"blank col3\" >&nbsp;</th>\n",
              "      <th class=\"blank col4\" >&nbsp;</th>\n",
              "      <th class=\"blank col5\" >&nbsp;</th>\n",
              "      <th class=\"blank col6\" >&nbsp;</th>\n",
              "      <th class=\"blank col7\" >&nbsp;</th>\n",
              "    </tr>\n",
              "  </thead>\n",
              "  <tbody>\n",
              "    <tr>\n",
              "      <th id=\"T_4b98c_level0_row0\" class=\"row_heading level0 row0\" >Standard</th>\n",
              "      <td id=\"T_4b98c_row0_col0\" class=\"data row0 col0\" >0.780</td>\n",
              "      <td id=\"T_4b98c_row0_col1\" class=\"data row0 col1\" >0.772</td>\n",
              "      <td id=\"T_4b98c_row0_col2\" class=\"data row0 col2\" >0.654</td>\n",
              "      <td id=\"T_4b98c_row0_col3\" class=\"data row0 col3\" >0.685</td>\n",
              "      <td id=\"T_4b98c_row0_col4\" class=\"data row0 col4\" >0.792</td>\n",
              "      <td id=\"T_4b98c_row0_col5\" class=\"data row0 col5\" >0.787</td>\n",
              "      <td id=\"T_4b98c_row0_col6\" class=\"data row0 col6\" >0.792</td>\n",
              "      <td id=\"T_4b98c_row0_col7\" class=\"data row0 col7\" >0.814</td>\n",
              "    </tr>\n",
              "    <tr>\n",
              "      <th id=\"T_4b98c_level0_row1\" class=\"row_heading level0 row1\" >Correlacion_1</th>\n",
              "      <td id=\"T_4b98c_row1_col0\" class=\"data row1 col0\" >0.000</td>\n",
              "      <td id=\"T_4b98c_row1_col1\" class=\"data row1 col1\" >0.000</td>\n",
              "      <td id=\"T_4b98c_row1_col2\" class=\"data row1 col2\" >0.000</td>\n",
              "      <td id=\"T_4b98c_row1_col3\" class=\"data row1 col3\" >0.000</td>\n",
              "      <td id=\"T_4b98c_row1_col4\" class=\"data row1 col4\" >0.000</td>\n",
              "      <td id=\"T_4b98c_row1_col5\" class=\"data row1 col5\" >0.000</td>\n",
              "      <td id=\"T_4b98c_row1_col6\" class=\"data row1 col6\" >0.000</td>\n",
              "      <td id=\"T_4b98c_row1_col7\" class=\"data row1 col7\" >0.000</td>\n",
              "    </tr>\n",
              "    <tr>\n",
              "      <th id=\"T_4b98c_level0_row2\" class=\"row_heading level0 row2\" >Correlacion_2</th>\n",
              "      <td id=\"T_4b98c_row2_col0\" class=\"data row2 col0\" >0.000</td>\n",
              "      <td id=\"T_4b98c_row2_col1\" class=\"data row2 col1\" >0.000</td>\n",
              "      <td id=\"T_4b98c_row2_col2\" class=\"data row2 col2\" >0.000</td>\n",
              "      <td id=\"T_4b98c_row2_col3\" class=\"data row2 col3\" >0.000</td>\n",
              "      <td id=\"T_4b98c_row2_col4\" class=\"data row2 col4\" >0.000</td>\n",
              "      <td id=\"T_4b98c_row2_col5\" class=\"data row2 col5\" >0.000</td>\n",
              "      <td id=\"T_4b98c_row2_col6\" class=\"data row2 col6\" >0.000</td>\n",
              "      <td id=\"T_4b98c_row2_col7\" class=\"data row2 col7\" >0.000</td>\n",
              "    </tr>\n",
              "    <tr>\n",
              "      <th id=\"T_4b98c_level0_row3\" class=\"row_heading level0 row3\" >Cap_pred_1</th>\n",
              "      <td id=\"T_4b98c_row3_col0\" class=\"data row3 col0\" >0.000</td>\n",
              "      <td id=\"T_4b98c_row3_col1\" class=\"data row3 col1\" >0.000</td>\n",
              "      <td id=\"T_4b98c_row3_col2\" class=\"data row3 col2\" >0.000</td>\n",
              "      <td id=\"T_4b98c_row3_col3\" class=\"data row3 col3\" >0.000</td>\n",
              "      <td id=\"T_4b98c_row3_col4\" class=\"data row3 col4\" >0.000</td>\n",
              "      <td id=\"T_4b98c_row3_col5\" class=\"data row3 col5\" >0.000</td>\n",
              "      <td id=\"T_4b98c_row3_col6\" class=\"data row3 col6\" >0.000</td>\n",
              "      <td id=\"T_4b98c_row3_col7\" class=\"data row3 col7\" >0.000</td>\n",
              "    </tr>\n",
              "    <tr>\n",
              "      <th id=\"T_4b98c_level0_row4\" class=\"row_heading level0 row4\" >Cap_pred_2</th>\n",
              "      <td id=\"T_4b98c_row4_col0\" class=\"data row4 col0\" >0.000</td>\n",
              "      <td id=\"T_4b98c_row4_col1\" class=\"data row4 col1\" >0.000</td>\n",
              "      <td id=\"T_4b98c_row4_col2\" class=\"data row4 col2\" >0.000</td>\n",
              "      <td id=\"T_4b98c_row4_col3\" class=\"data row4 col3\" >0.000</td>\n",
              "      <td id=\"T_4b98c_row4_col4\" class=\"data row4 col4\" >0.000</td>\n",
              "      <td id=\"T_4b98c_row4_col5\" class=\"data row4 col5\" >0.000</td>\n",
              "      <td id=\"T_4b98c_row4_col6\" class=\"data row4 col6\" >0.000</td>\n",
              "      <td id=\"T_4b98c_row4_col7\" class=\"data row4 col7\" >0.000</td>\n",
              "    </tr>\n",
              "    <tr>\n",
              "      <th id=\"T_4b98c_level0_row5\" class=\"row_heading level0 row5\" >RandomSearch</th>\n",
              "      <td id=\"T_4b98c_row5_col0\" class=\"data row5 col0\" >0.000</td>\n",
              "      <td id=\"T_4b98c_row5_col1\" class=\"data row5 col1\" >0.000</td>\n",
              "      <td id=\"T_4b98c_row5_col2\" class=\"data row5 col2\" >0.000</td>\n",
              "      <td id=\"T_4b98c_row5_col3\" class=\"data row5 col3\" >0.000</td>\n",
              "      <td id=\"T_4b98c_row5_col4\" class=\"data row5 col4\" >0.000</td>\n",
              "      <td id=\"T_4b98c_row5_col5\" class=\"data row5 col5\" >0.000</td>\n",
              "      <td id=\"T_4b98c_row5_col6\" class=\"data row5 col6\" >0.000</td>\n",
              "      <td id=\"T_4b98c_row5_col7\" class=\"data row5 col7\" >0.000</td>\n",
              "    </tr>\n",
              "  </tbody>\n",
              "</table>\n"
            ]
          },
          "metadata": {},
          "execution_count": 25
        },
        {
          "output_type": "stream",
          "name": "stdout",
          "text": [
            "time: 11.4 s (started: 2022-08-14 23:24:28 +00:00)\n"
          ]
        }
      ]
    },
    {
      "cell_type": "code",
      "source": [
        "# Pruebas con eliminación de las variables más correlacionadas\n",
        "# Creamos dataset específicos \n",
        "x_train_corr_1 = x_train_hot.drop(columns=['Lado_S'])\n",
        "x_test_corr_1 = x_test_hot.drop(columns=['Lado_S'])\n",
        "\n",
        "x_train_corr_2 = x_train_hot.drop(columns=['Lado_S', 'Destination_TRAPPIST-1e'])\n",
        "x_test_corr_2 = x_test_hot.drop(columns=['Lado_S', 'Destination_TRAPPIST-1e'])\n",
        "\n",
        "col = 0\n",
        "for model in models:\n",
        "    model.fit(x_train_corr_1,y_train.values.ravel())\n",
        "    resul.iloc[1,col] = model.score(x_test_corr_1,y_test)\n",
        "    col += 1\n",
        "\n",
        "col = 0\n",
        "for model in models:\n",
        "    model.fit(x_train_corr_2,y_train.values.ravel())\n",
        "    resul.iloc[2,col] = model.score(x_test_corr_2,y_test)\n",
        "    col += 1\n",
        "\n",
        "resul.style.format(\"{:.3f}\")"
      ],
      "metadata": {
        "id": "KBtkL5ZoqSv6",
        "colab": {
          "base_uri": "https://localhost:8080/",
          "height": 286
        },
        "outputId": "ec9bcced-004a-4b50-c825-30643b5f6252"
      },
      "execution_count": null,
      "outputs": [
        {
          "output_type": "execute_result",
          "data": {
            "text/plain": [
              "<pandas.io.formats.style.Styler at 0x7f3453080ad0>"
            ],
            "text/html": [
              "<style type=\"text/css\">\n",
              "</style>\n",
              "<table id=\"T_0d513_\" class=\"dataframe\">\n",
              "  <thead>\n",
              "    <tr>\n",
              "      <th class=\"blank level0\" >&nbsp;</th>\n",
              "      <th class=\"col_heading level0 col0\" >SGD</th>\n",
              "      <th class=\"col_heading level0 col1\" >Ridge</th>\n",
              "      <th class=\"col_heading level0 col2\" >KNN</th>\n",
              "      <th class=\"col_heading level0 col3\" >SVM</th>\n",
              "      <th class=\"col_heading level0 col4\" >Bagging</th>\n",
              "      <th class=\"col_heading level0 col5\" >RndForest</th>\n",
              "      <th class=\"col_heading level0 col6\" >LogReg</th>\n",
              "      <th class=\"col_heading level0 col7\" >LGB</th>\n",
              "    </tr>\n",
              "    <tr>\n",
              "      <th class=\"index_name level0\" >Case</th>\n",
              "      <th class=\"blank col0\" >&nbsp;</th>\n",
              "      <th class=\"blank col1\" >&nbsp;</th>\n",
              "      <th class=\"blank col2\" >&nbsp;</th>\n",
              "      <th class=\"blank col3\" >&nbsp;</th>\n",
              "      <th class=\"blank col4\" >&nbsp;</th>\n",
              "      <th class=\"blank col5\" >&nbsp;</th>\n",
              "      <th class=\"blank col6\" >&nbsp;</th>\n",
              "      <th class=\"blank col7\" >&nbsp;</th>\n",
              "    </tr>\n",
              "  </thead>\n",
              "  <tbody>\n",
              "    <tr>\n",
              "      <th id=\"T_0d513_level0_row0\" class=\"row_heading level0 row0\" >Standard</th>\n",
              "      <td id=\"T_0d513_row0_col0\" class=\"data row0 col0\" >0.780</td>\n",
              "      <td id=\"T_0d513_row0_col1\" class=\"data row0 col1\" >0.772</td>\n",
              "      <td id=\"T_0d513_row0_col2\" class=\"data row0 col2\" >0.654</td>\n",
              "      <td id=\"T_0d513_row0_col3\" class=\"data row0 col3\" >0.685</td>\n",
              "      <td id=\"T_0d513_row0_col4\" class=\"data row0 col4\" >0.792</td>\n",
              "      <td id=\"T_0d513_row0_col5\" class=\"data row0 col5\" >0.787</td>\n",
              "      <td id=\"T_0d513_row0_col6\" class=\"data row0 col6\" >0.792</td>\n",
              "      <td id=\"T_0d513_row0_col7\" class=\"data row0 col7\" >0.814</td>\n",
              "    </tr>\n",
              "    <tr>\n",
              "      <th id=\"T_0d513_level0_row1\" class=\"row_heading level0 row1\" >Correlacion_1</th>\n",
              "      <td id=\"T_0d513_row1_col0\" class=\"data row1 col0\" >0.794</td>\n",
              "      <td id=\"T_0d513_row1_col1\" class=\"data row1 col1\" >0.772</td>\n",
              "      <td id=\"T_0d513_row1_col2\" class=\"data row1 col2\" >0.654</td>\n",
              "      <td id=\"T_0d513_row1_col3\" class=\"data row1 col3\" >0.681</td>\n",
              "      <td id=\"T_0d513_row1_col4\" class=\"data row1 col4\" >0.791</td>\n",
              "      <td id=\"T_0d513_row1_col5\" class=\"data row1 col5\" >0.784</td>\n",
              "      <td id=\"T_0d513_row1_col6\" class=\"data row1 col6\" >0.792</td>\n",
              "      <td id=\"T_0d513_row1_col7\" class=\"data row1 col7\" >0.814</td>\n",
              "    </tr>\n",
              "    <tr>\n",
              "      <th id=\"T_0d513_level0_row2\" class=\"row_heading level0 row2\" >Correlacion_2</th>\n",
              "      <td id=\"T_0d513_row2_col0\" class=\"data row2 col0\" >0.484</td>\n",
              "      <td id=\"T_0d513_row2_col1\" class=\"data row2 col1\" >0.772</td>\n",
              "      <td id=\"T_0d513_row2_col2\" class=\"data row2 col2\" >0.654</td>\n",
              "      <td id=\"T_0d513_row2_col3\" class=\"data row2 col3\" >0.680</td>\n",
              "      <td id=\"T_0d513_row2_col4\" class=\"data row2 col4\" >0.787</td>\n",
              "      <td id=\"T_0d513_row2_col5\" class=\"data row2 col5\" >0.797</td>\n",
              "      <td id=\"T_0d513_row2_col6\" class=\"data row2 col6\" >0.792</td>\n",
              "      <td id=\"T_0d513_row2_col7\" class=\"data row2 col7\" >0.816</td>\n",
              "    </tr>\n",
              "    <tr>\n",
              "      <th id=\"T_0d513_level0_row3\" class=\"row_heading level0 row3\" >Cap_pred_1</th>\n",
              "      <td id=\"T_0d513_row3_col0\" class=\"data row3 col0\" >0.000</td>\n",
              "      <td id=\"T_0d513_row3_col1\" class=\"data row3 col1\" >0.000</td>\n",
              "      <td id=\"T_0d513_row3_col2\" class=\"data row3 col2\" >0.000</td>\n",
              "      <td id=\"T_0d513_row3_col3\" class=\"data row3 col3\" >0.000</td>\n",
              "      <td id=\"T_0d513_row3_col4\" class=\"data row3 col4\" >0.000</td>\n",
              "      <td id=\"T_0d513_row3_col5\" class=\"data row3 col5\" >0.000</td>\n",
              "      <td id=\"T_0d513_row3_col6\" class=\"data row3 col6\" >0.000</td>\n",
              "      <td id=\"T_0d513_row3_col7\" class=\"data row3 col7\" >0.000</td>\n",
              "    </tr>\n",
              "    <tr>\n",
              "      <th id=\"T_0d513_level0_row4\" class=\"row_heading level0 row4\" >Cap_pred_2</th>\n",
              "      <td id=\"T_0d513_row4_col0\" class=\"data row4 col0\" >0.000</td>\n",
              "      <td id=\"T_0d513_row4_col1\" class=\"data row4 col1\" >0.000</td>\n",
              "      <td id=\"T_0d513_row4_col2\" class=\"data row4 col2\" >0.000</td>\n",
              "      <td id=\"T_0d513_row4_col3\" class=\"data row4 col3\" >0.000</td>\n",
              "      <td id=\"T_0d513_row4_col4\" class=\"data row4 col4\" >0.000</td>\n",
              "      <td id=\"T_0d513_row4_col5\" class=\"data row4 col5\" >0.000</td>\n",
              "      <td id=\"T_0d513_row4_col6\" class=\"data row4 col6\" >0.000</td>\n",
              "      <td id=\"T_0d513_row4_col7\" class=\"data row4 col7\" >0.000</td>\n",
              "    </tr>\n",
              "    <tr>\n",
              "      <th id=\"T_0d513_level0_row5\" class=\"row_heading level0 row5\" >RandomSearch</th>\n",
              "      <td id=\"T_0d513_row5_col0\" class=\"data row5 col0\" >0.000</td>\n",
              "      <td id=\"T_0d513_row5_col1\" class=\"data row5 col1\" >0.000</td>\n",
              "      <td id=\"T_0d513_row5_col2\" class=\"data row5 col2\" >0.000</td>\n",
              "      <td id=\"T_0d513_row5_col3\" class=\"data row5 col3\" >0.000</td>\n",
              "      <td id=\"T_0d513_row5_col4\" class=\"data row5 col4\" >0.000</td>\n",
              "      <td id=\"T_0d513_row5_col5\" class=\"data row5 col5\" >0.000</td>\n",
              "      <td id=\"T_0d513_row5_col6\" class=\"data row5 col6\" >0.000</td>\n",
              "      <td id=\"T_0d513_row5_col7\" class=\"data row5 col7\" >0.000</td>\n",
              "    </tr>\n",
              "  </tbody>\n",
              "</table>\n"
            ]
          },
          "metadata": {},
          "execution_count": 26
        },
        {
          "output_type": "stream",
          "name": "stdout",
          "text": [
            "time: 18.7 s (started: 2022-08-14 23:24:39 +00:00)\n"
          ]
        }
      ]
    },
    {
      "cell_type": "code",
      "source": [
        "# Pruebas con eliminación de las variables con menos capacidad predictiva\n",
        "# Creamos dataset específicos \n",
        "x_train_cap_1 = x_train_hot.drop(columns=['Destination_PSO J318.5-22'])\n",
        "x_test_cap_1 = x_test_hot.drop(columns=['Destination_PSO J318.5-22'])\n",
        "\n",
        "x_train_cap_2 = x_train_hot.drop(columns=['Destination_PSO J318.5-22', 'Piso_A'])\n",
        "x_test_cap_2 = x_test_hot.drop(columns=['Destination_PSO J318.5-22', 'Piso_A'])\n",
        "\n",
        "col = 0\n",
        "for model in models:\n",
        "    model.fit(x_train_cap_1,y_train.values.ravel())\n",
        "    resul.iloc[3,col] = model.score(x_test_cap_1,y_test)\n",
        "    col += 1\n",
        "\n",
        "col = 0\n",
        "for model in models:\n",
        "    model.fit(x_train_cap_2,y_train.values.ravel())\n",
        "    resul.iloc[4,col] = model.score(x_test_cap_2,y_test)\n",
        "    col += 1\n",
        "\n",
        "resul.style.format(\"{:.3f}\")"
      ],
      "metadata": {
        "id": "88vWr8X3dffV",
        "colab": {
          "base_uri": "https://localhost:8080/",
          "height": 286
        },
        "outputId": "d478b548-d72c-44f0-c5f4-82fa9da04b73"
      },
      "execution_count": null,
      "outputs": [
        {
          "output_type": "execute_result",
          "data": {
            "text/plain": [
              "<pandas.io.formats.style.Styler at 0x7f345305d050>"
            ],
            "text/html": [
              "<style type=\"text/css\">\n",
              "</style>\n",
              "<table id=\"T_c8454_\" class=\"dataframe\">\n",
              "  <thead>\n",
              "    <tr>\n",
              "      <th class=\"blank level0\" >&nbsp;</th>\n",
              "      <th class=\"col_heading level0 col0\" >SGD</th>\n",
              "      <th class=\"col_heading level0 col1\" >Ridge</th>\n",
              "      <th class=\"col_heading level0 col2\" >KNN</th>\n",
              "      <th class=\"col_heading level0 col3\" >SVM</th>\n",
              "      <th class=\"col_heading level0 col4\" >Bagging</th>\n",
              "      <th class=\"col_heading level0 col5\" >RndForest</th>\n",
              "      <th class=\"col_heading level0 col6\" >LogReg</th>\n",
              "      <th class=\"col_heading level0 col7\" >LGB</th>\n",
              "    </tr>\n",
              "    <tr>\n",
              "      <th class=\"index_name level0\" >Case</th>\n",
              "      <th class=\"blank col0\" >&nbsp;</th>\n",
              "      <th class=\"blank col1\" >&nbsp;</th>\n",
              "      <th class=\"blank col2\" >&nbsp;</th>\n",
              "      <th class=\"blank col3\" >&nbsp;</th>\n",
              "      <th class=\"blank col4\" >&nbsp;</th>\n",
              "      <th class=\"blank col5\" >&nbsp;</th>\n",
              "      <th class=\"blank col6\" >&nbsp;</th>\n",
              "      <th class=\"blank col7\" >&nbsp;</th>\n",
              "    </tr>\n",
              "  </thead>\n",
              "  <tbody>\n",
              "    <tr>\n",
              "      <th id=\"T_c8454_level0_row0\" class=\"row_heading level0 row0\" >Standard</th>\n",
              "      <td id=\"T_c8454_row0_col0\" class=\"data row0 col0\" >0.780</td>\n",
              "      <td id=\"T_c8454_row0_col1\" class=\"data row0 col1\" >0.772</td>\n",
              "      <td id=\"T_c8454_row0_col2\" class=\"data row0 col2\" >0.654</td>\n",
              "      <td id=\"T_c8454_row0_col3\" class=\"data row0 col3\" >0.685</td>\n",
              "      <td id=\"T_c8454_row0_col4\" class=\"data row0 col4\" >0.792</td>\n",
              "      <td id=\"T_c8454_row0_col5\" class=\"data row0 col5\" >0.787</td>\n",
              "      <td id=\"T_c8454_row0_col6\" class=\"data row0 col6\" >0.792</td>\n",
              "      <td id=\"T_c8454_row0_col7\" class=\"data row0 col7\" >0.814</td>\n",
              "    </tr>\n",
              "    <tr>\n",
              "      <th id=\"T_c8454_level0_row1\" class=\"row_heading level0 row1\" >Correlacion_1</th>\n",
              "      <td id=\"T_c8454_row1_col0\" class=\"data row1 col0\" >0.794</td>\n",
              "      <td id=\"T_c8454_row1_col1\" class=\"data row1 col1\" >0.772</td>\n",
              "      <td id=\"T_c8454_row1_col2\" class=\"data row1 col2\" >0.654</td>\n",
              "      <td id=\"T_c8454_row1_col3\" class=\"data row1 col3\" >0.681</td>\n",
              "      <td id=\"T_c8454_row1_col4\" class=\"data row1 col4\" >0.791</td>\n",
              "      <td id=\"T_c8454_row1_col5\" class=\"data row1 col5\" >0.784</td>\n",
              "      <td id=\"T_c8454_row1_col6\" class=\"data row1 col6\" >0.792</td>\n",
              "      <td id=\"T_c8454_row1_col7\" class=\"data row1 col7\" >0.814</td>\n",
              "    </tr>\n",
              "    <tr>\n",
              "      <th id=\"T_c8454_level0_row2\" class=\"row_heading level0 row2\" >Correlacion_2</th>\n",
              "      <td id=\"T_c8454_row2_col0\" class=\"data row2 col0\" >0.484</td>\n",
              "      <td id=\"T_c8454_row2_col1\" class=\"data row2 col1\" >0.772</td>\n",
              "      <td id=\"T_c8454_row2_col2\" class=\"data row2 col2\" >0.654</td>\n",
              "      <td id=\"T_c8454_row2_col3\" class=\"data row2 col3\" >0.680</td>\n",
              "      <td id=\"T_c8454_row2_col4\" class=\"data row2 col4\" >0.787</td>\n",
              "      <td id=\"T_c8454_row2_col5\" class=\"data row2 col5\" >0.797</td>\n",
              "      <td id=\"T_c8454_row2_col6\" class=\"data row2 col6\" >0.792</td>\n",
              "      <td id=\"T_c8454_row2_col7\" class=\"data row2 col7\" >0.816</td>\n",
              "    </tr>\n",
              "    <tr>\n",
              "      <th id=\"T_c8454_level0_row3\" class=\"row_heading level0 row3\" >Cap_pred_1</th>\n",
              "      <td id=\"T_c8454_row3_col0\" class=\"data row3 col0\" >0.780</td>\n",
              "      <td id=\"T_c8454_row3_col1\" class=\"data row3 col1\" >0.772</td>\n",
              "      <td id=\"T_c8454_row3_col2\" class=\"data row3 col2\" >0.655</td>\n",
              "      <td id=\"T_c8454_row3_col3\" class=\"data row3 col3\" >0.681</td>\n",
              "      <td id=\"T_c8454_row3_col4\" class=\"data row3 col4\" >0.794</td>\n",
              "      <td id=\"T_c8454_row3_col5\" class=\"data row3 col5\" >0.783</td>\n",
              "      <td id=\"T_c8454_row3_col6\" class=\"data row3 col6\" >0.792</td>\n",
              "      <td id=\"T_c8454_row3_col7\" class=\"data row3 col7\" >0.815</td>\n",
              "    </tr>\n",
              "    <tr>\n",
              "      <th id=\"T_c8454_level0_row4\" class=\"row_heading level0 row4\" >Cap_pred_2</th>\n",
              "      <td id=\"T_c8454_row4_col0\" class=\"data row4 col0\" >0.780</td>\n",
              "      <td id=\"T_c8454_row4_col1\" class=\"data row4 col1\" >0.773</td>\n",
              "      <td id=\"T_c8454_row4_col2\" class=\"data row4 col2\" >0.655</td>\n",
              "      <td id=\"T_c8454_row4_col3\" class=\"data row4 col3\" >0.678</td>\n",
              "      <td id=\"T_c8454_row4_col4\" class=\"data row4 col4\" >0.794</td>\n",
              "      <td id=\"T_c8454_row4_col5\" class=\"data row4 col5\" >0.790</td>\n",
              "      <td id=\"T_c8454_row4_col6\" class=\"data row4 col6\" >0.792</td>\n",
              "      <td id=\"T_c8454_row4_col7\" class=\"data row4 col7\" >0.806</td>\n",
              "    </tr>\n",
              "    <tr>\n",
              "      <th id=\"T_c8454_level0_row5\" class=\"row_heading level0 row5\" >RandomSearch</th>\n",
              "      <td id=\"T_c8454_row5_col0\" class=\"data row5 col0\" >0.000</td>\n",
              "      <td id=\"T_c8454_row5_col1\" class=\"data row5 col1\" >0.000</td>\n",
              "      <td id=\"T_c8454_row5_col2\" class=\"data row5 col2\" >0.000</td>\n",
              "      <td id=\"T_c8454_row5_col3\" class=\"data row5 col3\" >0.000</td>\n",
              "      <td id=\"T_c8454_row5_col4\" class=\"data row5 col4\" >0.000</td>\n",
              "      <td id=\"T_c8454_row5_col5\" class=\"data row5 col5\" >0.000</td>\n",
              "      <td id=\"T_c8454_row5_col6\" class=\"data row5 col6\" >0.000</td>\n",
              "      <td id=\"T_c8454_row5_col7\" class=\"data row5 col7\" >0.000</td>\n",
              "    </tr>\n",
              "  </tbody>\n",
              "</table>\n"
            ]
          },
          "metadata": {},
          "execution_count": 27
        },
        {
          "output_type": "stream",
          "name": "stdout",
          "text": [
            "time: 9.71 s (started: 2022-08-14 23:24:58 +00:00)\n"
          ]
        }
      ]
    },
    {
      "cell_type": "code",
      "source": [
        "# Definición de grillas de hiperparámetros para la aplicación de RandomSearch\n",
        "\n",
        "#SGD\n",
        "loss = ['hinge', 'modified_huber', 'log']\n",
        "penalty = ['l1','l2']\n",
        "alpha= [0.0001,0.01,0.1]\n",
        "l1_ratio= [0.15,0.05,.025]\n",
        "max_iter = [100,1000,10000]\n",
        "sgd_grid = dict(loss=loss,penalty=penalty,max_iter=max_iter,alpha=alpha,l1_ratio=l1_ratio)\n",
        "\n",
        "#Ridge\n",
        "alpha = [0.1, 0.5, 1.0]\n",
        "ridge_grid = dict(alpha=alpha)\n",
        "\n",
        "#K-Nearest - Neighborg\n",
        "n_neighbors = range(1, 21, 2)\n",
        "weights = ['uniform', 'distance']\n",
        "metric = ['euclidean', 'manhattan', 'minkowski']\n",
        "knn_grid = dict(n_neighbors=n_neighbors,weights=weights,metric=metric)\n",
        "\n",
        "#Support Vector Classifier\n",
        "kernel = ['poly', 'rbf', 'sigmoid']\n",
        "C = [50, 1.0, 0.01]\n",
        "gamma = ['scale']\n",
        "svc_grid = dict(kernel=kernel,C=C,gamma=gamma)\n",
        "\n",
        "#Bagging Classifier\n",
        "n_estimators = [10, 100, 1000]\n",
        "bag_grid = dict(n_estimators=n_estimators)\n",
        "\n",
        "#Random Forest\n",
        "n_estimators = [10, 1000,10000]\n",
        "max_features = ['sqrt', 'log2']\n",
        "rf_grid = dict(n_estimators=n_estimators,max_features=max_features)\n",
        "\n",
        "#Logistic Regression\n",
        "solvers = ['newton-cg', 'lbfgs', 'liblinear']\n",
        "penalty = ['l2']\n",
        "c_values = [100, 1.0, 0.01]\n",
        "lr_grid = dict(solver=solvers,penalty=penalty,C=c_values)\n",
        "\n",
        "#LGB\n",
        "class_weight = [None,'balanced']\n",
        "boosting_type = ['gbdt', 'goss', 'dart']\n",
        "num_leaves = [30,100,150] #list(range(30, 150)),\n",
        "learning_rate = list(np.logspace(np.log(0.005), np.log(0.2), base = np.exp(1), num = 10)) #1000\n",
        "lgg_grid = dict(class_weight=class_weight, boosting_type=boosting_type, num_leaves=num_leaves, learning_rate =learning_rate)"
      ],
      "metadata": {
        "id": "mlwNlHBNIvkY",
        "colab": {
          "base_uri": "https://localhost:8080/"
        },
        "outputId": "2ec681f6-8805-4cfc-dbf7-178805e063cd"
      },
      "execution_count": null,
      "outputs": [
        {
          "output_type": "stream",
          "name": "stdout",
          "text": [
            "time: 40.9 ms (started: 2022-08-14 23:25:07 +00:00)\n"
          ]
        }
      ]
    },
    {
      "cell_type": "code",
      "source": [
        "grids = [sgd_grid,ridge_grid,knn_grid,svc_grid,bag_grid,rf_grid,lr_grid,lgg_grid]\n",
        "col = 0\n",
        "\n",
        "# Aplicamos RandomSearchCV\n",
        "col = 0\n",
        "for ind in range(0,len(models)):\n",
        "    cv = RepeatedStratifiedKFold(n_splits=10, n_repeats=3, \n",
        "                                 random_state=1)\n",
        "    n_iter_search = 3\n",
        "    random_search = RandomizedSearchCV(models[col],\n",
        "    param_distributions=grids[col],n_iter=n_iter_search, cv=cv)\n",
        "    random_search.fit(x_train_hot,y_train)\n",
        "    resul.iloc[5,col] = random_search.score(x_test_hot,y_test)\n",
        "    col += 1\n",
        "    \n",
        "resul.style.format(\"{:.3f}\")"
      ],
      "metadata": {
        "id": "SzFcqgMBJXxa",
        "colab": {
          "base_uri": "https://localhost:8080/",
          "height": 1000
        },
        "outputId": "279b8cb7-f729-4dcb-89e5-495de50c6ca0"
      },
      "execution_count": null,
      "outputs": [
        {
          "output_type": "stream",
          "name": "stderr",
          "text": [
            "/usr/local/lib/python3.7/dist-packages/sklearn/linear_model/_stochastic_gradient.py:700: ConvergenceWarning: Maximum number of iteration reached before convergence. Consider increasing max_iter to improve the fit.\n",
            "  ConvergenceWarning,\n",
            "/usr/local/lib/python3.7/dist-packages/sklearn/linear_model/_stochastic_gradient.py:700: ConvergenceWarning: Maximum number of iteration reached before convergence. Consider increasing max_iter to improve the fit.\n",
            "  ConvergenceWarning,\n",
            "/usr/local/lib/python3.7/dist-packages/sklearn/linear_model/_stochastic_gradient.py:700: ConvergenceWarning: Maximum number of iteration reached before convergence. Consider increasing max_iter to improve the fit.\n",
            "  ConvergenceWarning,\n",
            "/usr/local/lib/python3.7/dist-packages/sklearn/linear_model/_stochastic_gradient.py:700: ConvergenceWarning: Maximum number of iteration reached before convergence. Consider increasing max_iter to improve the fit.\n",
            "  ConvergenceWarning,\n",
            "/usr/local/lib/python3.7/dist-packages/sklearn/linear_model/_stochastic_gradient.py:700: ConvergenceWarning: Maximum number of iteration reached before convergence. Consider increasing max_iter to improve the fit.\n",
            "  ConvergenceWarning,\n",
            "/usr/local/lib/python3.7/dist-packages/sklearn/linear_model/_stochastic_gradient.py:700: ConvergenceWarning: Maximum number of iteration reached before convergence. Consider increasing max_iter to improve the fit.\n",
            "  ConvergenceWarning,\n",
            "/usr/local/lib/python3.7/dist-packages/sklearn/linear_model/_stochastic_gradient.py:700: ConvergenceWarning: Maximum number of iteration reached before convergence. Consider increasing max_iter to improve the fit.\n",
            "  ConvergenceWarning,\n",
            "/usr/local/lib/python3.7/dist-packages/sklearn/linear_model/_stochastic_gradient.py:700: ConvergenceWarning: Maximum number of iteration reached before convergence. Consider increasing max_iter to improve the fit.\n",
            "  ConvergenceWarning,\n",
            "/usr/local/lib/python3.7/dist-packages/sklearn/linear_model/_stochastic_gradient.py:700: ConvergenceWarning: Maximum number of iteration reached before convergence. Consider increasing max_iter to improve the fit.\n",
            "  ConvergenceWarning,\n",
            "/usr/local/lib/python3.7/dist-packages/sklearn/linear_model/_stochastic_gradient.py:700: ConvergenceWarning: Maximum number of iteration reached before convergence. Consider increasing max_iter to improve the fit.\n",
            "  ConvergenceWarning,\n",
            "/usr/local/lib/python3.7/dist-packages/sklearn/linear_model/_stochastic_gradient.py:700: ConvergenceWarning: Maximum number of iteration reached before convergence. Consider increasing max_iter to improve the fit.\n",
            "  ConvergenceWarning,\n",
            "/usr/local/lib/python3.7/dist-packages/sklearn/linear_model/_stochastic_gradient.py:700: ConvergenceWarning: Maximum number of iteration reached before convergence. Consider increasing max_iter to improve the fit.\n",
            "  ConvergenceWarning,\n",
            "/usr/local/lib/python3.7/dist-packages/sklearn/linear_model/_stochastic_gradient.py:700: ConvergenceWarning: Maximum number of iteration reached before convergence. Consider increasing max_iter to improve the fit.\n",
            "  ConvergenceWarning,\n",
            "/usr/local/lib/python3.7/dist-packages/sklearn/linear_model/_stochastic_gradient.py:700: ConvergenceWarning: Maximum number of iteration reached before convergence. Consider increasing max_iter to improve the fit.\n",
            "  ConvergenceWarning,\n",
            "/usr/local/lib/python3.7/dist-packages/sklearn/linear_model/_stochastic_gradient.py:700: ConvergenceWarning: Maximum number of iteration reached before convergence. Consider increasing max_iter to improve the fit.\n",
            "  ConvergenceWarning,\n",
            "/usr/local/lib/python3.7/dist-packages/sklearn/linear_model/_stochastic_gradient.py:700: ConvergenceWarning: Maximum number of iteration reached before convergence. Consider increasing max_iter to improve the fit.\n",
            "  ConvergenceWarning,\n",
            "/usr/local/lib/python3.7/dist-packages/sklearn/linear_model/_stochastic_gradient.py:700: ConvergenceWarning: Maximum number of iteration reached before convergence. Consider increasing max_iter to improve the fit.\n",
            "  ConvergenceWarning,\n",
            "/usr/local/lib/python3.7/dist-packages/sklearn/linear_model/_stochastic_gradient.py:700: ConvergenceWarning: Maximum number of iteration reached before convergence. Consider increasing max_iter to improve the fit.\n",
            "  ConvergenceWarning,\n",
            "/usr/local/lib/python3.7/dist-packages/sklearn/linear_model/_stochastic_gradient.py:700: ConvergenceWarning: Maximum number of iteration reached before convergence. Consider increasing max_iter to improve the fit.\n",
            "  ConvergenceWarning,\n",
            "/usr/local/lib/python3.7/dist-packages/sklearn/linear_model/_stochastic_gradient.py:700: ConvergenceWarning: Maximum number of iteration reached before convergence. Consider increasing max_iter to improve the fit.\n",
            "  ConvergenceWarning,\n",
            "/usr/local/lib/python3.7/dist-packages/sklearn/linear_model/_stochastic_gradient.py:700: ConvergenceWarning: Maximum number of iteration reached before convergence. Consider increasing max_iter to improve the fit.\n",
            "  ConvergenceWarning,\n",
            "/usr/local/lib/python3.7/dist-packages/sklearn/linear_model/_stochastic_gradient.py:700: ConvergenceWarning: Maximum number of iteration reached before convergence. Consider increasing max_iter to improve the fit.\n",
            "  ConvergenceWarning,\n",
            "/usr/local/lib/python3.7/dist-packages/sklearn/linear_model/_stochastic_gradient.py:700: ConvergenceWarning: Maximum number of iteration reached before convergence. Consider increasing max_iter to improve the fit.\n",
            "  ConvergenceWarning,\n",
            "/usr/local/lib/python3.7/dist-packages/sklearn/linear_model/_stochastic_gradient.py:700: ConvergenceWarning: Maximum number of iteration reached before convergence. Consider increasing max_iter to improve the fit.\n",
            "  ConvergenceWarning,\n",
            "/usr/local/lib/python3.7/dist-packages/sklearn/linear_model/_stochastic_gradient.py:700: ConvergenceWarning: Maximum number of iteration reached before convergence. Consider increasing max_iter to improve the fit.\n",
            "  ConvergenceWarning,\n",
            "/usr/local/lib/python3.7/dist-packages/sklearn/linear_model/_stochastic_gradient.py:700: ConvergenceWarning: Maximum number of iteration reached before convergence. Consider increasing max_iter to improve the fit.\n",
            "  ConvergenceWarning,\n",
            "/usr/local/lib/python3.7/dist-packages/sklearn/linear_model/_stochastic_gradient.py:700: ConvergenceWarning: Maximum number of iteration reached before convergence. Consider increasing max_iter to improve the fit.\n",
            "  ConvergenceWarning,\n",
            "/usr/local/lib/python3.7/dist-packages/sklearn/linear_model/_stochastic_gradient.py:700: ConvergenceWarning: Maximum number of iteration reached before convergence. Consider increasing max_iter to improve the fit.\n",
            "  ConvergenceWarning,\n",
            "/usr/local/lib/python3.7/dist-packages/sklearn/linear_model/_stochastic_gradient.py:700: ConvergenceWarning: Maximum number of iteration reached before convergence. Consider increasing max_iter to improve the fit.\n",
            "  ConvergenceWarning,\n"
          ]
        },
        {
          "output_type": "execute_result",
          "data": {
            "text/plain": [
              "<pandas.io.formats.style.Styler at 0x7f3455641690>"
            ],
            "text/html": [
              "<style type=\"text/css\">\n",
              "</style>\n",
              "<table id=\"T_e2c0b_\" class=\"dataframe\">\n",
              "  <thead>\n",
              "    <tr>\n",
              "      <th class=\"blank level0\" >&nbsp;</th>\n",
              "      <th class=\"col_heading level0 col0\" >SGD</th>\n",
              "      <th class=\"col_heading level0 col1\" >Ridge</th>\n",
              "      <th class=\"col_heading level0 col2\" >KNN</th>\n",
              "      <th class=\"col_heading level0 col3\" >SVM</th>\n",
              "      <th class=\"col_heading level0 col4\" >Bagging</th>\n",
              "      <th class=\"col_heading level0 col5\" >RndForest</th>\n",
              "      <th class=\"col_heading level0 col6\" >LogReg</th>\n",
              "      <th class=\"col_heading level0 col7\" >LGB</th>\n",
              "    </tr>\n",
              "    <tr>\n",
              "      <th class=\"index_name level0\" >Case</th>\n",
              "      <th class=\"blank col0\" >&nbsp;</th>\n",
              "      <th class=\"blank col1\" >&nbsp;</th>\n",
              "      <th class=\"blank col2\" >&nbsp;</th>\n",
              "      <th class=\"blank col3\" >&nbsp;</th>\n",
              "      <th class=\"blank col4\" >&nbsp;</th>\n",
              "      <th class=\"blank col5\" >&nbsp;</th>\n",
              "      <th class=\"blank col6\" >&nbsp;</th>\n",
              "      <th class=\"blank col7\" >&nbsp;</th>\n",
              "    </tr>\n",
              "  </thead>\n",
              "  <tbody>\n",
              "    <tr>\n",
              "      <th id=\"T_e2c0b_level0_row0\" class=\"row_heading level0 row0\" >Standard</th>\n",
              "      <td id=\"T_e2c0b_row0_col0\" class=\"data row0 col0\" >0.780</td>\n",
              "      <td id=\"T_e2c0b_row0_col1\" class=\"data row0 col1\" >0.772</td>\n",
              "      <td id=\"T_e2c0b_row0_col2\" class=\"data row0 col2\" >0.654</td>\n",
              "      <td id=\"T_e2c0b_row0_col3\" class=\"data row0 col3\" >0.685</td>\n",
              "      <td id=\"T_e2c0b_row0_col4\" class=\"data row0 col4\" >0.792</td>\n",
              "      <td id=\"T_e2c0b_row0_col5\" class=\"data row0 col5\" >0.787</td>\n",
              "      <td id=\"T_e2c0b_row0_col6\" class=\"data row0 col6\" >0.792</td>\n",
              "      <td id=\"T_e2c0b_row0_col7\" class=\"data row0 col7\" >0.814</td>\n",
              "    </tr>\n",
              "    <tr>\n",
              "      <th id=\"T_e2c0b_level0_row1\" class=\"row_heading level0 row1\" >Correlacion_1</th>\n",
              "      <td id=\"T_e2c0b_row1_col0\" class=\"data row1 col0\" >0.794</td>\n",
              "      <td id=\"T_e2c0b_row1_col1\" class=\"data row1 col1\" >0.772</td>\n",
              "      <td id=\"T_e2c0b_row1_col2\" class=\"data row1 col2\" >0.654</td>\n",
              "      <td id=\"T_e2c0b_row1_col3\" class=\"data row1 col3\" >0.681</td>\n",
              "      <td id=\"T_e2c0b_row1_col4\" class=\"data row1 col4\" >0.791</td>\n",
              "      <td id=\"T_e2c0b_row1_col5\" class=\"data row1 col5\" >0.784</td>\n",
              "      <td id=\"T_e2c0b_row1_col6\" class=\"data row1 col6\" >0.792</td>\n",
              "      <td id=\"T_e2c0b_row1_col7\" class=\"data row1 col7\" >0.814</td>\n",
              "    </tr>\n",
              "    <tr>\n",
              "      <th id=\"T_e2c0b_level0_row2\" class=\"row_heading level0 row2\" >Correlacion_2</th>\n",
              "      <td id=\"T_e2c0b_row2_col0\" class=\"data row2 col0\" >0.484</td>\n",
              "      <td id=\"T_e2c0b_row2_col1\" class=\"data row2 col1\" >0.772</td>\n",
              "      <td id=\"T_e2c0b_row2_col2\" class=\"data row2 col2\" >0.654</td>\n",
              "      <td id=\"T_e2c0b_row2_col3\" class=\"data row2 col3\" >0.680</td>\n",
              "      <td id=\"T_e2c0b_row2_col4\" class=\"data row2 col4\" >0.787</td>\n",
              "      <td id=\"T_e2c0b_row2_col5\" class=\"data row2 col5\" >0.797</td>\n",
              "      <td id=\"T_e2c0b_row2_col6\" class=\"data row2 col6\" >0.792</td>\n",
              "      <td id=\"T_e2c0b_row2_col7\" class=\"data row2 col7\" >0.816</td>\n",
              "    </tr>\n",
              "    <tr>\n",
              "      <th id=\"T_e2c0b_level0_row3\" class=\"row_heading level0 row3\" >Cap_pred_1</th>\n",
              "      <td id=\"T_e2c0b_row3_col0\" class=\"data row3 col0\" >0.780</td>\n",
              "      <td id=\"T_e2c0b_row3_col1\" class=\"data row3 col1\" >0.772</td>\n",
              "      <td id=\"T_e2c0b_row3_col2\" class=\"data row3 col2\" >0.655</td>\n",
              "      <td id=\"T_e2c0b_row3_col3\" class=\"data row3 col3\" >0.681</td>\n",
              "      <td id=\"T_e2c0b_row3_col4\" class=\"data row3 col4\" >0.794</td>\n",
              "      <td id=\"T_e2c0b_row3_col5\" class=\"data row3 col5\" >0.783</td>\n",
              "      <td id=\"T_e2c0b_row3_col6\" class=\"data row3 col6\" >0.792</td>\n",
              "      <td id=\"T_e2c0b_row3_col7\" class=\"data row3 col7\" >0.815</td>\n",
              "    </tr>\n",
              "    <tr>\n",
              "      <th id=\"T_e2c0b_level0_row4\" class=\"row_heading level0 row4\" >Cap_pred_2</th>\n",
              "      <td id=\"T_e2c0b_row4_col0\" class=\"data row4 col0\" >0.780</td>\n",
              "      <td id=\"T_e2c0b_row4_col1\" class=\"data row4 col1\" >0.773</td>\n",
              "      <td id=\"T_e2c0b_row4_col2\" class=\"data row4 col2\" >0.655</td>\n",
              "      <td id=\"T_e2c0b_row4_col3\" class=\"data row4 col3\" >0.678</td>\n",
              "      <td id=\"T_e2c0b_row4_col4\" class=\"data row4 col4\" >0.794</td>\n",
              "      <td id=\"T_e2c0b_row4_col5\" class=\"data row4 col5\" >0.790</td>\n",
              "      <td id=\"T_e2c0b_row4_col6\" class=\"data row4 col6\" >0.792</td>\n",
              "      <td id=\"T_e2c0b_row4_col7\" class=\"data row4 col7\" >0.806</td>\n",
              "    </tr>\n",
              "    <tr>\n",
              "      <th id=\"T_e2c0b_level0_row5\" class=\"row_heading level0 row5\" >RandomSearch</th>\n",
              "      <td id=\"T_e2c0b_row5_col0\" class=\"data row5 col0\" >0.788</td>\n",
              "      <td id=\"T_e2c0b_row5_col1\" class=\"data row5 col1\" >0.772</td>\n",
              "      <td id=\"T_e2c0b_row5_col2\" class=\"data row5 col2\" >0.673</td>\n",
              "      <td id=\"T_e2c0b_row5_col3\" class=\"data row5 col3\" >0.674</td>\n",
              "      <td id=\"T_e2c0b_row5_col4\" class=\"data row5 col4\" >0.794</td>\n",
              "      <td id=\"T_e2c0b_row5_col5\" class=\"data row5 col5\" >0.805</td>\n",
              "      <td id=\"T_e2c0b_row5_col6\" class=\"data row5 col6\" >0.795</td>\n",
              "      <td id=\"T_e2c0b_row5_col7\" class=\"data row5 col7\" >0.803</td>\n",
              "    </tr>\n",
              "  </tbody>\n",
              "</table>\n"
            ]
          },
          "metadata": {},
          "execution_count": 29
        },
        {
          "output_type": "stream",
          "name": "stdout",
          "text": [
            "time: 1h 44min 26s (started: 2022-08-14 23:25:07 +00:00)\n"
          ]
        }
      ]
    },
    {
      "cell_type": "code",
      "source": [
        "# Luego de las pruebas previas, se decidió trabajar solo con el algoritmo LGB y experimentar con diferentes hiperparámetros\n",
        "# La mejor combinación de hiperparámetros se presenta a continuación y contempla el uso de todas las variables predictoras\n",
        "Best_LGB = lgb.LGBMClassifier(random_state=22,n_estimators=697, boosting_type='gbdt', \n",
        "        learning_rate=0.01, num_leaves = 32)\n",
        "                     \n",
        "Best_LGB.fit(x_train_hot, y_train)\n",
        "print(\"Train dataset accuracy: %0.03f\" % Best_LGB.score(x_train_hot,y_train))\n",
        "print(\"Test dataset accuracy: %0.03f\" % Best_LGB.score(x_test_hot,y_test))"
      ],
      "metadata": {
        "colab": {
          "base_uri": "https://localhost:8080/"
        },
        "id": "d4w5OephrPkn",
        "outputId": "42ed176b-126b-4259-adbe-4c958ce21487"
      },
      "execution_count": null,
      "outputs": [
        {
          "output_type": "stream",
          "name": "stdout",
          "text": [
            "Train dataset accuracy: 0.871\n",
            "Test dataset accuracy: 0.824\n",
            "time: 2.04 s (started: 2022-08-15 01:09:34 +00:00)\n"
          ]
        }
      ]
    },
    {
      "cell_type": "code",
      "source": [
        "# No obstante todo lo anterior, se hicieron muchas pruebas con distintos modelos buscando la mejor performance\n",
        "# A continuación se presenta el modelo que alcanzó el mejor resultado del Grupo 32 en la competencia Kaggle\n",
        "Best_ETC = ETC(criterion='entropy', max_features=12,\n",
        "                     min_samples_leaf=3, min_samples_split=49, n_estimators=29, n_jobs=4,\n",
        "                     random_state=517)\n",
        "Best_ETC.fit(x_train_hot, y_train)\n",
        "print(\"Train dataset accuracy: %0.03f\" % Best_ETC.score(x_train_hot,y_train))\n",
        "print(\"Test dataset accuracy: %0.03f\" % Best_ETC.score(x_test_hot,y_test))"
      ],
      "metadata": {
        "colab": {
          "base_uri": "https://localhost:8080/"
        },
        "id": "nULMHDMBLlJ5",
        "outputId": "b9d76863-4645-4a8c-ce2b-1841d258ae9d"
      },
      "execution_count": null,
      "outputs": [
        {
          "output_type": "stream",
          "name": "stdout",
          "text": [
            "Train dataset accuracy: 0.843\n",
            "Test dataset accuracy: 0.810\n",
            "time: 902 ms (started: 2022-08-15 01:47:23 +00:00)\n"
          ]
        }
      ]
    },
    {
      "cell_type": "markdown",
      "metadata": {
        "id": "aP3eV7ziuXSP"
      },
      "source": [
        "## Generar la salida para entregar"
      ]
    },
    {
      "cell_type": "code",
      "execution_count": null,
      "metadata": {
        "id": "vbyWeTw0uXSP",
        "colab": {
          "base_uri": "https://localhost:8080/"
        },
        "outputId": "75366c00-a431-4ad2-8dba-d7cc3a8759a1"
      },
      "outputs": [
        {
          "output_type": "stream",
          "name": "stdout",
          "text": [
            "time: 24.7 ms (started: 2022-08-15 01:09:36 +00:00)\n"
          ]
        }
      ],
      "source": [
        "test_df = pd.read_csv('test.csv')"
      ]
    },
    {
      "cell_type": "code",
      "execution_count": null,
      "metadata": {
        "id": "dh-lVYcouXSP",
        "colab": {
          "base_uri": "https://localhost:8080/",
          "height": 224
        },
        "outputId": "f71b4b16-04bc-4ce3-e7d6-ca217c2aa6ce"
      },
      "outputs": [
        {
          "output_type": "execute_result",
          "data": {
            "text/plain": [
              "   PassengerId HomePlanet CryoSleep     Cabin    Destination  Age    VIP  \\\n",
              "0          415     Europa      True       NaN    55 Cancri e 34.0  False   \n",
              "1         8663      Earth      True  G/1489/S  PSO J318.5-22 13.0  False   \n",
              "2         4524      Earth     False   G/776/P    TRAPPIST-1e 44.0  False   \n",
              "3         8246      Earth     False   E/577/S  PSO J318.5-22 63.0  False   \n",
              "4         2935     Europa     False   B/117/S    55 Cancri e 10.0  False   \n",
              "\n",
              "   RoomService  FoodCourt  ShoppingMall   Spa  VRDeck                Name  \n",
              "0          0.0        0.0           0.0   0.0     0.0  Minopus Taptiritty  \n",
              "1          0.0        0.0           0.0   0.0     0.0     Chrisa Francock  \n",
              "2         22.0        1.0           0.0 864.0     0.0        Elinda Miley  \n",
              "3          0.0        0.0          80.0   0.0  2322.0        Karley Goods  \n",
              "4          0.0        0.0           0.0   0.0     0.0   Arkard Sechausive  "
            ],
            "text/html": [
              "\n",
              "  <div id=\"df-d0483eb1-0d1a-46a0-a355-e1209dded1c4\">\n",
              "    <div class=\"colab-df-container\">\n",
              "      <div>\n",
              "<style scoped>\n",
              "    .dataframe tbody tr th:only-of-type {\n",
              "        vertical-align: middle;\n",
              "    }\n",
              "\n",
              "    .dataframe tbody tr th {\n",
              "        vertical-align: top;\n",
              "    }\n",
              "\n",
              "    .dataframe thead th {\n",
              "        text-align: right;\n",
              "    }\n",
              "</style>\n",
              "<table border=\"1\" class=\"dataframe\">\n",
              "  <thead>\n",
              "    <tr style=\"text-align: right;\">\n",
              "      <th></th>\n",
              "      <th>PassengerId</th>\n",
              "      <th>HomePlanet</th>\n",
              "      <th>CryoSleep</th>\n",
              "      <th>Cabin</th>\n",
              "      <th>Destination</th>\n",
              "      <th>Age</th>\n",
              "      <th>VIP</th>\n",
              "      <th>RoomService</th>\n",
              "      <th>FoodCourt</th>\n",
              "      <th>ShoppingMall</th>\n",
              "      <th>Spa</th>\n",
              "      <th>VRDeck</th>\n",
              "      <th>Name</th>\n",
              "    </tr>\n",
              "  </thead>\n",
              "  <tbody>\n",
              "    <tr>\n",
              "      <th>0</th>\n",
              "      <td>415</td>\n",
              "      <td>Europa</td>\n",
              "      <td>True</td>\n",
              "      <td>NaN</td>\n",
              "      <td>55 Cancri e</td>\n",
              "      <td>34.0</td>\n",
              "      <td>False</td>\n",
              "      <td>0.0</td>\n",
              "      <td>0.0</td>\n",
              "      <td>0.0</td>\n",
              "      <td>0.0</td>\n",
              "      <td>0.0</td>\n",
              "      <td>Minopus Taptiritty</td>\n",
              "    </tr>\n",
              "    <tr>\n",
              "      <th>1</th>\n",
              "      <td>8663</td>\n",
              "      <td>Earth</td>\n",
              "      <td>True</td>\n",
              "      <td>G/1489/S</td>\n",
              "      <td>PSO J318.5-22</td>\n",
              "      <td>13.0</td>\n",
              "      <td>False</td>\n",
              "      <td>0.0</td>\n",
              "      <td>0.0</td>\n",
              "      <td>0.0</td>\n",
              "      <td>0.0</td>\n",
              "      <td>0.0</td>\n",
              "      <td>Chrisa Francock</td>\n",
              "    </tr>\n",
              "    <tr>\n",
              "      <th>2</th>\n",
              "      <td>4524</td>\n",
              "      <td>Earth</td>\n",
              "      <td>False</td>\n",
              "      <td>G/776/P</td>\n",
              "      <td>TRAPPIST-1e</td>\n",
              "      <td>44.0</td>\n",
              "      <td>False</td>\n",
              "      <td>22.0</td>\n",
              "      <td>1.0</td>\n",
              "      <td>0.0</td>\n",
              "      <td>864.0</td>\n",
              "      <td>0.0</td>\n",
              "      <td>Elinda Miley</td>\n",
              "    </tr>\n",
              "    <tr>\n",
              "      <th>3</th>\n",
              "      <td>8246</td>\n",
              "      <td>Earth</td>\n",
              "      <td>False</td>\n",
              "      <td>E/577/S</td>\n",
              "      <td>PSO J318.5-22</td>\n",
              "      <td>63.0</td>\n",
              "      <td>False</td>\n",
              "      <td>0.0</td>\n",
              "      <td>0.0</td>\n",
              "      <td>80.0</td>\n",
              "      <td>0.0</td>\n",
              "      <td>2322.0</td>\n",
              "      <td>Karley Goods</td>\n",
              "    </tr>\n",
              "    <tr>\n",
              "      <th>4</th>\n",
              "      <td>2935</td>\n",
              "      <td>Europa</td>\n",
              "      <td>False</td>\n",
              "      <td>B/117/S</td>\n",
              "      <td>55 Cancri e</td>\n",
              "      <td>10.0</td>\n",
              "      <td>False</td>\n",
              "      <td>0.0</td>\n",
              "      <td>0.0</td>\n",
              "      <td>0.0</td>\n",
              "      <td>0.0</td>\n",
              "      <td>0.0</td>\n",
              "      <td>Arkard Sechausive</td>\n",
              "    </tr>\n",
              "  </tbody>\n",
              "</table>\n",
              "</div>\n",
              "      <button class=\"colab-df-convert\" onclick=\"convertToInteractive('df-d0483eb1-0d1a-46a0-a355-e1209dded1c4')\"\n",
              "              title=\"Convert this dataframe to an interactive table.\"\n",
              "              style=\"display:none;\">\n",
              "        \n",
              "  <svg xmlns=\"http://www.w3.org/2000/svg\" height=\"24px\"viewBox=\"0 0 24 24\"\n",
              "       width=\"24px\">\n",
              "    <path d=\"M0 0h24v24H0V0z\" fill=\"none\"/>\n",
              "    <path d=\"M18.56 5.44l.94 2.06.94-2.06 2.06-.94-2.06-.94-.94-2.06-.94 2.06-2.06.94zm-11 1L8.5 8.5l.94-2.06 2.06-.94-2.06-.94L8.5 2.5l-.94 2.06-2.06.94zm10 10l.94 2.06.94-2.06 2.06-.94-2.06-.94-.94-2.06-.94 2.06-2.06.94z\"/><path d=\"M17.41 7.96l-1.37-1.37c-.4-.4-.92-.59-1.43-.59-.52 0-1.04.2-1.43.59L10.3 9.45l-7.72 7.72c-.78.78-.78 2.05 0 2.83L4 21.41c.39.39.9.59 1.41.59.51 0 1.02-.2 1.41-.59l7.78-7.78 2.81-2.81c.8-.78.8-2.07 0-2.86zM5.41 20L4 18.59l7.72-7.72 1.47 1.35L5.41 20z\"/>\n",
              "  </svg>\n",
              "      </button>\n",
              "      \n",
              "  <style>\n",
              "    .colab-df-container {\n",
              "      display:flex;\n",
              "      flex-wrap:wrap;\n",
              "      gap: 12px;\n",
              "    }\n",
              "\n",
              "    .colab-df-convert {\n",
              "      background-color: #E8F0FE;\n",
              "      border: none;\n",
              "      border-radius: 50%;\n",
              "      cursor: pointer;\n",
              "      display: none;\n",
              "      fill: #1967D2;\n",
              "      height: 32px;\n",
              "      padding: 0 0 0 0;\n",
              "      width: 32px;\n",
              "    }\n",
              "\n",
              "    .colab-df-convert:hover {\n",
              "      background-color: #E2EBFA;\n",
              "      box-shadow: 0px 1px 2px rgba(60, 64, 67, 0.3), 0px 1px 3px 1px rgba(60, 64, 67, 0.15);\n",
              "      fill: #174EA6;\n",
              "    }\n",
              "\n",
              "    [theme=dark] .colab-df-convert {\n",
              "      background-color: #3B4455;\n",
              "      fill: #D2E3FC;\n",
              "    }\n",
              "\n",
              "    [theme=dark] .colab-df-convert:hover {\n",
              "      background-color: #434B5C;\n",
              "      box-shadow: 0px 1px 3px 1px rgba(0, 0, 0, 0.15);\n",
              "      filter: drop-shadow(0px 1px 2px rgba(0, 0, 0, 0.3));\n",
              "      fill: #FFFFFF;\n",
              "    }\n",
              "  </style>\n",
              "\n",
              "      <script>\n",
              "        const buttonEl =\n",
              "          document.querySelector('#df-d0483eb1-0d1a-46a0-a355-e1209dded1c4 button.colab-df-convert');\n",
              "        buttonEl.style.display =\n",
              "          google.colab.kernel.accessAllowed ? 'block' : 'none';\n",
              "\n",
              "        async function convertToInteractive(key) {\n",
              "          const element = document.querySelector('#df-d0483eb1-0d1a-46a0-a355-e1209dded1c4');\n",
              "          const dataTable =\n",
              "            await google.colab.kernel.invokeFunction('convertToInteractive',\n",
              "                                                     [key], {});\n",
              "          if (!dataTable) return;\n",
              "\n",
              "          const docLinkHtml = 'Like what you see? Visit the ' +\n",
              "            '<a target=\"_blank\" href=https://colab.research.google.com/notebooks/data_table.ipynb>data table notebook</a>'\n",
              "            + ' to learn more about interactive tables.';\n",
              "          element.innerHTML = '';\n",
              "          dataTable['output_type'] = 'display_data';\n",
              "          await google.colab.output.renderOutput(dataTable, element);\n",
              "          const docLink = document.createElement('div');\n",
              "          docLink.innerHTML = docLinkHtml;\n",
              "          element.appendChild(docLink);\n",
              "        }\n",
              "      </script>\n",
              "    </div>\n",
              "  </div>\n",
              "  "
            ]
          },
          "metadata": {},
          "execution_count": 32
        },
        {
          "output_type": "stream",
          "name": "stdout",
          "text": [
            "time: 18.7 ms (started: 2022-08-15 01:09:37 +00:00)\n"
          ]
        }
      ],
      "source": [
        "test_df.head()"
      ]
    },
    {
      "cell_type": "code",
      "source": [
        "# Transformaciones sobre el DATASET PARA ENVIAR\n",
        "#Subdividimos la columna Cabin para poder utilizar sus características como variables independientes\n",
        "test_df[['Piso','Num', \"Lado\"]] = test_df.Cabin.str.split('/',expand=True)\n",
        "\n",
        "# Convertimos las variables a un dtype conveniente\n",
        "test_df[[\"HomePlanet\", \"CryoSleep\", \"Destination\", \"VIP\", 'Piso', \"Lado\"]]  = test_df[[\"HomePlanet\", \"CryoSleep\", \"Destination\", \"VIP\", 'Piso', \"Lado\"]].astype(\"category\")\n",
        "\n",
        "# Imputamos valores faltantes en las columnas categóricas y booleanas con el valor más frecuente.\n",
        "imputer = SimpleImputer(strategy=\"most_frequent\")\n",
        "test_df[[\"HomePlanet\", \"Destination\", 'Piso', \"Lado\", \"CryoSleep\", \"VIP\"]] = imputer.fit_transform(test_df[[\"HomePlanet\", \"Destination\", 'Piso', \"Lado\", \"CryoSleep\", \"VIP\"]])\n",
        "# Imputamos valores faltantes en las columnas cuantitativas con KNN. \n",
        "Qcols = ['Age', 'RoomService', 'FoodCourt', 'ShoppingMall', 'Spa', 'VRDeck']\n",
        "imputerKNN = KNNImputer()\n",
        "test_df[Qcols] = imputerKNN.fit_transform(test_df[Qcols])\n",
        "\n",
        "# Escalamiento\n",
        "escalador = preprocessing.RobustScaler()\n",
        "test_df[['Age', 'RoomService', 'FoodCourt', 'ShoppingMall', 'Spa', 'VRDeck']] = escalador.fit_transform(test_df[['Age', 'RoomService', 'FoodCourt', 'ShoppingMall', 'Spa', 'VRDeck']])\n",
        "\n",
        "# Hot encoding a las categóricas\n",
        "test_df_hot = pd.get_dummies(data=test_df, columns=[\"HomePlanet\", \"Destination\", 'Piso', \"Lado\"]).drop(columns=['Cabin', 'Num', 'Name'])\n",
        "\n",
        "test_df_hot = test_df_hot.drop(columns=['Piso_T']) #Tuve que eliminar esta columna porque estaba ausente en el conjunto de test\n",
        "print(test_df_hot.shape)\n",
        "test_df_hot[[\"CryoSleep\", \"VIP\"]] = test_df_hot[[\"CryoSleep\", \"VIP\"]].astype(\"float64\")"
      ],
      "metadata": {
        "colab": {
          "base_uri": "https://localhost:8080/"
        },
        "id": "P3DVlraoeIuP",
        "outputId": "a769a167-5fe1-4c26-a3fe-f041a46dd3d1"
      },
      "execution_count": null,
      "outputs": [
        {
          "output_type": "stream",
          "name": "stdout",
          "text": [
            "(870, 24)\n",
            "time: 103 ms (started: 2022-08-15 01:09:37 +00:00)\n"
          ]
        }
      ]
    },
    {
      "cell_type": "markdown",
      "metadata": {
        "id": "CmjU816quXSQ"
      },
      "source": [
        "Para poder evaluar nuestra predicción los datos de prueba deben tener exactamente el mismo tratamiento que los datos de entrenamiento"
      ]
    },
    {
      "cell_type": "markdown",
      "metadata": {
        "id": "p00Y57myuXSQ"
      },
      "source": [
        "Generamos la salida"
      ]
    },
    {
      "cell_type": "code",
      "execution_count": null,
      "metadata": {
        "id": "wh3tcdZQuXSQ",
        "colab": {
          "base_uri": "https://localhost:8080/"
        },
        "outputId": "b93a090e-a66f-49bf-9754-8f1e3ec1f283"
      },
      "outputs": [
        {
          "output_type": "stream",
          "name": "stdout",
          "text": [
            "time: 8.03 ms (started: 2022-08-15 01:09:37 +00:00)\n"
          ]
        }
      ],
      "source": [
        "test_df_cols = test_df_hot.drop(columns=[\"PassengerId\"])\n",
        "test_id = test_df_hot['PassengerId']"
      ]
    },
    {
      "cell_type": "code",
      "source": [
        "test_pred = BestCaro.predict(test_df_hot)"
      ],
      "metadata": {
        "id": "ir-nptJHiJTi",
        "colab": {
          "base_uri": "https://localhost:8080/"
        },
        "outputId": "538e46e9-1562-490d-a075-1dd23eb47ffc"
      },
      "execution_count": null,
      "outputs": [
        {
          "output_type": "stream",
          "name": "stdout",
          "text": [
            "time: 63.9 ms (started: 2022-08-15 01:09:37 +00:00)\n"
          ]
        }
      ]
    },
    {
      "cell_type": "code",
      "execution_count": null,
      "metadata": {
        "id": "VQXsawFcuXSR",
        "colab": {
          "base_uri": "https://localhost:8080/"
        },
        "outputId": "fa9e53b5-9cf4-4716-81cf-ce2d844914eb"
      },
      "outputs": [
        {
          "output_type": "stream",
          "name": "stdout",
          "text": [
            "time: 29.9 ms (started: 2022-08-15 01:09:37 +00:00)\n"
          ]
        }
      ],
      "source": [
        "submission = pd.DataFrame(list(zip(test_id, test_pred)), columns=[\"PassengerId\", \"Transported\"])\n",
        "submission.to_csv(\"submission_G32_SGO.csv\", header=True, index=False)"
      ]
    },
    {
      "cell_type": "code",
      "source": [
        "submission.head()"
      ],
      "metadata": {
        "colab": {
          "base_uri": "https://localhost:8080/",
          "height": 224
        },
        "id": "_wmZGWdNiq1e",
        "outputId": "9554ce42-a008-4ef1-c4fb-94bf3d526b57"
      },
      "execution_count": null,
      "outputs": [
        {
          "output_type": "execute_result",
          "data": {
            "text/plain": [
              "   PassengerId  Transported\n",
              "0          415            1\n",
              "1         8663            1\n",
              "2         4524            0\n",
              "3         8246            0\n",
              "4         2935            1"
            ],
            "text/html": [
              "\n",
              "  <div id=\"df-ada677e2-c806-4b2b-a61e-312dc641f2f7\">\n",
              "    <div class=\"colab-df-container\">\n",
              "      <div>\n",
              "<style scoped>\n",
              "    .dataframe tbody tr th:only-of-type {\n",
              "        vertical-align: middle;\n",
              "    }\n",
              "\n",
              "    .dataframe tbody tr th {\n",
              "        vertical-align: top;\n",
              "    }\n",
              "\n",
              "    .dataframe thead th {\n",
              "        text-align: right;\n",
              "    }\n",
              "</style>\n",
              "<table border=\"1\" class=\"dataframe\">\n",
              "  <thead>\n",
              "    <tr style=\"text-align: right;\">\n",
              "      <th></th>\n",
              "      <th>PassengerId</th>\n",
              "      <th>Transported</th>\n",
              "    </tr>\n",
              "  </thead>\n",
              "  <tbody>\n",
              "    <tr>\n",
              "      <th>0</th>\n",
              "      <td>415</td>\n",
              "      <td>1</td>\n",
              "    </tr>\n",
              "    <tr>\n",
              "      <th>1</th>\n",
              "      <td>8663</td>\n",
              "      <td>1</td>\n",
              "    </tr>\n",
              "    <tr>\n",
              "      <th>2</th>\n",
              "      <td>4524</td>\n",
              "      <td>0</td>\n",
              "    </tr>\n",
              "    <tr>\n",
              "      <th>3</th>\n",
              "      <td>8246</td>\n",
              "      <td>0</td>\n",
              "    </tr>\n",
              "    <tr>\n",
              "      <th>4</th>\n",
              "      <td>2935</td>\n",
              "      <td>1</td>\n",
              "    </tr>\n",
              "  </tbody>\n",
              "</table>\n",
              "</div>\n",
              "      <button class=\"colab-df-convert\" onclick=\"convertToInteractive('df-ada677e2-c806-4b2b-a61e-312dc641f2f7')\"\n",
              "              title=\"Convert this dataframe to an interactive table.\"\n",
              "              style=\"display:none;\">\n",
              "        \n",
              "  <svg xmlns=\"http://www.w3.org/2000/svg\" height=\"24px\"viewBox=\"0 0 24 24\"\n",
              "       width=\"24px\">\n",
              "    <path d=\"M0 0h24v24H0V0z\" fill=\"none\"/>\n",
              "    <path d=\"M18.56 5.44l.94 2.06.94-2.06 2.06-.94-2.06-.94-.94-2.06-.94 2.06-2.06.94zm-11 1L8.5 8.5l.94-2.06 2.06-.94-2.06-.94L8.5 2.5l-.94 2.06-2.06.94zm10 10l.94 2.06.94-2.06 2.06-.94-2.06-.94-.94-2.06-.94 2.06-2.06.94z\"/><path d=\"M17.41 7.96l-1.37-1.37c-.4-.4-.92-.59-1.43-.59-.52 0-1.04.2-1.43.59L10.3 9.45l-7.72 7.72c-.78.78-.78 2.05 0 2.83L4 21.41c.39.39.9.59 1.41.59.51 0 1.02-.2 1.41-.59l7.78-7.78 2.81-2.81c.8-.78.8-2.07 0-2.86zM5.41 20L4 18.59l7.72-7.72 1.47 1.35L5.41 20z\"/>\n",
              "  </svg>\n",
              "      </button>\n",
              "      \n",
              "  <style>\n",
              "    .colab-df-container {\n",
              "      display:flex;\n",
              "      flex-wrap:wrap;\n",
              "      gap: 12px;\n",
              "    }\n",
              "\n",
              "    .colab-df-convert {\n",
              "      background-color: #E8F0FE;\n",
              "      border: none;\n",
              "      border-radius: 50%;\n",
              "      cursor: pointer;\n",
              "      display: none;\n",
              "      fill: #1967D2;\n",
              "      height: 32px;\n",
              "      padding: 0 0 0 0;\n",
              "      width: 32px;\n",
              "    }\n",
              "\n",
              "    .colab-df-convert:hover {\n",
              "      background-color: #E2EBFA;\n",
              "      box-shadow: 0px 1px 2px rgba(60, 64, 67, 0.3), 0px 1px 3px 1px rgba(60, 64, 67, 0.15);\n",
              "      fill: #174EA6;\n",
              "    }\n",
              "\n",
              "    [theme=dark] .colab-df-convert {\n",
              "      background-color: #3B4455;\n",
              "      fill: #D2E3FC;\n",
              "    }\n",
              "\n",
              "    [theme=dark] .colab-df-convert:hover {\n",
              "      background-color: #434B5C;\n",
              "      box-shadow: 0px 1px 3px 1px rgba(0, 0, 0, 0.15);\n",
              "      filter: drop-shadow(0px 1px 2px rgba(0, 0, 0, 0.3));\n",
              "      fill: #FFFFFF;\n",
              "    }\n",
              "  </style>\n",
              "\n",
              "      <script>\n",
              "        const buttonEl =\n",
              "          document.querySelector('#df-ada677e2-c806-4b2b-a61e-312dc641f2f7 button.colab-df-convert');\n",
              "        buttonEl.style.display =\n",
              "          google.colab.kernel.accessAllowed ? 'block' : 'none';\n",
              "\n",
              "        async function convertToInteractive(key) {\n",
              "          const element = document.querySelector('#df-ada677e2-c806-4b2b-a61e-312dc641f2f7');\n",
              "          const dataTable =\n",
              "            await google.colab.kernel.invokeFunction('convertToInteractive',\n",
              "                                                     [key], {});\n",
              "          if (!dataTable) return;\n",
              "\n",
              "          const docLinkHtml = 'Like what you see? Visit the ' +\n",
              "            '<a target=\"_blank\" href=https://colab.research.google.com/notebooks/data_table.ipynb>data table notebook</a>'\n",
              "            + ' to learn more about interactive tables.';\n",
              "          element.innerHTML = '';\n",
              "          dataTable['output_type'] = 'display_data';\n",
              "          await google.colab.output.renderOutput(dataTable, element);\n",
              "          const docLink = document.createElement('div');\n",
              "          docLink.innerHTML = docLinkHtml;\n",
              "          element.appendChild(docLink);\n",
              "        }\n",
              "      </script>\n",
              "    </div>\n",
              "  </div>\n",
              "  "
            ]
          },
          "metadata": {},
          "execution_count": 37
        },
        {
          "output_type": "stream",
          "name": "stdout",
          "text": [
            "time: 15.5 ms (started: 2022-08-15 01:09:37 +00:00)\n"
          ]
        }
      ]
    }
  ],
  "metadata": {
    "kernelspec": {
      "display_name": "Python 3.9.13 ('diplodatos')",
      "language": "python",
      "name": "python3"
    },
    "language_info": {
      "codemirror_mode": {
        "name": "ipython",
        "version": 3
      },
      "file_extension": ".py",
      "mimetype": "text/x-python",
      "name": "python",
      "nbconvert_exporter": "python",
      "pygments_lexer": "ipython3",
      "version": "3.9.13"
    },
    "orig_nbformat": 4,
    "vscode": {
      "interpreter": {
        "hash": "e6b65fc4380ac725e50a330b268a227bbdbe91bddfffbf68e5f7ce9848a2b8d5"
      }
    },
    "colab": {
      "name": "Practico_An_Sup_SGO_v8.ipynb",
      "provenance": [],
      "include_colab_link": true
    }
  },
  "nbformat": 4,
  "nbformat_minor": 0
}